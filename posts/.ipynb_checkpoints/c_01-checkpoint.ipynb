{
 "cells": [
  {
   "cell_type": "raw",
   "id": "fd254c29-5db9-4d2f-8fbc-5b947d2881a9",
   "metadata": {
    "tags": [],
    "vscode": {
     "languageId": "raw"
    }
   },
   "source": [
    "---\n",
    "title: \"1. 승강기안전 인증 현황\"\n",
    "author: \"sw1kwon\"\n",
    "date: \"05/24/2025\"\n",
    "draft: false\n",
    "---"
   ]
  },
  {
   "cell_type": "markdown",
   "id": "a9bf9d51-1f5b-4ab3-bd8e-a02f04135a79",
   "metadata": {},
   "source": [
    "# 승강기안전 인증 현황"
   ]
  },
  {
   "cell_type": "markdown",
   "id": "97ee867d-3676-47c3-8df6-b59299f34b00",
   "metadata": {},
   "source": [
    "```\n",
    "한국승강기안전공단_승강기안전 인증 현황\n",
    "\n",
    "이 데이터는 한국승강기안전공단에서 제공한 승강기 안전 인증 현황을 정리한 자료로, 총 2,141건의 인증 이력을 포함하고 있습니다. 주요 컬럼으로는 안전인증번호, 인증업체코드, 업체명, 주소, 인증서 발행일, 모델명, 적용 안전 기준, 인증 상태, 인증 품목명, 인증 구분, 제조국가 등이 있습니다. 이 데이터는 엘리베이터 및 에스컬레이터와 같은 승강기 설비가 국내 안전 기준을 충족했는지 확인할 수 있는 중요한 정보로, 제조 국가부터 모델 구분, 인증 상태까지 다양한 정보를 통해 안전성과 품질을 검토할 수 있습니다. 특히 제조국가는 주로 한국과 중국으로 나뉘며, 인증 상태로는 '반납' 등의 이력이 있어, 시간에 따라 상태가 변경될 수 있음을 보여줍니다.\n",
    "\n",
    "https://www.data.go.kr/data/15039131/fileData.do\n",
    "```"
   ]
  },
  {
   "cell_type": "markdown",
   "id": "40eaac2b-3446-4ffb-9afa-bb3c9097c0ae",
   "metadata": {
    "id": "y1FSkQh1__Qn"
   },
   "source": [
    "# 1. Data 확인"
   ]
  },
  {
   "cell_type": "code",
   "execution_count": 1,
   "id": "d92a5ade-20f0-4266-a465-2239122df33d",
   "metadata": {},
   "outputs": [],
   "source": [
    "import pandas as pd"
   ]
  },
  {
   "cell_type": "markdown",
   "id": "af192f38-6d75-4d66-8113-e00e7da2fd7e",
   "metadata": {
    "id": "i6do7oT2AJX3"
   },
   "source": [
    "## Load Data"
   ]
  },
  {
   "cell_type": "code",
   "execution_count": 2,
   "id": "196c2dec-6f33-4a6a-b27b-3032f342bc16",
   "metadata": {},
   "outputs": [],
   "source": [
    "url = \"https://raw.githubusercontent.com/sw1kwon/KESA/refs/heads/main/data/c_01.csv\"\n",
    "df = pd.read_csv(url)"
   ]
  },
  {
   "cell_type": "code",
   "execution_count": 3,
   "id": "84f05324-9fb9-42c9-bb9c-dabc393ef7df",
   "metadata": {},
   "outputs": [
    {
     "data": {
      "text/html": [
       "<div>\n",
       "<style scoped>\n",
       "    .dataframe tbody tr th:only-of-type {\n",
       "        vertical-align: middle;\n",
       "    }\n",
       "\n",
       "    .dataframe tbody tr th {\n",
       "        vertical-align: top;\n",
       "    }\n",
       "\n",
       "    .dataframe thead th {\n",
       "        text-align: right;\n",
       "    }\n",
       "</style>\n",
       "<table border=\"1\" class=\"dataframe\">\n",
       "  <thead>\n",
       "    <tr style=\"text-align: right;\">\n",
       "      <th></th>\n",
       "      <th>안전인증번호</th>\n",
       "      <th>인증업체코드</th>\n",
       "      <th>업체명</th>\n",
       "      <th>인증업체주소</th>\n",
       "      <th>접수번호</th>\n",
       "      <th>인증서발행일</th>\n",
       "      <th>적용안전기준</th>\n",
       "      <th>인증서상태</th>\n",
       "      <th>모델명</th>\n",
       "      <th>파생모델명</th>\n",
       "      <th>인증품목명</th>\n",
       "      <th>인증구분</th>\n",
       "      <th>제조국가</th>\n",
       "    </tr>\n",
       "  </thead>\n",
       "  <tbody>\n",
       "    <tr>\n",
       "      <th>0</th>\n",
       "      <td>ABB73-R001-19001</td>\n",
       "      <td>919971182</td>\n",
       "      <td>삼정엘리베이터</td>\n",
       "      <td>서울특별시 양천구 목동서로 301-5</td>\n",
       "      <td>C400120190503001</td>\n",
       "      <td>2019-06-05</td>\n",
       "      <td>(종전)「승강기 안전검사기준」별표 3</td>\n",
       "      <td>반납</td>\n",
       "      <td>K300A</td>\n",
       "      <td>NaN</td>\n",
       "      <td>에스컬레이터 &gt; 에스컬레이터 &gt; 일반형</td>\n",
       "      <td>모델</td>\n",
       "      <td>중국</td>\n",
       "    </tr>\n",
       "    <tr>\n",
       "      <th>1</th>\n",
       "      <td>ABB73-R001-19002</td>\n",
       "      <td>919971182</td>\n",
       "      <td>삼정엘리베이터</td>\n",
       "      <td>서울특별시 양천구 목동서로 301-5</td>\n",
       "      <td>C400120190503002</td>\n",
       "      <td>2019-06-05</td>\n",
       "      <td>(종전)「승강기 안전검사기준」별표 3</td>\n",
       "      <td>반납</td>\n",
       "      <td>K200</td>\n",
       "      <td>NaN</td>\n",
       "      <td>에스컬레이터 &gt; 에스컬레이터 &gt; 일반형</td>\n",
       "      <td>모델</td>\n",
       "      <td>중국</td>\n",
       "    </tr>\n",
       "    <tr>\n",
       "      <th>2</th>\n",
       "      <td>ABA71-K001-19001</td>\n",
       "      <td>919920034</td>\n",
       "      <td>티케이엘리베이터코리아</td>\n",
       "      <td>충청남도 천안시 서북구 입장면 연곡길 235</td>\n",
       "      <td>C400120190430002</td>\n",
       "      <td>2019-07-10</td>\n",
       "      <td>(종전)「승강기 안전검사기준」별표 1</td>\n",
       "      <td>반납</td>\n",
       "      <td>Enta</td>\n",
       "      <td>NaN</td>\n",
       "      <td>엘리베이터 &gt; 전기식 엘리베이터 &gt; 일반형</td>\n",
       "      <td>모델</td>\n",
       "      <td>한국</td>\n",
       "    </tr>\n",
       "    <tr>\n",
       "      <th>3</th>\n",
       "      <td>ABA71-K001-19001</td>\n",
       "      <td>919920034</td>\n",
       "      <td>티케이엘리베이터코리아</td>\n",
       "      <td>충청남도 천안시 서북구 입장면 연곡길 235</td>\n",
       "      <td>C400120200506100</td>\n",
       "      <td>2019-07-10</td>\n",
       "      <td>(종전)「승강기 안전검사기준」별표 1</td>\n",
       "      <td>반납</td>\n",
       "      <td>Enta</td>\n",
       "      <td>NaN</td>\n",
       "      <td>엘리베이터 &gt; 전기식 엘리베이터 &gt; 일반형</td>\n",
       "      <td>모델</td>\n",
       "      <td>한국</td>\n",
       "    </tr>\n",
       "    <tr>\n",
       "      <th>4</th>\n",
       "      <td>ABA71-K001-19001</td>\n",
       "      <td>919920034</td>\n",
       "      <td>티케이엘리베이터코리아</td>\n",
       "      <td>충청남도 천안시 서북구 입장면 연곡길 235</td>\n",
       "      <td>C400120200828100</td>\n",
       "      <td>2019-07-10</td>\n",
       "      <td>(종전)「승강기 안전검사기준」별표 1</td>\n",
       "      <td>반납</td>\n",
       "      <td>Enta</td>\n",
       "      <td>NaN</td>\n",
       "      <td>엘리베이터 &gt; 전기식 엘리베이터 &gt; 일반형</td>\n",
       "      <td>모델</td>\n",
       "      <td>한국</td>\n",
       "    </tr>\n",
       "  </tbody>\n",
       "</table>\n",
       "</div>"
      ],
      "text/plain": [
       "             안전인증번호     인증업체코드          업체명                    인증업체주소  \\\n",
       "0  ABB73-R001-19001  919971182      삼정엘리베이터      서울특별시 양천구 목동서로 301-5   \n",
       "1  ABB73-R001-19002  919971182      삼정엘리베이터      서울특별시 양천구 목동서로 301-5   \n",
       "2  ABA71-K001-19001  919920034  티케이엘리베이터코리아  충청남도 천안시 서북구 입장면 연곡길 235   \n",
       "3  ABA71-K001-19001  919920034  티케이엘리베이터코리아  충청남도 천안시 서북구 입장면 연곡길 235   \n",
       "4  ABA71-K001-19001  919920034  티케이엘리베이터코리아  충청남도 천안시 서북구 입장면 연곡길 235   \n",
       "\n",
       "               접수번호      인증서발행일                적용안전기준 인증서상태    모델명 파생모델명  \\\n",
       "0  C400120190503001  2019-06-05  (종전)「승강기 안전검사기준」별표 3    반납  K300A   NaN   \n",
       "1  C400120190503002  2019-06-05  (종전)「승강기 안전검사기준」별표 3    반납   K200   NaN   \n",
       "2  C400120190430002  2019-07-10  (종전)「승강기 안전검사기준」별표 1    반납   Enta   NaN   \n",
       "3  C400120200506100  2019-07-10  (종전)「승강기 안전검사기준」별표 1    반납   Enta   NaN   \n",
       "4  C400120200828100  2019-07-10  (종전)「승강기 안전검사기준」별표 1    반납   Enta   NaN   \n",
       "\n",
       "                     인증품목명 인증구분 제조국가  \n",
       "0    에스컬레이터 > 에스컬레이터 > 일반형   모델   중국  \n",
       "1    에스컬레이터 > 에스컬레이터 > 일반형   모델   중국  \n",
       "2  엘리베이터 > 전기식 엘리베이터 > 일반형   모델   한국  \n",
       "3  엘리베이터 > 전기식 엘리베이터 > 일반형   모델   한국  \n",
       "4  엘리베이터 > 전기식 엘리베이터 > 일반형   모델   한국  "
      ]
     },
     "execution_count": 3,
     "metadata": {},
     "output_type": "execute_result"
    }
   ],
   "source": [
    "df.head()"
   ]
  },
  {
   "cell_type": "markdown",
   "id": "7410f79a-d98f-4b97-8d6b-1d68feb15263",
   "metadata": {
    "id": "_lpE2G9CALx3"
   },
   "source": [
    "## 데이터 구조 확인"
   ]
  },
  {
   "cell_type": "code",
   "execution_count": 4,
   "id": "49a1824d-1d36-4d32-bef2-f8c48f51771a",
   "metadata": {
    "colab": {
     "base_uri": "https://localhost:8080/"
    },
    "id": "qG1XA2g_xUFn",
    "outputId": "13d5330a-017a-4090-d6a7-b69de6265d2a"
   },
   "outputs": [
    {
     "data": {
      "text/plain": [
       "(2141, 13)"
      ]
     },
     "execution_count": 4,
     "metadata": {},
     "output_type": "execute_result"
    }
   ],
   "source": [
    "df.shape"
   ]
  },
  {
   "cell_type": "code",
   "execution_count": 16,
   "id": "f8b233b4-d01e-494a-a921-3342b1b3cc62",
   "metadata": {
    "colab": {
     "base_uri": "https://localhost:8080/"
    },
    "id": "3DCHf1e2xLBZ",
    "outputId": "bcc5790b-7090-42f0-caa6-10de3a987301"
   },
   "outputs": [
    {
     "name": "stdout",
     "output_type": "stream",
     "text": [
      "<class 'pandas.core.frame.DataFrame'>\n",
      "RangeIndex: 2141 entries, 0 to 2140\n",
      "Data columns (total 13 columns):\n",
      " #   Column  Non-Null Count  Dtype \n",
      "---  ------  --------------  ----- \n",
      " 0   안전인증번호  2141 non-null   object\n",
      " 1   인증업체코드  1618 non-null   object\n",
      " 2   업체명     2141 non-null   object\n",
      " 3   인증업체주소  2141 non-null   object\n",
      " 4   접수번호    2141 non-null   object\n",
      " 5   인증서발행일  2141 non-null   object\n",
      " 6   적용안전기준  2141 non-null   object\n",
      " 7   인증서상태   2141 non-null   object\n",
      " 8   모델명     2141 non-null   object\n",
      " 9   파생모델명   180 non-null    object\n",
      " 10  인증품목명   2141 non-null   object\n",
      " 11  인증구분    2141 non-null   object\n",
      " 12  제조국가    2141 non-null   object\n",
      "dtypes: object(13)\n",
      "memory usage: 217.6+ KB\n"
     ]
    }
   ],
   "source": [
    "# 데이터 구조 파악\n",
    "# object 문자형\n",
    "# int/float 수치형\n",
    "df.info()"
   ]
  },
  {
   "cell_type": "code",
   "execution_count": 6,
   "id": "9affb02e-6195-4ffa-9220-dbb3262ba9f7",
   "metadata": {
    "colab": {
     "base_uri": "https://localhost:8080/",
     "height": 613
    },
    "id": "ZYEOqRhjvZN-",
    "outputId": "f14b77fb-21c3-435e-a4c3-d2e834119099"
   },
   "outputs": [
    {
     "data": {
      "text/html": [
       "<div>\n",
       "<style scoped>\n",
       "    .dataframe tbody tr th:only-of-type {\n",
       "        vertical-align: middle;\n",
       "    }\n",
       "\n",
       "    .dataframe tbody tr th {\n",
       "        vertical-align: top;\n",
       "    }\n",
       "\n",
       "    .dataframe thead th {\n",
       "        text-align: right;\n",
       "    }\n",
       "</style>\n",
       "<table border=\"1\" class=\"dataframe\">\n",
       "  <thead>\n",
       "    <tr style=\"text-align: right;\">\n",
       "      <th></th>\n",
       "      <th>count</th>\n",
       "      <th>unique</th>\n",
       "      <th>top</th>\n",
       "      <th>freq</th>\n",
       "    </tr>\n",
       "  </thead>\n",
       "  <tbody>\n",
       "    <tr>\n",
       "      <th>안전인증번호</th>\n",
       "      <td>2141</td>\n",
       "      <td>335</td>\n",
       "      <td>ABA71-H005-20003</td>\n",
       "      <td>21</td>\n",
       "    </tr>\n",
       "    <tr>\n",
       "      <th>인증업체코드</th>\n",
       "      <td>1618</td>\n",
       "      <td>85</td>\n",
       "      <td>919920035</td>\n",
       "      <td>267</td>\n",
       "    </tr>\n",
       "    <tr>\n",
       "      <th>업체명</th>\n",
       "      <td>2141</td>\n",
       "      <td>90</td>\n",
       "      <td>현대엘리베이터</td>\n",
       "      <td>334</td>\n",
       "    </tr>\n",
       "    <tr>\n",
       "      <th>인증업체주소</th>\n",
       "      <td>2141</td>\n",
       "      <td>101</td>\n",
       "      <td>충청남도 천안시 서북구 입장면 연곡길 235</td>\n",
       "      <td>251</td>\n",
       "    </tr>\n",
       "    <tr>\n",
       "      <th>접수번호</th>\n",
       "      <td>2141</td>\n",
       "      <td>2135</td>\n",
       "      <td>B20231206103</td>\n",
       "      <td>3</td>\n",
       "    </tr>\n",
       "    <tr>\n",
       "      <th>인증서발행일</th>\n",
       "      <td>2141</td>\n",
       "      <td>760</td>\n",
       "      <td>2021-08-05</td>\n",
       "      <td>23</td>\n",
       "    </tr>\n",
       "    <tr>\n",
       "      <th>적용안전기준</th>\n",
       "      <td>2141</td>\n",
       "      <td>6</td>\n",
       "      <td>승강기안전기준 별표 22</td>\n",
       "      <td>1759</td>\n",
       "    </tr>\n",
       "    <tr>\n",
       "      <th>인증서상태</th>\n",
       "      <td>2141</td>\n",
       "      <td>3</td>\n",
       "      <td>회수</td>\n",
       "      <td>1527</td>\n",
       "    </tr>\n",
       "    <tr>\n",
       "      <th>모델명</th>\n",
       "      <td>2141</td>\n",
       "      <td>314</td>\n",
       "      <td>WBLX-GT-3</td>\n",
       "      <td>25</td>\n",
       "    </tr>\n",
       "    <tr>\n",
       "      <th>파생모델명</th>\n",
       "      <td>180</td>\n",
       "      <td>28</td>\n",
       "      <td>HTEL-P33</td>\n",
       "      <td>14</td>\n",
       "    </tr>\n",
       "    <tr>\n",
       "      <th>인증품목명</th>\n",
       "      <td>2141</td>\n",
       "      <td>8</td>\n",
       "      <td>엘리베이터 &gt; 전기식 엘리베이터 &gt; 일반형</td>\n",
       "      <td>2001</td>\n",
       "    </tr>\n",
       "    <tr>\n",
       "      <th>인증구분</th>\n",
       "      <td>2141</td>\n",
       "      <td>1</td>\n",
       "      <td>모델</td>\n",
       "      <td>2141</td>\n",
       "    </tr>\n",
       "    <tr>\n",
       "      <th>제조국가</th>\n",
       "      <td>2141</td>\n",
       "      <td>3</td>\n",
       "      <td>한국</td>\n",
       "      <td>2020</td>\n",
       "    </tr>\n",
       "  </tbody>\n",
       "</table>\n",
       "</div>"
      ],
      "text/plain": [
       "       count unique                       top  freq\n",
       "안전인증번호  2141    335          ABA71-H005-20003    21\n",
       "인증업체코드  1618     85                 919920035   267\n",
       "업체명     2141     90                   현대엘리베이터   334\n",
       "인증업체주소  2141    101  충청남도 천안시 서북구 입장면 연곡길 235   251\n",
       "접수번호    2141   2135              B20231206103     3\n",
       "인증서발행일  2141    760                2021-08-05    23\n",
       "적용안전기준  2141      6             승강기안전기준 별표 22  1759\n",
       "인증서상태   2141      3                        회수  1527\n",
       "모델명     2141    314                 WBLX-GT-3    25\n",
       "파생모델명    180     28                  HTEL-P33    14\n",
       "인증품목명   2141      8   엘리베이터 > 전기식 엘리베이터 > 일반형  2001\n",
       "인증구분    2141      1                        모델  2141\n",
       "제조국가    2141      3                        한국  2020"
      ]
     },
     "execution_count": 6,
     "metadata": {},
     "output_type": "execute_result"
    }
   ],
   "source": [
    "# 문자형(범주형) 데이터 확인\n",
    "df.describe(include=['object']).T"
   ]
  },
  {
   "cell_type": "code",
   "execution_count": 15,
   "id": "ef1dc5f4-f99c-4866-a00c-204f5bd57094",
   "metadata": {
    "colab": {
     "base_uri": "https://localhost:8080/",
     "height": 300
    },
    "id": "LWPh8jtBvZQf",
    "outputId": "17a02a7a-2e24-48a7-9521-b7460b29e29b"
   },
   "outputs": [],
   "source": [
    "# 수치형 데이터 확인\n",
    "# df.describe(include=['int64','float64'])\n",
    "# df.describe(include='number')"
   ]
  },
  {
   "cell_type": "markdown",
   "id": "3f1ec868-95e8-4f58-affd-3719bfccee6c",
   "metadata": {},
   "source": [
    "- 수치형 데이터 없음"
   ]
  },
  {
   "cell_type": "markdown",
   "id": "6868000d-62f4-4450-bb53-0bc991abc36a",
   "metadata": {
    "id": "oBDD1h5fHSa2"
   },
   "source": [
    "# 2. EDA"
   ]
  },
  {
   "cell_type": "markdown",
   "id": "136c7a32-e4e3-4c9f-b6f4-e744710fe1ce",
   "metadata": {
    "id": "oBDD1h5fHSa2"
   },
   "source": [
    "## 1. (결측치) 각 column의 결측값 비율"
   ]
  },
  {
   "cell_type": "code",
   "execution_count": 17,
   "id": "48fad1eb-e18d-49d5-a97a-fd74ea65d152",
   "metadata": {
    "colab": {
     "base_uri": "https://localhost:8080/"
    },
    "id": "b6Hr2nwOV4kX",
    "outputId": "aa1b0f8b-ac1a-423f-a043-9d77bdaa5a2b"
   },
   "outputs": [
    {
     "name": "stdout",
     "output_type": "stream",
     "text": [
      "    Column  MissingRatio\n",
      "0    파생모델명      0.915927\n",
      "1   인증업체코드      0.244278\n",
      "2   안전인증번호      0.000000\n",
      "3   인증업체주소      0.000000\n",
      "4      업체명      0.000000\n",
      "5     접수번호      0.000000\n",
      "6   인증서발행일      0.000000\n",
      "7    인증서상태      0.000000\n",
      "8   적용안전기준      0.000000\n",
      "9      모델명      0.000000\n",
      "10   인증품목명      0.000000\n",
      "11    인증구분      0.000000\n",
      "12    제조국가      0.000000\n"
     ]
    }
   ],
   "source": [
    "# 각 column의 결측값 비율 계산\n",
    "missing_ratio = df.isnull().mean()                  # 각 column의 결측값 비율 계산 (결측 개수 / 전체 row 수)\n",
    "missing_ratio = missing_ratio.sort_values(ascending=False)  # 결측 비율이 높은 순서대로 정렬\n",
    "missing_ratio = missing_ratio.reset_index()         # Series → DataFrame 변환 (인덱스 초기화)\n",
    "missing_ratio.columns = ['Column', 'MissingRatio']\n",
    "print(missing_ratio)"
   ]
  },
  {
   "cell_type": "markdown",
   "id": "d3f94e2c-2106-4750-be59-05f0a96a5d6f",
   "metadata": {},
   "source": [
    "- 파생모델명의 결측값 비율은 매우 높음\n",
    "- 인증업체코드도 결측값 존재"
   ]
  },
  {
   "cell_type": "markdown",
   "id": "c1c65d6b-cd51-4f49-b09a-819f95fcffbf",
   "metadata": {
    "id": "oBDD1h5fHSa2"
   },
   "source": [
    "## 2. (이상치) 각 column별 이상치 확인"
   ]
  },
  {
   "cell_type": "code",
   "execution_count": 12,
   "id": "e13618a3-3e50-479a-8379-dc7048a50cbd",
   "metadata": {
    "colab": {
     "base_uri": "https://localhost:8080/"
    },
    "id": "23LtNlHwXkhl",
    "outputId": "e5571af7-e803-41be-a308-e1000bf57ec3"
   },
   "outputs": [],
   "source": [
    "# # 수치형 변수만 추출\n",
    "# numeric_cols = df.select_dtypes(include=['float64', 'int64']).columns\n",
    "\n",
    "# # 이상치 비율 저장용 리스트\n",
    "# outlier_info = []\n",
    "\n",
    "# # 각 수치형 column에 대해 이상치 비율 계산 (IQR 방식)\n",
    "# for col in numeric_cols:\n",
    "#     Q1 = df[col].quantile(0.25)\n",
    "#     Q3 = df[col].quantile(0.75)\n",
    "#     IQR = Q3 - Q1\n",
    "#     lower = Q1 - 1.5 * IQR\n",
    "#     upper = Q3 + 1.5 * IQR\n",
    "#     outliers = ((df[col] < lower) | (df[col] > upper)).sum()\n",
    "#     outlier_ratio = outliers / df.shape[0]\n",
    "#     outlier_info.append((col, outliers, outlier_ratio))\n",
    "\n",
    "# # 결과 DataFrame 정리\n",
    "# outlier_df = pd.DataFrame(outlier_info, columns=['Column', 'OutlierCount', 'OutlierRatio'])\n",
    "# outlier_df = outlier_df.sort_values(by='OutlierRatio', ascending=False)\n",
    "\n",
    "# print(outlier_df)"
   ]
  },
  {
   "cell_type": "code",
   "execution_count": 13,
   "id": "c2532ec1-7b1d-4869-998f-46149614e7bb",
   "metadata": {
    "colab": {
     "base_uri": "https://localhost:8080/",
     "height": 705
    },
    "id": "0eltJYGCX1B8",
    "outputId": "487c5212-7ca8-4d73-cb9f-4f7a75b12fea"
   },
   "outputs": [],
   "source": [
    "# # 이상치 비율이 높은 상위 n개 변수만 시각화\n",
    "# import seaborn as sns\n",
    "# import matplotlib.pyplot as plt\n",
    "\n",
    "# # 이상치 비율 높은 상위 n개 변수만 선택\n",
    "# top_n = 5\n",
    "# top_outlier_cols = outlier_df.head(top_n)['Column']\n",
    "\n",
    "# # 박스플롯 시각화\n",
    "# plt.figure(figsize=(12, 6))\n",
    "# for i, col in enumerate(top_outlier_cols, 1):\n",
    "#     plt.subplot(1, top_n, i)\n",
    "#     sns.boxplot(y=df[col])\n",
    "#     plt.title(col)\n",
    "#     plt.tight_layout()\n",
    "\n",
    "# plt.show()"
   ]
  },
  {
   "cell_type": "code",
   "execution_count": 14,
   "id": "1c8e5e1c-f1c6-436c-8f88-05e97f0b3f2c",
   "metadata": {
    "colab": {
     "base_uri": "https://localhost:8080/",
     "height": 834
    },
    "id": "PT3wl0Q0Yozs",
    "outputId": "efb37e28-2f96-4829-b021-2089214eec9b"
   },
   "outputs": [],
   "source": [
    "# # 개별 탐색 시 사용 가능한 함수 정의\n",
    "# def plot_box(col):\n",
    "#     sns.boxplot(y=df[col])\n",
    "#     plt.title(f\"Boxplot of {col}\")\n",
    "#     plt.show()\n",
    "\n",
    "# # 예시 사용: plot_box('Column Name')"
   ]
  },
  {
   "cell_type": "markdown",
   "id": "8f484392-23aa-4b01-9cce-b632fe978b8c",
   "metadata": {
    "id": "oBDD1h5fHSa2"
   },
   "source": [
    "## 3. (unique) 각 column의 unique값과 unique값별 빈도"
   ]
  },
  {
   "cell_type": "code",
   "execution_count": 18,
   "id": "f42e24c1-a504-401e-8cc4-0713a6b1053f",
   "metadata": {
    "colab": {
     "base_uri": "https://localhost:8080/"
    },
    "id": "zXo5AZwcZSLG",
    "outputId": "488461f5-bb7c-483f-d2f2-6dc9852dcb8b"
   },
   "outputs": [
    {
     "name": "stdout",
     "output_type": "stream",
     "text": [
      "=== 안전인증번호 ===\n",
      "Unique count: 335\n",
      "                    Count  Ratio (%)\n",
      "안전인증번호                              \n",
      "ABB73-R001-19001        1       0.05\n",
      "ABB73-R001-19002        1       0.05\n",
      "ABA71-K001-19001        6       0.28\n",
      "ABA71-K001-19002       10       0.47\n",
      "ABA71-K001-19003       12       0.56\n",
      "...                   ...        ...\n",
      "ABA71-M010-24001        1       0.05\n",
      "ABA73-M002-24001        1       0.05\n",
      "ABA71-H028-25001        1       0.05\n",
      "ABA71-B004-25001        1       0.05\n",
      "ABA71-H003-25001\\t      2       0.09\n",
      "\n",
      "[335 rows x 2 columns]\n",
      "\n",
      "\n",
      "=== 인증업체코드 ===\n",
      "Unique count: 85\n",
      "           Count  Ratio (%)\n",
      "인증업체코드                     \n",
      "919971182      7       0.33\n",
      "919920034    235      10.98\n",
      "919890001     21       0.98\n",
      "919920075    116       5.42\n",
      "919920035    267      12.47\n",
      "...          ...        ...\n",
      "L              1       0.05\n",
      "E              1       0.05\n",
      "A              1       0.05\n",
      "F              1       0.05\n",
      "R              1       0.05\n",
      "\n",
      "[86 rows x 2 columns]\n",
      "\n",
      "\n",
      "=== 업체명 ===\n",
      "Unique count: 90\n",
      "             Count  Ratio (%)\n",
      "업체명                          \n",
      "삼정엘리베이터          7       0.33\n",
      "티케이엘리베이터코리아    272      12.70\n",
      "쉰들러엘리베이터        23       1.07\n",
      "오티스엘리베이터       154       7.19\n",
      "현대엘리베이터        334      15.60\n",
      "...            ...        ...\n",
      "태성산업             2       0.09\n",
      "한솔엘리베이터          2       0.09\n",
      "좋은엘리베이터          1       0.05\n",
      "케이에스컬레이터         1       0.05\n",
      "세라에스이(주)         1       0.05\n",
      "\n",
      "[90 rows x 2 columns]\n",
      "\n",
      "\n",
      "=== 인증업체주소 ===\n",
      "Unique count: 101\n",
      "                          Count  Ratio (%)\n",
      "인증업체주소                                    \n",
      "서울특별시 양천구 목동서로 301-5          7       0.33\n",
      "충청남도 천안시 서북구 입장면 연곡길 235    251      11.72\n",
      "경기도 시흥시 산기대학로 60             22       1.03\n",
      "서울특별시 영등포구 국제금융로 10         154       7.19\n",
      "경기도 이천시 부발읍 경충대로 2091       137       6.40\n",
      "...                         ...        ...\n",
      "경기도 김포시 하성면 오정동로 120          2       0.09\n",
      "대구광역시 북구 대현로 106              2       0.09\n",
      "부산광역시 수영구 수영로 568             2       0.09\n",
      "부산광역시 강서구 신호산단1로 101          1       0.05\n",
      "경상남도 거창군 남상면 승강기단지3길 9        1       0.05\n",
      "\n",
      "[101 rows x 2 columns]\n",
      "\n",
      "\n",
      "=== 접수번호 ===\n",
      "Unique count: 2135\n",
      "                  Count  Ratio (%)\n",
      "접수번호                              \n",
      "C400120190503001      1       0.05\n",
      "C400120190503002      1       0.05\n",
      "C400120190430002      1       0.05\n",
      "C400120200506100      1       0.05\n",
      "C400120200828100      1       0.05\n",
      "...                 ...        ...\n",
      "B20250122102          1       0.05\n",
      "B20250226101          1       0.05\n",
      "B20250225101          1       0.05\n",
      "B20250226102          1       0.05\n",
      "B20250207101          1       0.05\n",
      "\n",
      "[2135 rows x 2 columns]\n",
      "\n",
      "\n",
      "=== 인증서발행일 ===\n",
      "Unique count: 760\n",
      "            Count  Ratio (%)\n",
      "인증서발행일                      \n",
      "2019-06-05      2       0.09\n",
      "2019-07-10      9       0.42\n",
      "2019-07-15      2       0.09\n",
      "2019-07-24     19       0.89\n",
      "2019-07-30      7       0.33\n",
      "...           ...        ...\n",
      "2025-02-21      1       0.05\n",
      "2025-02-24      3       0.14\n",
      "2025-02-25      2       0.09\n",
      "2025-02-26      2       0.09\n",
      "2025-02-27      2       0.09\n",
      "\n",
      "[760 rows x 2 columns]\n",
      "\n",
      "\n",
      "=== 적용안전기준 ===\n",
      "Unique count: 6\n",
      "                      Count  Ratio (%)\n",
      "적용안전기준                                \n",
      "(종전)「승강기 안전검사기준」별표 3     15       0.70\n",
      "(종전)「승강기 안전검사기준」별표 1    248      11.58\n",
      "승강기안전기준 별표 22          1759      82.16\n",
      "승강기안전기준 별표 24            93       4.34\n",
      "승강기안전기준 별표 26            15       0.70\n",
      "승강기안전기준 별표 25            11       0.51\n",
      "\n",
      "\n",
      "=== 인증서상태 ===\n",
      "Unique count: 3\n",
      "       Count  Ratio (%)\n",
      "인증서상태                  \n",
      "반납       386      18.03\n",
      "회수      1527      71.32\n",
      "정상       228      10.65\n",
      "\n",
      "\n",
      "=== 모델명 ===\n",
      "Unique count: 314\n",
      "             Count  Ratio (%)\n",
      "모델명                          \n",
      "K300A            1       0.05\n",
      "K200             1       0.05\n",
      "Enta             6       0.28\n",
      "Elexess2        10       0.47\n",
      "GL1             12       0.56\n",
      "...            ...        ...\n",
      "HS-MOR-DIA6      2       0.09\n",
      "ZEST             1       0.05\n",
      "K Series         1       0.05\n",
      "SW MR            1       0.05\n",
      "HLEV-MR-1        1       0.05\n",
      "\n",
      "[314 rows x 2 columns]\n",
      "\n",
      "\n",
      "=== 파생모델명 ===\n",
      "Unique count: 28\n",
      "                                                    Count  Ratio (%)\n",
      "파생모델명                                                               \n",
      "NaN                                                  1961      91.59\n",
      "G2 ELEVATOR                                             8       0.37\n",
      "G6 ELEVATOR                                             8       0.37\n",
      "GREL-M-2.0                                             12       0.56\n",
      "NETIS MRL                                               3       0.14\n",
      "FP17XNUMEN                                              1       0.05\n",
      "FP17XNUMEN5                                             3       0.14\n",
      "HTEL-P33                                               14       0.65\n",
      "DAWON-MRS                                              10       0.47\n",
      "DYMR-02                                                10       0.47\n",
      "MOR08                                                   8       0.37\n",
      "KDS11, KDS12                                           13       0.61\n",
      "FP17XNUMEN, FP17XWTYF328                                9       0.42\n",
      "DN-HYD-FC2                                              4       0.19\n",
      "KDS71                                                  11       0.51\n",
      "LALUZ-ER                                                6       0.28\n",
      "NETIS MRL-9S, NETIS MRL-ER1, NETIS MRL-ERS              1       0.05\n",
      "WBSS-GY-1                                              10       0.47\n",
      "WBLX-GX-2, WBLX-GA-1, WBLX-GT-A, WBLX-GT-2, WBL...      1       0.05\n",
      "FP17XNUMEN5, FP17XNUMEN2                                1       0.05\n",
      "FP17XNUMEM5, FP17XNUMEM2                                4       0.19\n",
      "ENTA-B, ENTA-C, ENTA-D                                  6       0.28\n",
      "META-R1-A, META-R2-A, META-R2-C, META-R2-D, MET...      1       0.05\n",
      "META-L1-B                                               7       0.33\n",
      "META-R1-A, META-R2-A, META-R2-C, META-R2-D, MET...      8       0.37\n",
      "WBLX-GA-1, WBLX-GT-1, WBLX-GT-2, WBLX-GX-1, WBL...     12       0.56\n",
      "SIT-1                                                   2       0.09\n",
      "BAJO                                                    3       0.14\n",
      "K-NP-MRL-21QL                                           4       0.19\n",
      "\n",
      "\n",
      "=== 인증품목명 ===\n",
      "Unique count: 8\n",
      "                               Count  Ratio (%)\n",
      "인증품목명                                          \n",
      "에스컬레이터 > 에스컬레이터 > 일반형             87       4.06\n",
      "엘리베이터 > 전기식 엘리베이터 > 일반형         2001      93.46\n",
      "에스컬레이터 > 무빙워크 > 일반형               21       0.98\n",
      "휠체어리프트 > 유압식 수직형휠체어리프트 > 일반형      11       0.51\n",
      "휠체어리프트 > 전기식 수직형휠체어리프트 > 일반형       2       0.09\n",
      "엘리베이터 > 소형화물용 엘리베이터 > 일반형         11       0.51\n",
      "엘리베이터 > 유압식 엘리베이터 > 일반형            6       0.28\n",
      "휠체어리프트 > 유압식 수직형 휠체어리프트 > 일반형      2       0.09\n",
      "\n",
      "\n",
      "=== 인증구분 ===\n",
      "Unique count: 1\n",
      "      Count  Ratio (%)\n",
      "인증구분                  \n",
      "모델     2141      100.0\n",
      "\n",
      "\n",
      "=== 제조국가 ===\n",
      "Unique count: 3\n",
      "      Count  Ratio (%)\n",
      "제조국가                  \n",
      "중국      120       5.60\n",
      "한국     2020      94.35\n",
      "스페인       1       0.05\n",
      "\n",
      "\n"
     ]
    }
   ],
   "source": [
    "# 전체 column 대상 (비율을 %로, 순서 유지)\n",
    "\n",
    "for col in df.columns:\n",
    "    print(f\"=== {col} ===\")\n",
    "    print(\"Unique count:\", df[col].nunique())\n",
    "\n",
    "    # 빈도와 비율 계산 (NaN 포함, 고유값 순서 유지)\n",
    "    value_counts = df[col].value_counts(dropna=False, sort=False)\n",
    "    value_ratio = df[col].value_counts(normalize=True, dropna=False, sort=False) * 100  # 비율을 %\n",
    "\n",
    "    # 결합\n",
    "    summary_df = pd.DataFrame({\n",
    "        'Count': value_counts,\n",
    "        'Ratio (%)': value_ratio.round(2)\n",
    "    })\n",
    "\n",
    "    print(summary_df)\n",
    "    print(\"\\n\")"
   ]
  },
  {
   "cell_type": "markdown",
   "id": "ee2ff06f-68c8-4382-affe-d9b190039064",
   "metadata": {},
   "source": [
    "- 의미 있어 보이는 변수\n",
    "    - 인증서상태"
   ]
  },
  {
   "cell_type": "code",
   "execution_count": 19,
   "id": "382230fa-1d4a-4bbc-bac0-e63f388a3b31",
   "metadata": {
    "colab": {
     "base_uri": "https://localhost:8080/"
    },
    "id": "CS8vEArvaasC",
    "outputId": "821e6b1a-ecbe-4d37-a99f-5935572c442f"
   },
   "outputs": [],
   "source": [
    "# # 범주형 변수만 대상\n",
    "# cat_cols = df.select_dtypes(include=['object']).columns\n",
    "\n",
    "# for col in cat_cols:\n",
    "#     print(f\"=== {col} ===\")\n",
    "#     print(\"Unique count:\", df[col].nunique())\n",
    "\n",
    "#     value_counts = df[col].value_counts(dropna=False, sort=False)\n",
    "#     value_ratio = df[col].value_counts(normalize=True, dropna=False, sort=False) * 100\n",
    "\n",
    "#     summary_df = pd.DataFrame({\n",
    "#         'Count': value_counts,\n",
    "#         'Ratio (%)': value_ratio.round(2)\n",
    "#     })\n",
    "\n",
    "#     print(summary_df)\n",
    "#     print(\"\\n\")"
   ]
  },
  {
   "cell_type": "markdown",
   "id": "0c3bcc39-051b-483a-99d1-68a49f286953",
   "metadata": {
    "id": "oBDD1h5fHSa2"
   },
   "source": [
    "## 4. (기술통계) 각 column의 기술통계 (평균값, 최대값, 최솟값, 최빈값, 분위수 등)"
   ]
  },
  {
   "cell_type": "code",
   "execution_count": 20,
   "id": "9d1d6d27-66d0-450b-9f2d-954028534f27",
   "metadata": {
    "colab": {
     "base_uri": "https://localhost:8080/"
    },
    "id": "aWeCjFZ23Ha-",
    "outputId": "6cd41cab-3460-42c9-9045-4ddf8dc01d96"
   },
   "outputs": [],
   "source": [
    "# # 수치형 변수만 선택\n",
    "# numeric_cols = df.select_dtypes(include=['float64', 'int64']).columns\n",
    "\n",
    "# # 통계 요약 저장용 리스트\n",
    "# stat_list = []\n",
    "\n",
    "# for col in numeric_cols:\n",
    "#     desc = df[col].describe()\n",
    "#     mode = df[col].mode(dropna=False).values[0]  # 최빈값 (여러 개 중 첫 번째 선택)\n",
    "#     mode_all = df[col].mode(dropna=False).tolist()  # 최빈값 리스트 형태로 저장\n",
    "\n",
    "#     stat_list.append({\n",
    "#         'Feature': col,\n",
    "#         'Count': desc['count'],\n",
    "#         'Mean': desc['mean'],\n",
    "#         'Std': desc['std'],\n",
    "#         'Min': desc['min'],\n",
    "#         '25%': desc['25%'],\n",
    "#         'Median (50%)': desc['50%'],\n",
    "#         '75%': desc['75%'],\n",
    "#         'Max': desc['max'],\n",
    "#         'Mode': mode,\n",
    "#         'Mode_all': mode_all\n",
    "#     })\n",
    "\n",
    "# # DataFrame으로 정리\n",
    "# stats_df = pd.DataFrame(stat_list)\n",
    "# stats_df"
   ]
  },
  {
   "cell_type": "markdown",
   "id": "98e42778-5e12-485c-985e-d7dbc7c1119a",
   "metadata": {
    "id": "oBDD1h5fHSa2"
   },
   "source": [
    "## 5. (상관관계) 상관관계 매트릭스"
   ]
  },
  {
   "cell_type": "code",
   "execution_count": 21,
   "id": "eb49a93b-377f-4317-9666-0fc02be7e402",
   "metadata": {
    "colab": {
     "base_uri": "https://localhost:8080/",
     "height": 991
    },
    "id": "dPHS82u04qud",
    "outputId": "572fce2a-69b0-474e-ec65-eff644efa171"
   },
   "outputs": [],
   "source": [
    "# # 수치형 변수 간 상관관계 매트릭스\n",
    "\n",
    "# import seaborn as sns\n",
    "# import matplotlib.pyplot as plt\n",
    "\n",
    "# # 수치형 변수만 선택\n",
    "# numeric_df = df.select_dtypes(include=['float64', 'int64'])\n",
    "\n",
    "# # 상관계수 계산\n",
    "# corr_matrix = numeric_df.corr()\n",
    "\n",
    "# # 시각화\n",
    "# plt.figure(figsize=(10, 8))\n",
    "# sns.heatmap(corr_matrix, annot=True, cmap='coolwarm', fmt=\".2f\", square=True)\n",
    "# plt.title(\"Numeric Feature Correlation Matrix\")\n",
    "# plt.tight_layout()\n",
    "# plt.show()"
   ]
  },
  {
   "cell_type": "markdown",
   "id": "ed8caf53-f078-4191-81a7-3474d32bd03e",
   "metadata": {
    "id": "oBDD1h5fHSa2"
   },
   "source": [
    "## 6. (시각화) histogram, bar graph, box plot 등"
   ]
  },
  {
   "cell_type": "code",
   "execution_count": 22,
   "id": "fce1baa2-2f32-4156-8c8f-31e6b94200ef",
   "metadata": {
    "colab": {
     "base_uri": "https://localhost:8080/",
     "height": 1000
    },
    "id": "uor9eNqV5hiz",
    "outputId": "4de986e2-c4df-4e94-b9ec-64d758e47a34"
   },
   "outputs": [],
   "source": [
    "# import matplotlib.pyplot as plt\n",
    "\n",
    "# numeric_cols = df.select_dtypes(include=['float64', 'int64']).columns\n",
    "\n",
    "# # 전체 수치형 변수에 대해 히스토그램 그리기\n",
    "# for col in numeric_cols:\n",
    "#     plt.figure(figsize=(6, 4))\n",
    "#     plt.hist(df[col].dropna(), bins=30, edgecolor='black')\n",
    "#     plt.title(f'Histogram of {col}')\n",
    "#     plt.xlabel(col)\n",
    "#     plt.ylabel('Frequency')\n",
    "#     plt.tight_layout()\n",
    "#     plt.show()"
   ]
  },
  {
   "cell_type": "code",
   "execution_count": 23,
   "id": "ccec7a47-53e8-4fb1-adc3-350e3a6b0058",
   "metadata": {
    "colab": {
     "base_uri": "https://localhost:8080/",
     "height": 1000
    },
    "id": "GBmDSaKs7zjG",
    "outputId": "c05bdd47-5a30-4b1b-d4f6-e8400315b95f"
   },
   "outputs": [],
   "source": [
    "# import seaborn as sns\n",
    "# import matplotlib.pyplot as plt\n",
    "\n",
    "# cat_cols = df.select_dtypes(include=['object']).columns\n",
    "\n",
    "# # 전체 범주형 변수에 대해 히스토그램 그리기\n",
    "\n",
    "# for col in cat_cols:\n",
    "#     plt.figure(figsize=(6, 4))\n",
    "#     ax = sns.countplot(data=df, x=col, order=df[col].value_counts().index, color='salmon')\n",
    "\n",
    "#     total = len(df)\n",
    "\n",
    "#     for p in ax.patches:\n",
    "#         count = int(p.get_height())\n",
    "#         percent = 100 * count / total\n",
    "#         label = f'{count} ({percent:.1f}%)'\n",
    "\n",
    "#         # 텍스트 위치: 막대 안쪽 상단 (중앙 정렬)\n",
    "#         ax.annotate(label,\n",
    "#                     (p.get_x() + p.get_width() / 2., p.get_height() * 0.95),\n",
    "#                     ha='center', va='top',\n",
    "#                     fontsize=9, color='white', weight='bold')\n",
    "\n",
    "#     plt.title(f'Bar Graph of {col} (Count + Ratio)')\n",
    "#     plt.xticks(rotation=45)\n",
    "#     plt.tight_layout()\n",
    "#     plt.show()"
   ]
  },
  {
   "cell_type": "code",
   "execution_count": 1,
   "id": "795c4502-3a87-4657-a379-f118d16228a2",
   "metadata": {
    "colab": {
     "base_uri": "https://localhost:8080/",
     "height": 1000
    },
    "id": "Cf9ydKnQ6BCX",
    "outputId": "83e961f8-dea6-4630-9707-b62d4eea0a7d"
   },
   "outputs": [],
   "source": [
    "# # 특정 변수에 따른 수치형 변수 분포 비교\n",
    "# for col in numeric_cols:\n",
    "#     plt.figure(figsize=(6, 4))\n",
    "#     sns.boxplot(data=df, x='###Column Name###', y=col)\n",
    "#     plt.title(f'Boxplot of {col} by ###Column Name###')\n",
    "#     plt.tight_layout()\n",
    "#     plt.show()"
   ]
  },
  {
   "cell_type": "markdown",
   "id": "76760d5b-ed3f-4259-baf1-bde08052f945",
   "metadata": {},
   "source": [
    "## 7. (교차표) 범주형 변수 간의 관계"
   ]
  },
  {
   "cell_type": "code",
   "execution_count": 28,
   "id": "61e4201a-ba77-4d1e-89b0-c596f8fdd41e",
   "metadata": {},
   "outputs": [
    {
     "name": "stdout",
     "output_type": "stream",
     "text": [
      "=== 제조국가 vs 인증서상태 ===\n"
     ]
    },
    {
     "data": {
      "text/html": [
       "<div>\n",
       "<style scoped>\n",
       "    .dataframe tbody tr th:only-of-type {\n",
       "        vertical-align: middle;\n",
       "    }\n",
       "\n",
       "    .dataframe tbody tr th {\n",
       "        vertical-align: top;\n",
       "    }\n",
       "\n",
       "    .dataframe thead th {\n",
       "        text-align: right;\n",
       "    }\n",
       "</style>\n",
       "<table border=\"1\" class=\"dataframe\">\n",
       "  <thead>\n",
       "    <tr style=\"text-align: right;\">\n",
       "      <th>인증서상태</th>\n",
       "      <th>반납</th>\n",
       "      <th>정상</th>\n",
       "      <th>회수</th>\n",
       "    </tr>\n",
       "    <tr>\n",
       "      <th>제조국가</th>\n",
       "      <th></th>\n",
       "      <th></th>\n",
       "      <th></th>\n",
       "    </tr>\n",
       "  </thead>\n",
       "  <tbody>\n",
       "    <tr>\n",
       "      <th>스페인</th>\n",
       "      <td>NaN</td>\n",
       "      <td>1.000000</td>\n",
       "      <td>NaN</td>\n",
       "    </tr>\n",
       "    <tr>\n",
       "      <th>중국</th>\n",
       "      <td>0.158333</td>\n",
       "      <td>0.183333</td>\n",
       "      <td>0.658333</td>\n",
       "    </tr>\n",
       "    <tr>\n",
       "      <th>한국</th>\n",
       "      <td>0.181683</td>\n",
       "      <td>0.101485</td>\n",
       "      <td>0.716832</td>\n",
       "    </tr>\n",
       "  </tbody>\n",
       "</table>\n",
       "</div>"
      ],
      "text/plain": [
       "인증서상태        반납        정상        회수\n",
       "제조국가                               \n",
       "스페인         NaN  1.000000       NaN\n",
       "중국     0.158333  0.183333  0.658333\n",
       "한국     0.181683  0.101485  0.716832"
      ]
     },
     "execution_count": 28,
     "metadata": {},
     "output_type": "execute_result"
    }
   ],
   "source": [
    "# '제조국가'에 따른 '인증서상태' 비율\n",
    "print(\"=== 제조국가 vs 인증서상태 ===\")\n",
    "ratio = df.groupby('제조국가')['인증서상태'].value_counts(normalize=True).unstack()\n",
    "ratio"
   ]
  },
  {
   "cell_type": "code",
   "execution_count": 29,
   "id": "003e5ae3-98af-4d8d-8c36-20aa94722344",
   "metadata": {},
   "outputs": [
    {
     "data": {
      "text/html": [
       "<div>\n",
       "<style scoped>\n",
       "    .dataframe tbody tr th:only-of-type {\n",
       "        vertical-align: middle;\n",
       "    }\n",
       "\n",
       "    .dataframe tbody tr th {\n",
       "        vertical-align: top;\n",
       "    }\n",
       "\n",
       "    .dataframe thead th {\n",
       "        text-align: right;\n",
       "    }\n",
       "</style>\n",
       "<table border=\"1\" class=\"dataframe\">\n",
       "  <thead>\n",
       "    <tr style=\"text-align: right;\">\n",
       "      <th>인증서상태</th>\n",
       "      <th>반납</th>\n",
       "      <th>정상</th>\n",
       "      <th>회수</th>\n",
       "    </tr>\n",
       "    <tr>\n",
       "      <th>제조국가</th>\n",
       "      <th></th>\n",
       "      <th></th>\n",
       "      <th></th>\n",
       "    </tr>\n",
       "  </thead>\n",
       "  <tbody>\n",
       "    <tr>\n",
       "      <th>스페인</th>\n",
       "      <td>0.000000</td>\n",
       "      <td>1.000000</td>\n",
       "      <td>0.000000</td>\n",
       "    </tr>\n",
       "    <tr>\n",
       "      <th>중국</th>\n",
       "      <td>0.158333</td>\n",
       "      <td>0.183333</td>\n",
       "      <td>0.658333</td>\n",
       "    </tr>\n",
       "    <tr>\n",
       "      <th>한국</th>\n",
       "      <td>0.181683</td>\n",
       "      <td>0.101485</td>\n",
       "      <td>0.716832</td>\n",
       "    </tr>\n",
       "  </tbody>\n",
       "</table>\n",
       "</div>"
      ],
      "text/plain": [
       "인증서상태        반납        정상        회수\n",
       "제조국가                               \n",
       "스페인    0.000000  1.000000  0.000000\n",
       "중국     0.158333  0.183333  0.658333\n",
       "한국     0.181683  0.101485  0.716832"
      ]
     },
     "execution_count": 29,
     "metadata": {},
     "output_type": "execute_result"
    }
   ],
   "source": [
    "pd.crosstab(df['제조국가'], df['인증서상태'], normalize='index')"
   ]
  },
  {
   "cell_type": "markdown",
   "id": "9f2df515-a4c8-4c50-bdba-c0fcd896ba14",
   "metadata": {},
   "source": [
    "# 3. Data 전처리"
   ]
  },
  {
   "cell_type": "markdown",
   "id": "009fa2f8-587c-403e-9f38-1770933810bb",
   "metadata": {},
   "source": [
    "## 1. 결측치 처리"
   ]
  },
  {
   "cell_type": "markdown",
   "id": "594a91e3-9302-442d-bfcb-8b192d1d54ad",
   "metadata": {},
   "source": [
    "- 필요시 할 예정"
   ]
  },
  {
   "cell_type": "markdown",
   "id": "0380bda0-cadd-47a5-bfd4-2e2599edff5d",
   "metadata": {},
   "source": [
    "## 2. 이상치 처리"
   ]
  },
  {
   "cell_type": "markdown",
   "id": "a70753dc-191b-49eb-81cd-06b37ccd8c29",
   "metadata": {},
   "source": [
    "- 필요시 할 예정"
   ]
  }
 ],
 "metadata": {
  "kernelspec": {
   "display_name": "Python 3 (ipykernel)",
   "language": "python",
   "name": "python3"
  },
  "language_info": {
   "codemirror_mode": {
    "name": "ipython",
    "version": 3
   },
   "file_extension": ".py",
   "mimetype": "text/x-python",
   "name": "python",
   "nbconvert_exporter": "python",
   "pygments_lexer": "ipython3",
   "version": "3.10.17"
  }
 },
 "nbformat": 4,
 "nbformat_minor": 5
}
