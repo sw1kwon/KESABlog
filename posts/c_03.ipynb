{
 "cells": [
  {
   "cell_type": "raw",
   "id": "0d9017d8-2599-458a-bb44-31cd64991381",
   "metadata": {
    "tags": [],
    "vscode": {
     "languageId": "raw"
    }
   },
   "source": [
    "---\n",
    "title: \"3. 승강기 검사 결과\"\n",
    "author: \"sw1kwon\"\n",
    "date: \"05/24/2025\"\n",
    "draft: false\n",
    "---"
   ]
  },
  {
   "cell_type": "markdown",
   "id": "a9bf9d51-1f5b-4ab3-bd8e-a02f04135a79",
   "metadata": {},
   "source": [
    "# 승강기 검사 결과"
   ]
  },
  {
   "cell_type": "markdown",
   "id": "97ee867d-3676-47c3-8df6-b59299f34b00",
   "metadata": {},
   "source": [
    "```\n",
    "한국승강기안전공단_승강기 검사 결과\n",
    "\n",
    "한국승강기안전공단에서는 승강기 관련 종합정보전산망을 구축하여 승강기에 대한 종합정보와 사고 등의 각종 이력관리 및 승강기관련 각종 통계자료를 제공하고 있습니다.\n",
    "\n",
    "https://www.data.go.kr/data/15112639/fileData.do\n",
    "```"
   ]
  },
  {
   "cell_type": "markdown",
   "id": "40eaac2b-3446-4ffb-9afa-bb3c9097c0ae",
   "metadata": {
    "id": "y1FSkQh1__Qn"
   },
   "source": [
    "# 1. Data 확인"
   ]
  },
  {
   "cell_type": "code",
   "execution_count": 1,
   "id": "d92a5ade-20f0-4266-a465-2239122df33d",
   "metadata": {},
   "outputs": [],
   "source": [
    "import pandas as pd"
   ]
  },
  {
   "cell_type": "markdown",
   "id": "af192f38-6d75-4d66-8113-e00e7da2fd7e",
   "metadata": {
    "id": "i6do7oT2AJX3"
   },
   "source": [
    "## Load Data"
   ]
  },
  {
   "cell_type": "code",
   "execution_count": 2,
   "id": "196c2dec-6f33-4a6a-b27b-3032f342bc16",
   "metadata": {},
   "outputs": [],
   "source": [
    "url = \"https://raw.githubusercontent.com/sw1kwon/KESA/refs/heads/main/data/c_03.csv\"\n",
    "df = pd.read_csv(url)"
   ]
  },
  {
   "cell_type": "code",
   "execution_count": 3,
   "id": "84f05324-9fb9-42c9-bb9c-dabc393ef7df",
   "metadata": {},
   "outputs": [
    {
     "data": {
      "text/html": [
       "<div>\n",
       "<style scoped>\n",
       "    .dataframe tbody tr th:only-of-type {\n",
       "        vertical-align: middle;\n",
       "    }\n",
       "\n",
       "    .dataframe tbody tr th {\n",
       "        vertical-align: top;\n",
       "    }\n",
       "\n",
       "    .dataframe thead th {\n",
       "        text-align: right;\n",
       "    }\n",
       "</style>\n",
       "<table border=\"1\" class=\"dataframe\">\n",
       "  <thead>\n",
       "    <tr style=\"text-align: right;\">\n",
       "      <th></th>\n",
       "      <th>검사결과이력조회코드</th>\n",
       "      <th>검사일자</th>\n",
       "      <th>검사종류</th>\n",
       "      <th>검사차수</th>\n",
       "      <th>검사결과</th>\n",
       "      <th>검사기관</th>\n",
       "      <th>검사당시승강기구분</th>\n",
       "      <th>검사당시승강기형식</th>\n",
       "      <th>승강기세부형식</th>\n",
       "      <th>검사당시승강기종류</th>\n",
       "      <th>설치수시구분</th>\n",
       "    </tr>\n",
       "  </thead>\n",
       "  <tbody>\n",
       "    <tr>\n",
       "      <th>0</th>\n",
       "      <td>4300001</td>\n",
       "      <td>2024-08-23</td>\n",
       "      <td>정기</td>\n",
       "      <td>1</td>\n",
       "      <td>합격</td>\n",
       "      <td>한국승강기안전공단 서울서부지사</td>\n",
       "      <td>엘리베이터</td>\n",
       "      <td>권상식</td>\n",
       "      <td>VVVF</td>\n",
       "      <td>승객용</td>\n",
       "      <td>NaN</td>\n",
       "    </tr>\n",
       "    <tr>\n",
       "      <th>1</th>\n",
       "      <td>8500001</td>\n",
       "      <td>2024-09-05</td>\n",
       "      <td>정기</td>\n",
       "      <td>1</td>\n",
       "      <td>조건부합격(1개월/서류검사)</td>\n",
       "      <td>(재)승강기안전기술연구원 서울지원</td>\n",
       "      <td>엘리베이터</td>\n",
       "      <td>권상식</td>\n",
       "      <td>VVVF</td>\n",
       "      <td>화물용</td>\n",
       "      <td>NaN</td>\n",
       "    </tr>\n",
       "    <tr>\n",
       "      <th>2</th>\n",
       "      <td>8500001</td>\n",
       "      <td>2024-09-24</td>\n",
       "      <td>정기</td>\n",
       "      <td>2</td>\n",
       "      <td>조건후합격</td>\n",
       "      <td>(재)승강기안전기술연구원 서울지원</td>\n",
       "      <td>엘리베이터</td>\n",
       "      <td>권상식</td>\n",
       "      <td>VVVF</td>\n",
       "      <td>화물용</td>\n",
       "      <td>NaN</td>\n",
       "    </tr>\n",
       "    <tr>\n",
       "      <th>3</th>\n",
       "      <td>10000015</td>\n",
       "      <td>2024-12-13</td>\n",
       "      <td>정기</td>\n",
       "      <td>1</td>\n",
       "      <td>합격</td>\n",
       "      <td>한국승강기안전공단 서울동부지사</td>\n",
       "      <td>엘리베이터</td>\n",
       "      <td>권상식</td>\n",
       "      <td>VVVF</td>\n",
       "      <td>승객용</td>\n",
       "      <td>NaN</td>\n",
       "    </tr>\n",
       "    <tr>\n",
       "      <th>4</th>\n",
       "      <td>10000029</td>\n",
       "      <td>2024-08-06</td>\n",
       "      <td>정밀</td>\n",
       "      <td>1</td>\n",
       "      <td>합격</td>\n",
       "      <td>한국승강기안전공단 서울동부지사</td>\n",
       "      <td>엘리베이터</td>\n",
       "      <td>권상식</td>\n",
       "      <td>VVVF</td>\n",
       "      <td>승객용</td>\n",
       "      <td>NaN</td>\n",
       "    </tr>\n",
       "  </tbody>\n",
       "</table>\n",
       "</div>"
      ],
      "text/plain": [
       "   검사결과이력조회코드        검사일자 검사종류  검사차수             검사결과                검사기관  \\\n",
       "0     4300001  2024-08-23   정기     1               합격    한국승강기안전공단 서울서부지사   \n",
       "1     8500001  2024-09-05   정기     1  조건부합격(1개월/서류검사)  (재)승강기안전기술연구원 서울지원   \n",
       "2     8500001  2024-09-24   정기     2            조건후합격  (재)승강기안전기술연구원 서울지원   \n",
       "3    10000015  2024-12-13   정기     1               합격    한국승강기안전공단 서울동부지사   \n",
       "4    10000029  2024-08-06   정밀     1               합격    한국승강기안전공단 서울동부지사   \n",
       "\n",
       "  검사당시승강기구분 검사당시승강기형식 승강기세부형식 검사당시승강기종류 설치수시구분  \n",
       "0     엘리베이터       권상식    VVVF       승객용    NaN  \n",
       "1     엘리베이터       권상식    VVVF       화물용    NaN  \n",
       "2     엘리베이터       권상식    VVVF       화물용    NaN  \n",
       "3     엘리베이터       권상식    VVVF       승객용    NaN  \n",
       "4     엘리베이터       권상식    VVVF       승객용    NaN  "
      ]
     },
     "execution_count": 3,
     "metadata": {},
     "output_type": "execute_result"
    }
   ],
   "source": [
    "df.head()"
   ]
  },
  {
   "cell_type": "markdown",
   "id": "7410f79a-d98f-4b97-8d6b-1d68feb15263",
   "metadata": {
    "id": "_lpE2G9CALx3"
   },
   "source": [
    "## 데이터 구조 확인"
   ]
  },
  {
   "cell_type": "code",
   "execution_count": 4,
   "id": "49a1824d-1d36-4d32-bef2-f8c48f51771a",
   "metadata": {
    "colab": {
     "base_uri": "https://localhost:8080/"
    },
    "id": "qG1XA2g_xUFn",
    "outputId": "13d5330a-017a-4090-d6a7-b69de6265d2a"
   },
   "outputs": [
    {
     "data": {
      "text/plain": [
       "(634630, 11)"
      ]
     },
     "execution_count": 4,
     "metadata": {},
     "output_type": "execute_result"
    }
   ],
   "source": [
    "df.shape"
   ]
  },
  {
   "cell_type": "code",
   "execution_count": 5,
   "id": "f8b233b4-d01e-494a-a921-3342b1b3cc62",
   "metadata": {
    "colab": {
     "base_uri": "https://localhost:8080/"
    },
    "id": "3DCHf1e2xLBZ",
    "outputId": "bcc5790b-7090-42f0-caa6-10de3a987301"
   },
   "outputs": [
    {
     "name": "stdout",
     "output_type": "stream",
     "text": [
      "<class 'pandas.core.frame.DataFrame'>\n",
      "RangeIndex: 634630 entries, 0 to 634629\n",
      "Data columns (total 11 columns):\n",
      " #   Column      Non-Null Count   Dtype \n",
      "---  ------      --------------   ----- \n",
      " 0   검사결과이력조회코드  634630 non-null  int64 \n",
      " 1   검사일자        634630 non-null  object\n",
      " 2   검사종류        634630 non-null  object\n",
      " 3   검사차수        634630 non-null  int64 \n",
      " 4   검사결과        634630 non-null  object\n",
      " 5   검사기관        634630 non-null  object\n",
      " 6   검사당시승강기구분   634630 non-null  object\n",
      " 7   검사당시승강기형식   634630 non-null  object\n",
      " 8   승강기세부형식     608851 non-null  object\n",
      " 9   검사당시승강기종류   634630 non-null  object\n",
      " 10  설치수시구분      51038 non-null   object\n",
      "dtypes: int64(2), object(9)\n",
      "memory usage: 53.3+ MB\n"
     ]
    }
   ],
   "source": [
    "# 데이터 구조 파악\n",
    "# object 문자형\n",
    "# int/float 수치형\n",
    "df.info()"
   ]
  },
  {
   "cell_type": "markdown",
   "id": "9f320eb5-4da1-4590-85a1-930970f3d8d6",
   "metadata": {},
   "source": [
    "- '승강기세부형식', '설치수시구분'을 제외한 모든 변수에 Null 값이 없음\n",
    "- '설치수시구분'은 Null 값이 많아보임"
   ]
  },
  {
   "cell_type": "code",
   "execution_count": 6,
   "id": "9affb02e-6195-4ffa-9220-dbb3262ba9f7",
   "metadata": {
    "colab": {
     "base_uri": "https://localhost:8080/",
     "height": 613
    },
    "id": "ZYEOqRhjvZN-",
    "outputId": "f14b77fb-21c3-435e-a4c3-d2e834119099"
   },
   "outputs": [
    {
     "data": {
      "text/html": [
       "<div>\n",
       "<style scoped>\n",
       "    .dataframe tbody tr th:only-of-type {\n",
       "        vertical-align: middle;\n",
       "    }\n",
       "\n",
       "    .dataframe tbody tr th {\n",
       "        vertical-align: top;\n",
       "    }\n",
       "\n",
       "    .dataframe thead th {\n",
       "        text-align: right;\n",
       "    }\n",
       "</style>\n",
       "<table border=\"1\" class=\"dataframe\">\n",
       "  <thead>\n",
       "    <tr style=\"text-align: right;\">\n",
       "      <th></th>\n",
       "      <th>count</th>\n",
       "      <th>unique</th>\n",
       "      <th>top</th>\n",
       "      <th>freq</th>\n",
       "    </tr>\n",
       "  </thead>\n",
       "  <tbody>\n",
       "    <tr>\n",
       "      <th>검사일자</th>\n",
       "      <td>634630</td>\n",
       "      <td>170</td>\n",
       "      <td>2024-09-11</td>\n",
       "      <td>6229</td>\n",
       "    </tr>\n",
       "    <tr>\n",
       "      <th>검사종류</th>\n",
       "      <td>634630</td>\n",
       "      <td>4</td>\n",
       "      <td>정기</td>\n",
       "      <td>512547</td>\n",
       "    </tr>\n",
       "    <tr>\n",
       "      <th>검사결과</th>\n",
       "      <td>634630</td>\n",
       "      <td>17</td>\n",
       "      <td>합격</td>\n",
       "      <td>241185</td>\n",
       "    </tr>\n",
       "    <tr>\n",
       "      <th>검사기관</th>\n",
       "      <td>634630</td>\n",
       "      <td>58</td>\n",
       "      <td>한국승강기안전공단 경기북부지사</td>\n",
       "      <td>25361</td>\n",
       "    </tr>\n",
       "    <tr>\n",
       "      <th>검사당시승강기구분</th>\n",
       "      <td>634630</td>\n",
       "      <td>7</td>\n",
       "      <td>엘리베이터</td>\n",
       "      <td>603263</td>\n",
       "    </tr>\n",
       "    <tr>\n",
       "      <th>검사당시승강기형식</th>\n",
       "      <td>634630</td>\n",
       "      <td>15</td>\n",
       "      <td>권상식</td>\n",
       "      <td>592885</td>\n",
       "    </tr>\n",
       "    <tr>\n",
       "      <th>승강기세부형식</th>\n",
       "      <td>608851</td>\n",
       "      <td>7</td>\n",
       "      <td>VVVF</td>\n",
       "      <td>591519</td>\n",
       "    </tr>\n",
       "    <tr>\n",
       "      <th>검사당시승강기종류</th>\n",
       "      <td>634630</td>\n",
       "      <td>35</td>\n",
       "      <td>승객용</td>\n",
       "      <td>219813</td>\n",
       "    </tr>\n",
       "    <tr>\n",
       "      <th>설치수시구분</th>\n",
       "      <td>51038</td>\n",
       "      <td>6</td>\n",
       "      <td>신규설치</td>\n",
       "      <td>21103</td>\n",
       "    </tr>\n",
       "  </tbody>\n",
       "</table>\n",
       "</div>"
      ],
      "text/plain": [
       "            count unique               top    freq\n",
       "검사일자       634630    170        2024-09-11    6229\n",
       "검사종류       634630      4                정기  512547\n",
       "검사결과       634630     17                합격  241185\n",
       "검사기관       634630     58  한국승강기안전공단 경기북부지사   25361\n",
       "검사당시승강기구분  634630      7             엘리베이터  603263\n",
       "검사당시승강기형식  634630     15               권상식  592885\n",
       "승강기세부형식    608851      7              VVVF  591519\n",
       "검사당시승강기종류  634630     35               승객용  219813\n",
       "설치수시구분      51038      6              신규설치   21103"
      ]
     },
     "execution_count": 6,
     "metadata": {},
     "output_type": "execute_result"
    }
   ],
   "source": [
    "# 문자형(범주형) 데이터 확인\n",
    "df.describe(include=['object']).T"
   ]
  },
  {
   "cell_type": "markdown",
   "id": "d354f7c2-ccc5-462d-ab3b-dabd34b9e647",
   "metadata": {},
   "source": [
    "- 나중에 검사일자를 시계열 데이터 형식으로 바꿔서 분석 (필요 시)\n",
    "- '검사당시승강기형식'과 '승강기세부형식'에 모르는 용어가 많을 것 같음"
   ]
  },
  {
   "cell_type": "code",
   "execution_count": 7,
   "id": "8af2f987-e655-43f9-9e17-8150f34ef163",
   "metadata": {
    "colab": {
     "base_uri": "https://localhost:8080/",
     "height": 300
    },
    "id": "LWPh8jtBvZQf",
    "outputId": "17a02a7a-2e24-48a7-9521-b7460b29e29b"
   },
   "outputs": [
    {
     "data": {
      "text/html": [
       "<div>\n",
       "<style scoped>\n",
       "    .dataframe tbody tr th:only-of-type {\n",
       "        vertical-align: middle;\n",
       "    }\n",
       "\n",
       "    .dataframe tbody tr th {\n",
       "        vertical-align: top;\n",
       "    }\n",
       "\n",
       "    .dataframe thead th {\n",
       "        text-align: right;\n",
       "    }\n",
       "</style>\n",
       "<table border=\"1\" class=\"dataframe\">\n",
       "  <thead>\n",
       "    <tr style=\"text-align: right;\">\n",
       "      <th></th>\n",
       "      <th>검사결과이력조회코드</th>\n",
       "      <th>검사차수</th>\n",
       "    </tr>\n",
       "  </thead>\n",
       "  <tbody>\n",
       "    <tr>\n",
       "      <th>count</th>\n",
       "      <td>6.346300e+05</td>\n",
       "      <td>634630.000000</td>\n",
       "    </tr>\n",
       "    <tr>\n",
       "      <th>mean</th>\n",
       "      <td>4.213546e+07</td>\n",
       "      <td>1.282875</td>\n",
       "    </tr>\n",
       "    <tr>\n",
       "      <th>std</th>\n",
       "      <td>1.873299e+07</td>\n",
       "      <td>0.450397</td>\n",
       "    </tr>\n",
       "    <tr>\n",
       "      <th>min</th>\n",
       "      <td>4.300001e+06</td>\n",
       "      <td>1.000000</td>\n",
       "    </tr>\n",
       "    <tr>\n",
       "      <th>25%</th>\n",
       "      <td>3.050155e+07</td>\n",
       "      <td>1.000000</td>\n",
       "    </tr>\n",
       "    <tr>\n",
       "      <th>50%</th>\n",
       "      <td>4.400182e+07</td>\n",
       "      <td>1.000000</td>\n",
       "    </tr>\n",
       "    <tr>\n",
       "      <th>75%</th>\n",
       "      <td>5.600694e+07</td>\n",
       "      <td>2.000000</td>\n",
       "    </tr>\n",
       "    <tr>\n",
       "      <th>max</th>\n",
       "      <td>7.990011e+07</td>\n",
       "      <td>2.000000</td>\n",
       "    </tr>\n",
       "  </tbody>\n",
       "</table>\n",
       "</div>"
      ],
      "text/plain": [
       "         검사결과이력조회코드           검사차수\n",
       "count  6.346300e+05  634630.000000\n",
       "mean   4.213546e+07       1.282875\n",
       "std    1.873299e+07       0.450397\n",
       "min    4.300001e+06       1.000000\n",
       "25%    3.050155e+07       1.000000\n",
       "50%    4.400182e+07       1.000000\n",
       "75%    5.600694e+07       2.000000\n",
       "max    7.990011e+07       2.000000"
      ]
     },
     "execution_count": 7,
     "metadata": {},
     "output_type": "execute_result"
    }
   ],
   "source": [
    "# 수치형 데이터 확인\n",
    "df.describe(include=['int64','float64'])"
   ]
  },
  {
   "cell_type": "code",
   "execution_count": 8,
   "id": "0f62cd95-efbd-4449-b6d5-8a32e12aebda",
   "metadata": {
    "colab": {
     "base_uri": "https://localhost:8080/",
     "height": 300
    },
    "id": "LWPh8jtBvZQf",
    "outputId": "17a02a7a-2e24-48a7-9521-b7460b29e29b"
   },
   "outputs": [],
   "source": [
    "# df.describe(include='number') # 동일 결과 코드"
   ]
  },
  {
   "cell_type": "markdown",
   "id": "e74f02e5-7f1d-4c52-93d1-b53d38774ef6",
   "metadata": {},
   "source": [
    "- 검사차수는 1차 또는 2차"
   ]
  },
  {
   "cell_type": "markdown",
   "id": "6868000d-62f4-4450-bb53-0bc991abc36a",
   "metadata": {
    "id": "oBDD1h5fHSa2"
   },
   "source": [
    "# 2. EDA"
   ]
  },
  {
   "cell_type": "markdown",
   "id": "136c7a32-e4e3-4c9f-b6f4-e744710fe1ce",
   "metadata": {
    "id": "oBDD1h5fHSa2"
   },
   "source": [
    "## 1. (결측치) 각 column의 결측값 비율"
   ]
  },
  {
   "cell_type": "code",
   "execution_count": 9,
   "id": "48fad1eb-e18d-49d5-a97a-fd74ea65d152",
   "metadata": {
    "colab": {
     "base_uri": "https://localhost:8080/"
    },
    "id": "b6Hr2nwOV4kX",
    "outputId": "aa1b0f8b-ac1a-423f-a043-9d77bdaa5a2b"
   },
   "outputs": [
    {
     "name": "stdout",
     "output_type": "stream",
     "text": [
      "        Column  MissingRatio\n",
      "0       설치수시구분      0.919578\n",
      "1      승강기세부형식      0.040621\n",
      "2   검사결과이력조회코드      0.000000\n",
      "3         검사종류      0.000000\n",
      "4         검사일자      0.000000\n",
      "5         검사차수      0.000000\n",
      "6         검사결과      0.000000\n",
      "7    검사당시승강기구분      0.000000\n",
      "8         검사기관      0.000000\n",
      "9    검사당시승강기형식      0.000000\n",
      "10   검사당시승강기종류      0.000000\n"
     ]
    }
   ],
   "source": [
    "# 각 column의 결측값 비율 계산\n",
    "missing_ratio = df.isnull().mean()                  # 각 column의 결측값 비율 계산 (결측 개수 / 전체 row 수)\n",
    "missing_ratio = missing_ratio.sort_values(ascending=False)  # 결측 비율이 높은 순서대로 정렬\n",
    "missing_ratio = missing_ratio.reset_index()         # Series → DataFrame 변환 (인덱스 초기화)\n",
    "missing_ratio.columns = ['Column', 'MissingRatio']\n",
    "print(missing_ratio)"
   ]
  },
  {
   "cell_type": "markdown",
   "id": "d3f94e2c-2106-4750-be59-05f0a96a5d6f",
   "metadata": {},
   "source": [
    "- 나중에 두 변수의 결측치를 어떻게 해아할지 고민해봐야할 듯"
   ]
  },
  {
   "cell_type": "markdown",
   "id": "c1c65d6b-cd51-4f49-b09a-819f95fcffbf",
   "metadata": {
    "id": "oBDD1h5fHSa2"
   },
   "source": [
    "## 2. (이상치) 각 column별 이상치 확인"
   ]
  },
  {
   "cell_type": "code",
   "execution_count": 10,
   "id": "e13618a3-3e50-479a-8379-dc7048a50cbd",
   "metadata": {
    "colab": {
     "base_uri": "https://localhost:8080/"
    },
    "id": "23LtNlHwXkhl",
    "outputId": "e5571af7-e803-41be-a308-e1000bf57ec3"
   },
   "outputs": [
    {
     "name": "stdout",
     "output_type": "stream",
     "text": [
      "       Column  OutlierCount  OutlierRatio\n",
      "0  검사결과이력조회코드             0           0.0\n",
      "1        검사차수             0           0.0\n"
     ]
    }
   ],
   "source": [
    "# 수치형 변수만 추출\n",
    "numeric_cols = df.select_dtypes(include=['float64', 'int64']).columns\n",
    "\n",
    "# 이상치 비율 저장용 리스트\n",
    "outlier_info = []\n",
    "\n",
    "# 각 수치형 column에 대해 이상치 비율 계산 (IQR 방식)\n",
    "for col in numeric_cols:\n",
    "    Q1 = df[col].quantile(0.25)\n",
    "    Q3 = df[col].quantile(0.75)\n",
    "    IQR = Q3 - Q1\n",
    "    lower = Q1 - 1.5 * IQR\n",
    "    upper = Q3 + 1.5 * IQR\n",
    "    outliers = ((df[col] < lower) | (df[col] > upper)).sum()\n",
    "    outlier_ratio = outliers / df.shape[0]\n",
    "    outlier_info.append((col, outliers, outlier_ratio))\n",
    "\n",
    "# 결과 DataFrame 정리\n",
    "outlier_df = pd.DataFrame(outlier_info, columns=['Column', 'OutlierCount', 'OutlierRatio'])\n",
    "outlier_df = outlier_df.sort_values(by='OutlierRatio', ascending=False)\n",
    "\n",
    "print(outlier_df)"
   ]
  },
  {
   "cell_type": "markdown",
   "id": "3b374ca5-9aef-4aab-943b-fe840b4f62ba",
   "metadata": {},
   "source": [
    "- 별 의미는 없음"
   ]
  },
  {
   "cell_type": "code",
   "execution_count": 11,
   "id": "c2532ec1-7b1d-4869-998f-46149614e7bb",
   "metadata": {
    "colab": {
     "base_uri": "https://localhost:8080/",
     "height": 705
    },
    "id": "0eltJYGCX1B8",
    "outputId": "487c5212-7ca8-4d73-cb9f-4f7a75b12fea"
   },
   "outputs": [],
   "source": [
    "# # 이상치 비율이 높은 상위 n개 변수만 시각화\n",
    "# import seaborn as sns\n",
    "# import matplotlib.pyplot as plt\n",
    "\n",
    "# # 이상치 비율 높은 상위 n개 변수만 선택\n",
    "# top_n = 5\n",
    "# top_outlier_cols = outlier_df.head(top_n)['Column']\n",
    "\n",
    "# # 박스플롯 시각화\n",
    "# plt.figure(figsize=(12, 6))\n",
    "# for i, col in enumerate(top_outlier_cols, 1):\n",
    "#     plt.subplot(1, top_n, i)\n",
    "#     sns.boxplot(y=df[col])\n",
    "#     plt.title(col)\n",
    "#     plt.tight_layout()\n",
    "\n",
    "# plt.show()"
   ]
  },
  {
   "cell_type": "markdown",
   "id": "21bdaaae-4599-4bb3-aeb1-284a6e115aa1",
   "metadata": {},
   "source": [
    "- 이상치가 없어서 실행 X"
   ]
  },
  {
   "cell_type": "code",
   "execution_count": 12,
   "id": "1c8e5e1c-f1c6-436c-8f88-05e97f0b3f2c",
   "metadata": {
    "colab": {
     "base_uri": "https://localhost:8080/",
     "height": 834
    },
    "id": "PT3wl0Q0Yozs",
    "outputId": "efb37e28-2f96-4829-b021-2089214eec9b"
   },
   "outputs": [],
   "source": [
    "# # 개별 탐색 시 사용 가능한 함수 정의\n",
    "# def plot_box(col):\n",
    "#     sns.boxplot(y=df[col])\n",
    "#     plt.title(f\"Boxplot of {col}\")\n",
    "#     plt.show()\n",
    "\n",
    "# # 예시 사용: plot_box('Column Name')"
   ]
  },
  {
   "cell_type": "markdown",
   "id": "8f484392-23aa-4b01-9cce-b632fe978b8c",
   "metadata": {
    "id": "oBDD1h5fHSa2"
   },
   "source": [
    "## 3. (unique) 각 column의 unique값과 unique값별 빈도"
   ]
  },
  {
   "cell_type": "code",
   "execution_count": 13,
   "id": "f42e24c1-a504-401e-8cc4-0713a6b1053f",
   "metadata": {
    "colab": {
     "base_uri": "https://localhost:8080/"
    },
    "id": "zXo5AZwcZSLG",
    "outputId": "488461f5-bb7c-483f-d2f2-6dc9852dcb8b"
   },
   "outputs": [],
   "source": [
    "# # 전체 column 대상 (비율을 %로, 순서 유지)\n",
    "\n",
    "# for col in df.columns:\n",
    "#     print(f\"=== {col} ===\")\n",
    "#     print(\"Unique count:\", df[col].nunique())\n",
    "\n",
    "#     # 빈도와 비율 계산 (NaN 포함, 고유값 순서 유지)\n",
    "#     value_counts = df[col].value_counts(dropna=False, sort=False)\n",
    "#     value_ratio = df[col].value_counts(normalize=True, dropna=False, sort=False) * 100  # 비율을 %\n",
    "\n",
    "#     # 결합\n",
    "#     summary_df = pd.DataFrame({\n",
    "#         'Count': value_counts,\n",
    "#         'Ratio (%)': value_ratio.round(2)\n",
    "#     })\n",
    "\n",
    "#     print(summary_df)\n",
    "#     print(\"\\n\")"
   ]
  },
  {
   "cell_type": "code",
   "execution_count": 14,
   "id": "382230fa-1d4a-4bbc-bac0-e63f388a3b31",
   "metadata": {
    "colab": {
     "base_uri": "https://localhost:8080/"
    },
    "id": "CS8vEArvaasC",
    "outputId": "821e6b1a-ecbe-4d37-a99f-5935572c442f"
   },
   "outputs": [
    {
     "name": "stdout",
     "output_type": "stream",
     "text": [
      "=== 검사일자 ===\n",
      "Unique count: 170\n",
      "            Count  Ratio (%)\n",
      "검사일자                        \n",
      "2024-08-23   4973       0.78\n",
      "2024-09-05   5841       0.92\n",
      "2024-09-24   5840       0.92\n",
      "2024-12-13   4781       0.75\n",
      "2024-08-06   5181       0.82\n",
      "...           ...        ...\n",
      "2024-12-07     22       0.00\n",
      "2024-09-16      1       0.00\n",
      "2024-12-25      1       0.00\n",
      "2024-07-27     46       0.01\n",
      "2024-12-15      1       0.00\n",
      "\n",
      "[170 rows x 2 columns]\n",
      "\n",
      "\n",
      "=== 검사종류 ===\n",
      "Unique count: 4\n",
      "       Count  Ratio (%)\n",
      "검사종류                   \n",
      "정기    512547      80.76\n",
      "정밀     71045      11.19\n",
      "수시     17853       2.81\n",
      "설치     33185       5.23\n",
      "\n",
      "\n",
      "=== 검사결과 ===\n",
      "Unique count: 17\n",
      "                     Count  Ratio (%)\n",
      "검사결과                                 \n",
      "합격                  241185      38.00\n",
      "조건부합격(1개월/서류검사)      94751      14.93\n",
      "조건후합격               167415      26.38\n",
      "조건부합격(현장시정조치)        24570       3.87\n",
      "조건부합격(1개월/현장검사)       2565       0.40\n",
      "조건부합격(2개월/현장검사)       6467       1.02\n",
      "불합격                   4171       0.66\n",
      "조건부합격(차기안전검사)          602       0.09\n",
      "조건부합격(2개월/서류검사)      72930      11.49\n",
      "차기안전검사                3137       0.49\n",
      "조건후불합격                2094       0.33\n",
      "조건부합격(12개월이하/서류검사)     363       0.06\n",
      "조건부합격(12개월이하/현장검사)     660       0.10\n",
      "보완(현장검사)              6756       1.06\n",
      "보완후합격                 6751       1.06\n",
      "보완(서류검사)                89       0.01\n",
      "보완후불합격                 124       0.02\n",
      "\n",
      "\n",
      "=== 검사기관 ===\n",
      "Unique count: 58\n",
      "                    Count  Ratio (%)\n",
      "검사기관                                \n",
      "한국승강기안전공단 서울서부지사    12409       1.96\n",
      "(재)승강기안전기술연구원 서울지원  23832       3.76\n",
      "한국승강기안전공단 서울동부지사    12604       1.99\n",
      "(재)한국승강기안전원 서울지원     1569       0.25\n",
      "(재)승강기기술진흥원 서울본사       82       0.01\n",
      "한국승강기안전공단 서울북부지사    13300       2.10\n",
      "한국승강기안전공단 서울강동지사    16478       2.60\n",
      "(재)승강기안전기술연구원 경기지원   8401       1.32\n",
      "한국승강기안전공단 서울강남지사    10841       1.71\n",
      "(재)한국승강기안전진흥원 서울지원   5220       0.82\n",
      "한국승강기안전공단 서울서초지사    10915       1.72\n",
      "한국승강기안전공단 서울남서지사    14543       2.29\n",
      "(재)대한승강기안전재단 경기본원    8428       1.33\n",
      "한국승강기안전공단 서울강서지사     8574       1.35\n",
      "한국승강기안전공단 강원지사      17020       2.68\n",
      "한국승강기안전공단 대전지사      18207       2.87\n",
      "(재)대한승강기안전재단 대전지원    2501       0.39\n",
      "한국승강기안전공단 세종지사      10212       1.61\n",
      "(재)대한승강기안전재단 충남지원    3921       0.62\n",
      "한국승강기안전공단 천안지사       8040       1.27\n",
      "한국승강기안전공단 충남지사       9667       1.52\n",
      "한국승강기안전공단 평택안성지사    13871       2.19\n",
      "한국승강기안전공단 충북지사      17244       2.72\n",
      "한국승강기안전공단 인천남부지사    17436       2.75\n",
      "(재)승강기안전기술연구원 인천지원   2745       0.43\n",
      "한국승강기안전공단 인천동부지사    13637       2.15\n",
      "한국승강기안전공단 인천서부지사    14953       2.36\n",
      "(재)한국승강기안전진흥원 인천지원   1421       0.22\n",
      "한국승강기안전공단 고양파주지사    20136       3.17\n",
      "(재)승강기기술진흥원 경기지사       93       0.01\n",
      "한국승강기안전공단 안양지사      12574       1.98\n",
      "한국승강기안전공단 안산지사      12764       2.01\n",
      "한국승강기안전공단 수원지사      12356       1.95\n",
      "한국승강기안전공단 용인지사      13289       2.09\n",
      "한국승강기안전공단 화성오산지사    16866       2.66\n",
      "(재)한국승강기안전진흥원 경기본원   6641       1.05\n",
      "한국승강기안전공단 성남지사      16940       2.67\n",
      "한국승강기안전공단 경기북부지사    25361       4.00\n",
      "한국승강기안전공단 광주지사      10882       1.71\n",
      "(재)한국승강기안전원 광주지원     4538       0.72\n",
      "한국승강기안전공단 전남서부지사    11795       1.86\n",
      "한국승강기안전공단 전남동부지사     9975       1.57\n",
      "한국승강기안전공단 전북동부지사     8553       1.35\n",
      "(재)한국승강기안전원 전북지원     1987       0.31\n",
      "한국승강기안전공단 전북서부지사     6492       1.02\n",
      "한국승강기안전공단 부산서부지사    16192       2.55\n",
      "(재)한국승강기안전원 부산지원     3013       0.47\n",
      "한국승강기안전공단 부산북부지사    11457       1.81\n",
      "한국승강기안전공단 부산동부지사    10777       1.70\n",
      "한국승강기안전공단 경남동부지사    12487       1.97\n",
      "한국승강기안전공단 경남서부지사    14187       2.24\n",
      "한국승강기안전공단 울산지사      13392       2.11\n",
      "한국승강기안전공단 제주지사      11168       1.76\n",
      "한국승강기안전공단 대구동부지사    15284       2.41\n",
      "(재)승강기기술진흥원 대구지사       23       0.00\n",
      "한국승강기안전공단 대구서부지사    14596       2.30\n",
      "한국승강기안전공단 경북서부지사    12892       2.03\n",
      "한국승강기안전공단 경북동부지사     9849       1.55\n",
      "\n",
      "\n",
      "=== 검사당시승강기구분 ===\n",
      "Unique count: 7\n",
      "             Count  Ratio (%)\n",
      "검사당시승강기구분                    \n",
      "엘리베이터       603263      95.06\n",
      "소형화물용엘리베이터    2992       0.47\n",
      "에스컬레이터       21961       3.46\n",
      "무빙워크          3818       0.60\n",
      "휠체어리프트        2254       0.36\n",
      "주택형엘리베이터       330       0.05\n",
      "경사형엘리베이터        12       0.00\n",
      "\n",
      "\n",
      "=== 검사당시승강기형식 ===\n",
      "Unique count: 15\n",
      "            Count  Ratio (%)\n",
      "검사당시승강기형식                   \n",
      "권상식        592885      93.42\n",
      "유압식         14545       2.29\n",
      "스텝식         21961       3.46\n",
      "유압식           177       0.03\n",
      "팔레트식         3789       0.60\n",
      "가이드로프식        309       0.05\n",
      "마찰견인식         130       0.02\n",
      "포지티브식         202       0.03\n",
      "로프현수식          86       0.01\n",
      "스크류-너트식       492       0.08\n",
      "체인현수식           2       0.00\n",
      "벨트식            29       0.00\n",
      "체인식             3       0.00\n",
      "랙-피니언식          1       0.00\n",
      "체인식            19       0.00\n",
      "\n",
      "\n",
      "=== 승강기세부형식 ===\n",
      "Unique count: 7\n",
      "                Count  Ratio (%)\n",
      "승강기세부형식                         \n",
      "VVVF           591519      93.21\n",
      "교류              15074       2.38\n",
      "NaN             25779       4.06\n",
      "수직형LIFT(4m이하)    1711       0.27\n",
      "경사형LIFT           500       0.08\n",
      "직류기어                3       0.00\n",
      "수직형LIFT(4m초과)      43       0.01\n",
      "직류무기어               1       0.00\n",
      "\n",
      "\n",
      "=== 검사당시승강기종류 ===\n",
      "Unique count: 35\n",
      "               Count  Ratio (%)\n",
      "검사당시승강기종류                      \n",
      "승객용           219813      34.64\n",
      "화물용            13184       2.08\n",
      "소방구조용          28824       4.54\n",
      "덤웨이터            2180       0.34\n",
      "자동차용            7860       1.24\n",
      "장애인용          153668      24.21\n",
      "병원용             4326       0.68\n",
      "에스컬레이터         21961       3.46\n",
      "승객화물용           8621       1.36\n",
      "전망용             4320       0.68\n",
      "소방구조/장애인용     115436      18.19\n",
      "장애/전망용          8818       1.39\n",
      "소방구조/장애/승객화물   16956       2.67\n",
      "장애/승객화물용       13121       2.07\n",
      "소방구조/승객화물용      2197       0.35\n",
      "화물용(DW)          812       0.13\n",
      "무빙워크            3818       0.60\n",
      "수직형휠체어리프트       1754       0.28\n",
      "경사형휠체어리프트        500       0.08\n",
      "주택엘리베이터          330       0.05\n",
      "소방구조/장애/전망용       13       0.00\n",
      "전망/병원용            66       0.01\n",
      "장애/병원용          4427       0.70\n",
      "화물/자동차용          120       0.02\n",
      "소방구조/병원용         158       0.02\n",
      "피난용               94       0.01\n",
      "피난/장애용           992       0.16\n",
      "장애/전망/병원용         78       0.01\n",
      "소방구조/장애/병원용      113       0.02\n",
      "승객용(장애인겸용)        11       0.00\n",
      "피난/승객화물용           2       0.00\n",
      "장애/승객화물/전망용        6       0.00\n",
      "피난/장애/승객화물용       48       0.01\n",
      "소방구조/전망용           2       0.00\n",
      "피난/장애/병원용          1       0.00\n",
      "\n",
      "\n",
      "=== 설치수시구분 ===\n",
      "Unique count: 6\n",
      "         Count  Ratio (%)\n",
      "설치수시구분                   \n",
      "NaN     583592      91.96\n",
      "부분교체      5638       0.89\n",
      "교체설치     12082       1.90\n",
      "용도변경     11575       1.82\n",
      "민원요청       639       0.10\n",
      "신규설치     21103       3.33\n",
      "사고수리         1       0.00\n",
      "\n",
      "\n"
     ]
    }
   ],
   "source": [
    "# 범주형 변수만 대상\n",
    "cat_cols = df.select_dtypes(include=['object']).columns\n",
    "\n",
    "for col in cat_cols:\n",
    "    print(f\"=== {col} ===\")\n",
    "    print(\"Unique count:\", df[col].nunique())\n",
    "\n",
    "    value_counts = df[col].value_counts(dropna=False, sort=False)\n",
    "    value_ratio = df[col].value_counts(normalize=True, dropna=False, sort=False) * 100\n",
    "\n",
    "    summary_df = pd.DataFrame({\n",
    "        'Count': value_counts,\n",
    "        'Ratio (%)': value_ratio.round(2)\n",
    "    })\n",
    "\n",
    "    print(summary_df)\n",
    "    print(\"\\n\")"
   ]
  },
  {
   "cell_type": "markdown",
   "id": "545bc1d1-3ee2-464e-bc8e-645589f917c4",
   "metadata": {},
   "source": [
    "- '검사종류', '검사결과', '검사기관'은 나중에 사고 관련 데이터와 같이 분석해봐도 좋을 거 같음\n",
    "- 모르는 용어가 많은 변수: '검사당시승강기 형식', '승강기세부형식'\n",
    "- 결측치가 많고 의미를 잘 모르겠는 변수: '설치수시구분'\n",
    "- '검사당시승강기형식'은 동일값 전처리가 필요해보임 (3.3 참고)"
   ]
  },
  {
   "cell_type": "markdown",
   "id": "7cba6d75-2e1d-4b36-8618-e868321efa31",
   "metadata": {},
   "source": [
    "### 시계열 분석"
   ]
  },
  {
   "cell_type": "code",
   "execution_count": 15,
   "id": "40a67d1c-9a23-4508-8ee0-5524e82d894e",
   "metadata": {},
   "outputs": [],
   "source": [
    "df2 = df.copy()\n",
    "\n",
    "df2['검사일자'] = pd.to_datetime(df2['검사일자']) # 형식 변환"
   ]
  },
  {
   "cell_type": "code",
   "execution_count": 16,
   "id": "66e19ad9-e3f9-46af-ba1d-fbd23be30bd9",
   "metadata": {},
   "outputs": [],
   "source": [
    "df2['연월'] = df2['검사일자'].dt.to_period('M') # 연도-월 단위로 그룹화\n",
    "\n",
    "# 연도/월/일 column 따로 만들기\n",
    "df2['연도'] = df2['검사일자'].dt.year\n",
    "df2['월'] = df2['검사일자'].dt.month\n",
    "df2['일'] = df2['검사일자'].dt.day"
   ]
  },
  {
   "cell_type": "code",
   "execution_count": 17,
   "id": "8829a1fa-d0f2-495f-8b06-6b58f624ce75",
   "metadata": {},
   "outputs": [
    {
     "data": {
      "text/html": [
       "<div>\n",
       "<style scoped>\n",
       "    .dataframe tbody tr th:only-of-type {\n",
       "        vertical-align: middle;\n",
       "    }\n",
       "\n",
       "    .dataframe tbody tr th {\n",
       "        vertical-align: top;\n",
       "    }\n",
       "\n",
       "    .dataframe thead th {\n",
       "        text-align: right;\n",
       "    }\n",
       "</style>\n",
       "<table border=\"1\" class=\"dataframe\">\n",
       "  <thead>\n",
       "    <tr style=\"text-align: right;\">\n",
       "      <th></th>\n",
       "      <th>검사결과이력조회코드</th>\n",
       "      <th>검사일자</th>\n",
       "      <th>검사종류</th>\n",
       "      <th>검사차수</th>\n",
       "      <th>검사결과</th>\n",
       "      <th>검사기관</th>\n",
       "      <th>검사당시승강기구분</th>\n",
       "      <th>검사당시승강기형식</th>\n",
       "      <th>승강기세부형식</th>\n",
       "      <th>검사당시승강기종류</th>\n",
       "      <th>설치수시구분</th>\n",
       "      <th>연월</th>\n",
       "      <th>연도</th>\n",
       "      <th>월</th>\n",
       "      <th>일</th>\n",
       "    </tr>\n",
       "  </thead>\n",
       "  <tbody>\n",
       "    <tr>\n",
       "      <th>0</th>\n",
       "      <td>4300001</td>\n",
       "      <td>2024-08-23</td>\n",
       "      <td>정기</td>\n",
       "      <td>1</td>\n",
       "      <td>합격</td>\n",
       "      <td>한국승강기안전공단 서울서부지사</td>\n",
       "      <td>엘리베이터</td>\n",
       "      <td>권상식</td>\n",
       "      <td>VVVF</td>\n",
       "      <td>승객용</td>\n",
       "      <td>NaN</td>\n",
       "      <td>2024-08</td>\n",
       "      <td>2024</td>\n",
       "      <td>8</td>\n",
       "      <td>23</td>\n",
       "    </tr>\n",
       "    <tr>\n",
       "      <th>1</th>\n",
       "      <td>8500001</td>\n",
       "      <td>2024-09-05</td>\n",
       "      <td>정기</td>\n",
       "      <td>1</td>\n",
       "      <td>조건부합격(1개월/서류검사)</td>\n",
       "      <td>(재)승강기안전기술연구원 서울지원</td>\n",
       "      <td>엘리베이터</td>\n",
       "      <td>권상식</td>\n",
       "      <td>VVVF</td>\n",
       "      <td>화물용</td>\n",
       "      <td>NaN</td>\n",
       "      <td>2024-09</td>\n",
       "      <td>2024</td>\n",
       "      <td>9</td>\n",
       "      <td>5</td>\n",
       "    </tr>\n",
       "    <tr>\n",
       "      <th>2</th>\n",
       "      <td>8500001</td>\n",
       "      <td>2024-09-24</td>\n",
       "      <td>정기</td>\n",
       "      <td>2</td>\n",
       "      <td>조건후합격</td>\n",
       "      <td>(재)승강기안전기술연구원 서울지원</td>\n",
       "      <td>엘리베이터</td>\n",
       "      <td>권상식</td>\n",
       "      <td>VVVF</td>\n",
       "      <td>화물용</td>\n",
       "      <td>NaN</td>\n",
       "      <td>2024-09</td>\n",
       "      <td>2024</td>\n",
       "      <td>9</td>\n",
       "      <td>24</td>\n",
       "    </tr>\n",
       "    <tr>\n",
       "      <th>3</th>\n",
       "      <td>10000015</td>\n",
       "      <td>2024-12-13</td>\n",
       "      <td>정기</td>\n",
       "      <td>1</td>\n",
       "      <td>합격</td>\n",
       "      <td>한국승강기안전공단 서울동부지사</td>\n",
       "      <td>엘리베이터</td>\n",
       "      <td>권상식</td>\n",
       "      <td>VVVF</td>\n",
       "      <td>승객용</td>\n",
       "      <td>NaN</td>\n",
       "      <td>2024-12</td>\n",
       "      <td>2024</td>\n",
       "      <td>12</td>\n",
       "      <td>13</td>\n",
       "    </tr>\n",
       "    <tr>\n",
       "      <th>4</th>\n",
       "      <td>10000029</td>\n",
       "      <td>2024-08-06</td>\n",
       "      <td>정밀</td>\n",
       "      <td>1</td>\n",
       "      <td>합격</td>\n",
       "      <td>한국승강기안전공단 서울동부지사</td>\n",
       "      <td>엘리베이터</td>\n",
       "      <td>권상식</td>\n",
       "      <td>VVVF</td>\n",
       "      <td>승객용</td>\n",
       "      <td>NaN</td>\n",
       "      <td>2024-08</td>\n",
       "      <td>2024</td>\n",
       "      <td>8</td>\n",
       "      <td>6</td>\n",
       "    </tr>\n",
       "  </tbody>\n",
       "</table>\n",
       "</div>"
      ],
      "text/plain": [
       "   검사결과이력조회코드       검사일자 검사종류  검사차수             검사결과                검사기관  \\\n",
       "0     4300001 2024-08-23   정기     1               합격    한국승강기안전공단 서울서부지사   \n",
       "1     8500001 2024-09-05   정기     1  조건부합격(1개월/서류검사)  (재)승강기안전기술연구원 서울지원   \n",
       "2     8500001 2024-09-24   정기     2            조건후합격  (재)승강기안전기술연구원 서울지원   \n",
       "3    10000015 2024-12-13   정기     1               합격    한국승강기안전공단 서울동부지사   \n",
       "4    10000029 2024-08-06   정밀     1               합격    한국승강기안전공단 서울동부지사   \n",
       "\n",
       "  검사당시승강기구분 검사당시승강기형식 승강기세부형식 검사당시승강기종류 설치수시구분       연월    연도   월   일  \n",
       "0     엘리베이터       권상식    VVVF       승객용    NaN  2024-08  2024   8  23  \n",
       "1     엘리베이터       권상식    VVVF       화물용    NaN  2024-09  2024   9   5  \n",
       "2     엘리베이터       권상식    VVVF       화물용    NaN  2024-09  2024   9  24  \n",
       "3     엘리베이터       권상식    VVVF       승객용    NaN  2024-12  2024  12  13  \n",
       "4     엘리베이터       권상식    VVVF       승객용    NaN  2024-08  2024   8   6  "
      ]
     },
     "execution_count": 17,
     "metadata": {},
     "output_type": "execute_result"
    }
   ],
   "source": [
    "df2.head()"
   ]
  },
  {
   "cell_type": "code",
   "execution_count": 18,
   "id": "2dd197ca-ff8a-411b-8aae-ec2505a18388",
   "metadata": {},
   "outputs": [
    {
     "name": "stdout",
     "output_type": "stream",
     "text": [
      "데이터 기간: 2024-07-01 ~ 2024-12-31\n"
     ]
    }
   ],
   "source": [
    "# 1. 전체 날짜 범위 확인\n",
    "start_date = df2['검사일자'].min()\n",
    "end_date = df2['검사일자'].max()\n",
    "print(f\"데이터 기간: {start_date.date()} ~ {end_date.date()}\")"
   ]
  },
  {
   "cell_type": "markdown",
   "id": "19328f3b-fd2d-4782-bd23-a34460274802",
   "metadata": {},
   "source": [
    "- 데이터의 기간이 반년임\n",
    "- 알고보니 주기성 과거 데이터가 2018년까지 있음\n",
    "- 일단 이 데이터로 진행하고 추가로 주기성 과거 데이터를 불러와서 분석해야할 것 같음"
   ]
  },
  {
   "cell_type": "code",
   "execution_count": 19,
   "id": "fbe6bf63-179d-4bca-9628-89fe8e38576e",
   "metadata": {},
   "outputs": [
    {
     "data": {
      "image/png": "[encoded data removed]",
      "text/plain": [
       "<Figure size 1200x500 with 1 Axes>"
      ]
     },
     "metadata": {},
     "output_type": "display_data"
    }
   ],
   "source": [
    "import matplotlib.pyplot as plt\n",
    "\n",
    "monthly_counts = df2['연월'].value_counts().sort_index()\n",
    "\n",
    "# 2. 연월별 검사 수 히스토그램 시각화\n",
    "monthly_counts.plot(kind='bar', figsize=(12, 5))\n",
    "plt.title('연-월별 검사 수')\n",
    "plt.xlabel('연-월')\n",
    "plt.ylabel('검사 수')\n",
    "plt.xticks(rotation=45)\n",
    "plt.tight_layout()\n",
    "plt.show()"
   ]
  },
  {
   "cell_type": "markdown",
   "id": "a04f2e81-1afe-4c24-8148-26c85f8c442e",
   "metadata": {},
   "source": [
    "### 함수 1"
   ]
  },
  {
   "cell_type": "code",
   "execution_count": 20,
   "id": "995c8c0d-a214-4720-9411-f3ce017e2035",
   "metadata": {},
   "outputs": [],
   "source": [
    "import pandas as pd\n",
    "import plotly.express as px\n",
    "\n",
    "def plot_top_institutions(df, date_col='검사일자', group_col='검사기관', top_n=5):\n",
    "    # 1. 날짜 열 datetime 변환\n",
    "    df = df.copy()\n",
    "    df[date_col] = pd.to_datetime(df[date_col])\n",
    "    df['연월'] = df[date_col].dt.to_period('M').astype(str)  # '2024-08' 형식 문자열\n",
    "\n",
    "    # 2. 검사기관별 전체 건수 기준 상위 N개 추출\n",
    "    top_insts = df[group_col].value_counts().nlargest(top_n).index\n",
    "\n",
    "    # 3. 해당 기관만 필터링\n",
    "    filtered = df[df[group_col].isin(top_insts)]\n",
    "\n",
    "    # 4. 연월별 count 집계 (검사기관 × 연월)\n",
    "    summary = filtered.groupby(['연월', group_col]).size().reset_index(name='건수')\n",
    "\n",
    "    # 5. Plotly line plot (interactive)\n",
    "    fig = px.line(summary,\n",
    "                  x='연월',\n",
    "                  y='건수',\n",
    "                  color=group_col,\n",
    "                  markers=True,\n",
    "                  title=f'상위 {top_n} 검사기관의 월별 검사 건수',\n",
    "                  labels={'연월': '연-월', '건수': '검사 수', group_col: '검사기관'},\n",
    "                  hover_data={'연월': True, '건수': True, group_col: True}\n",
    "                 )\n",
    "\n",
    "    fig.update_layout(\n",
    "        xaxis=dict(tickangle=45),\n",
    "        hovermode='x unified',\n",
    "        width=1000,\n",
    "        height=500\n",
    "    )\n",
    "\n",
    "    fig.show()\n"
   ]
  },
  {
   "cell_type": "code",
   "execution_count": 21,
   "id": "55da218c-6547-4881-b030-0d2337d81ba5",
   "metadata": {},
   "outputs": [
    {
     "data": {
      "application/vnd.plotly.v1+json": {
       "config": {
        "plotlyServerURL": "https://plot.ly"
       },
       "data": [
        {
         "customdata": [
          [
           "(재)승강기안전기술연구원 서울지원"
          ],
          [
           "(재)승강기안전기술연구원 서울지원"
          ],
          [
           "(재)승강기안전기술연구원 서울지원"
          ],
          [
           "(재)승강기안전기술연구원 서울지원"
          ],
          [
           "(재)승강기안전기술연구원 서울지원"
          ],
          [
           "(재)승강기안전기술연구원 서울지원"
          ]
         ],
         "hovertemplate": "검사기관=%{customdata[0]}<br>연-월=%{x}<br>검사 수=%{y}<extra></extra>",
         "legendgroup": "(재)승강기안전기술연구원 서울지원",
         "line": {
          "color": "#636efa",
          "dash": "solid"
         },
         "marker": {
          "symbol": "circle"
         },
         "mode": "lines+markers",
         "name": "(재)승강기안전기술연구원 서울지원",
         "orientation": "v",
         "showlegend": true,
         "type": "scatter",
         "x": [
          "2024-07",
          "2024-08",
          "2024-09",
          "2024-10",
          "2024-11",
          "2024-12"
         ],
         "xaxis": "x",
         "y": {
          "bdata": "2g9gEkMSDg3QD70L",
          "dtype": "i2"
         },
         "yaxis": "y"
        },
        {
         "customdata": [
          [
           "한국승강기안전공단 강원지사"
          ],
          [
           "한국승강기안전공단 강원지사"
          ],
          [
           "한국승강기안전공단 강원지사"
          ],
          [
           "한국승강기안전공단 강원지사"
          ],
          [
           "한국승강기안전공단 강원지사"
          ],
          [
           "한국승강기안전공단 강원지사"
          ]
         ],
         "hovertemplate": "검사기관=%{customdata[0]}<br>연-월=%{x}<br>검사 수=%{y}<extra></extra>",
         "legendgroup": "한국승강기안전공단 강원지사",
         "line": {
          "color": "#EF553B",
          "dash": "solid"
         },
         "marker": {
          "symbol": "circle"
         },
         "mode": "lines+markers",
         "name": "한국승강기안전공단 강원지사",
         "orientation": "v",
         "showlegend": true,
         "type": "scatter",
         "x": [
          "2024-07",
          "2024-08",
          "2024-09",
          "2024-10",
          "2024-11",
          "2024-12"
         ],
         "xaxis": "x",
         "y": {
          "bdata": "EQvfCbsJDgurDBgM",
          "dtype": "i2"
         },
         "yaxis": "y"
        },
        {
         "customdata": [
          [
           "한국승강기안전공단 경기북부지사"
          ],
          [
           "한국승강기안전공단 경기북부지사"
          ],
          [
           "한국승강기안전공단 경기북부지사"
          ],
          [
           "한국승강기안전공단 경기북부지사"
          ],
          [
           "한국승강기안전공단 경기북부지사"
          ],
          [
           "한국승강기안전공단 경기북부지사"
          ]
         ],
         "hovertemplate": "검사기관=%{customdata[0]}<br>연-월=%{x}<br>검사 수=%{y}<extra></extra>",
         "legendgroup": "한국승강기안전공단 경기북부지사",
         "line": {
          "color": "#00cc96",
          "dash": "solid"
         },
         "marker": {
          "symbol": "circle"
         },
         "mode": "lines+markers",
         "name": "한국승강기안전공단 경기북부지사",
         "orientation": "v",
         "showlegend": true,
         "type": "scatter",
         "x": [
          "2024-07",
          "2024-08",
          "2024-09",
          "2024-10",
          "2024-11",
          "2024-12"
         ],
         "xaxis": "x",
         "y": {
          "bdata": "GxH6D9gOEBAFEg8R",
          "dtype": "i2"
         },
         "yaxis": "y"
        },
        {
         "customdata": [
          [
           "한국승강기안전공단 고양파주지사"
          ],
          [
           "한국승강기안전공단 고양파주지사"
          ],
          [
           "한국승강기안전공단 고양파주지사"
          ],
          [
           "한국승강기안전공단 고양파주지사"
          ],
          [
           "한국승강기안전공단 고양파주지사"
          ],
          [
           "한국승강기안전공단 고양파주지사"
          ]
         ],
         "hovertemplate": "검사기관=%{customdata[0]}<br>연-월=%{x}<br>검사 수=%{y}<extra></extra>",
         "legendgroup": "한국승강기안전공단 고양파주지사",
         "line": {
          "color": "#ab63fa",
          "dash": "solid"
         },
         "marker": {
          "symbol": "circle"
         },
         "mode": "lines+markers",
         "name": "한국승강기안전공단 고양파주지사",
         "orientation": "v",
         "showlegend": true,
         "type": "scatter",
         "x": [
          "2024-07",
          "2024-08",
          "2024-09",
          "2024-10",
          "2024-11",
          "2024-12"
         ],
         "xaxis": "x",
         "y": {
          "bdata": "CQ07DKwLNg1lDh0O",
          "dtype": "i2"
         },
         "yaxis": "y"
        },
        {
         "customdata": [
          [
           "한국승강기안전공단 대전지사"
          ],
          [
           "한국승강기안전공단 대전지사"
          ],
          [
           "한국승강기안전공단 대전지사"
          ],
          [
           "한국승강기안전공단 대전지사"
          ],
          [
           "한국승강기안전공단 대전지사"
          ],
          [
           "한국승강기안전공단 대전지사"
          ]
         ],
         "hovertemplate": "검사기관=%{customdata[0]}<br>연-월=%{x}<br>검사 수=%{y}<extra></extra>",
         "legendgroup": "한국승강기안전공단 대전지사",
         "line": {
          "color": "#FFA15A",
          "dash": "solid"
         },
         "marker": {
          "symbol": "circle"
         },
         "mode": "lines+markers",
         "name": "한국승강기안전공단 대전지사",
         "orientation": "v",
         "showlegend": true,
         "type": "scatter",
         "x": [
          "2024-07",
          "2024-08",
          "2024-09",
          "2024-10",
          "2024-11",
          "2024-12"
         ],
         "xaxis": "x",
         "y": {
          "bdata": "YQxRC4gKKQsADrwL",
          "dtype": "i2"
         },
         "yaxis": "y"
        },
        {
         "customdata": [
          [
           "한국승강기안전공단 인천남부지사"
          ],
          [
           "한국승강기안전공단 인천남부지사"
          ],
          [
           "한국승강기안전공단 인천남부지사"
          ],
          [
           "한국승강기안전공단 인천남부지사"
          ],
          [
           "한국승강기안전공단 인천남부지사"
          ],
          [
           "한국승강기안전공단 인천남부지사"
          ]
         ],
         "hovertemplate": "검사기관=%{customdata[0]}<br>연-월=%{x}<br>검사 수=%{y}<extra></extra>",
         "legendgroup": "한국승강기안전공단 인천남부지사",
         "line": {
          "color": "#19d3f3",
          "dash": "solid"
         },
         "marker": {
          "symbol": "circle"
         },
         "mode": "lines+markers",
         "name": "한국승강기안전공단 인천남부지사",
         "orientation": "v",
         "showlegend": true,
         "type": "scatter",
         "x": [
          "2024-07",
          "2024-08",
          "2024-09",
          "2024-10",
          "2024-11",
          "2024-12"
         ],
         "xaxis": "x",
         "y": {
          "bdata": "4QuVCmsK4AqADNsL",
          "dtype": "i2"
         },
         "yaxis": "y"
        },
        {
         "customdata": [
          [
           "한국승강기안전공단 충북지사"
          ],
          [
           "한국승강기안전공단 충북지사"
          ],
          [
           "한국승강기안전공단 충북지사"
          ],
          [
           "한국승강기안전공단 충북지사"
          ],
          [
           "한국승강기안전공단 충북지사"
          ],
          [
           "한국승강기안전공단 충북지사"
          ]
         ],
         "hovertemplate": "검사기관=%{customdata[0]}<br>연-월=%{x}<br>검사 수=%{y}<extra></extra>",
         "legendgroup": "한국승강기안전공단 충북지사",
         "line": {
          "color": "#FF6692",
          "dash": "solid"
         },
         "marker": {
          "symbol": "circle"
         },
         "mode": "lines+markers",
         "name": "한국승강기안전공단 충북지사",
         "orientation": "v",
         "showlegend": true,
         "type": "scatter",
         "x": [
          "2024-07",
          "2024-08",
          "2024-09",
          "2024-10",
          "2024-11",
          "2024-12"
         ],
         "xaxis": "x",
         "y": {
          "bdata": "dwxOC0kKBgvnC2EK",
          "dtype": "i2"
         },
         "yaxis": "y"
        }
       ],
       "layout": {
        "height": 500,
        "hovermode": "x unified",
        "legend": {
         "title": {
          "text": "검사기관"
         },
         "tracegroupgap": 0
        },
        "template": {
         "data": {
          "bar": [
           {
            "error_x": {
             "color": "#2a3f5f"
            },
            "error_y": {
             "color": "#2a3f5f"
            },
            "marker": {
             "line": {
              "color": "#E5ECF6",
              "width": 0.5
             },
             "pattern": {
              "fillmode": "overlay",
              "size": 10,
              "solidity": 0.2
             }
            },
            "type": "bar"
           }
          ],
          "barpolar": [
           {
            "marker": {
             "line": {
              "color": "#E5ECF6",
              "width": 0.5
             },
             "pattern": {
              "fillmode": "overlay",
              "size": 10,
              "solidity": 0.2
             }
            },
            "type": "barpolar"
           }
          ],
          "carpet": [
           {
            "aaxis": {
             "endlinecolor": "#2a3f5f",
             "gridcolor": "white",
             "linecolor": "white",
             "minorgridcolor": "white",
             "startlinecolor": "#2a3f5f"
            },
            "baxis": {
             "endlinecolor": "#2a3f5f",
             "gridcolor": "white",
             "linecolor": "white",
             "minorgridcolor": "white",
             "startlinecolor": "#2a3f5f"
            },
            "type": "carpet"
           }
          ],
          "choropleth": [
           {
            "colorbar": {
             "outlinewidth": 0,
             "ticks": ""
            },
            "type": "choropleth"
           }
          ],
          "contour": [
           {
            "colorbar": {
             "outlinewidth": 0,
             "ticks": ""
            },
            "colorscale": [
             [
              0,
              "#0d0887"
             ],
             [
              0.1111111111111111,
              "#46039f"
             ],
             [
              0.2222222222222222,
              "#7201a8"
             ],
             [
              0.3333333333333333,
              "#9c179e"
             ],
             [
              0.4444444444444444,
              "#bd3786"
             ],
             [
              0.5555555555555556,
              "#d8576b"
             ],
             [
              0.6666666666666666,
              "#ed7953"
             ],
             [
              0.7777777777777778,
              "#fb9f3a"
             ],
             [
              0.8888888888888888,
              "#fdca26"
             ],
             [
              1,
              "#f0f921"
             ]
            ],
            "type": "contour"
           }
          ],
          "contourcarpet": [
           {
            "colorbar": {
             "outlinewidth": 0,
             "ticks": ""
            },
            "type": "contourcarpet"
           }
          ],
          "heatmap": [
           {
            "colorbar": {
             "outlinewidth": 0,
             "ticks": ""
            },
            "colorscale": [
             [
              0,
              "#0d0887"
             ],
             [
              0.1111111111111111,
              "#46039f"
             ],
             [
              0.2222222222222222,
              "#7201a8"
             ],
             [
              0.3333333333333333,
              "#9c179e"
             ],
             [
              0.4444444444444444,
              "#bd3786"
             ],
             [
              0.5555555555555556,
              "#d8576b"
             ],
             [
              0.6666666666666666,
              "#ed7953"
             ],
             [
              0.7777777777777778,
              "#fb9f3a"
             ],
             [
              0.8888888888888888,
              "#fdca26"
             ],
             [
              1,
              "#f0f921"
             ]
            ],
            "type": "heatmap"
           }
          ],
          "histogram": [
           {
            "marker": {
             "pattern": {
              "fillmode": "overlay",
              "size": 10,
              "solidity": 0.2
             }
            },
            "type": "histogram"
           }
          ],
          "histogram2d": [
           {
            "colorbar": {
             "outlinewidth": 0,
             "ticks": ""
            },
            "colorscale": [
             [
              0,
              "#0d0887"
             ],
             [
              0.1111111111111111,
              "#46039f"
             ],
             [
              0.2222222222222222,
              "#7201a8"
             ],
             [
              0.3333333333333333,
              "#9c179e"
             ],
             [
              0.4444444444444444,
              "#bd3786"
             ],
             [
              0.5555555555555556,
              "#d8576b"
             ],
             [
              0.6666666666666666,
              "#ed7953"
             ],
             [
              0.7777777777777778,
              "#fb9f3a"
             ],
             [
              0.8888888888888888,
              "#fdca26"
             ],
             [
              1,
              "#f0f921"
             ]
            ],
            "type": "histogram2d"
           }
          ],
          "histogram2dcontour": [
           {
            "colorbar": {
             "outlinewidth": 0,
             "ticks": ""
            },
            "colorscale": [
             [
              0,
              "#0d0887"
             ],
             [
              0.1111111111111111,
              "#46039f"
             ],
             [
              0.2222222222222222,
              "#7201a8"
             ],
             [
              0.3333333333333333,
              "#9c179e"
             ],
             [
              0.4444444444444444,
              "#bd3786"
             ],
             [
              0.5555555555555556,
              "#d8576b"
             ],
             [
              0.6666666666666666,
              "#ed7953"
             ],
             [
              0.7777777777777778,
              "#fb9f3a"
             ],
             [
              0.8888888888888888,
              "#fdca26"
             ],
             [
              1,
              "#f0f921"
             ]
            ],
            "type": "histogram2dcontour"
           }
          ],
          "mesh3d": [
           {
            "colorbar": {
             "outlinewidth": 0,
             "ticks": ""
            },
            "type": "mesh3d"
           }
          ],
          "parcoords": [
           {
            "line": {
             "colorbar": {
              "outlinewidth": 0,
              "ticks": ""
             }
            },
            "type": "parcoords"
           }
          ],
          "pie": [
           {
            "automargin": true,
            "type": "pie"
           }
          ],
          "scatter": [
           {
            "fillpattern": {
             "fillmode": "overlay",
             "size": 10,
             "solidity": 0.2
            },
            "type": "scatter"
           }
          ],
          "scatter3d": [
           {
            "line": {
             "colorbar": {
              "outlinewidth": 0,
              "ticks": ""
             }
            },
            "marker": {
             "colorbar": {
              "outlinewidth": 0,
              "ticks": ""
             }
            },
            "type": "scatter3d"
           }
          ],
          "scattercarpet": [
           {
            "marker": {
             "colorbar": {
              "outlinewidth": 0,
              "ticks": ""
             }
            },
            "type": "scattercarpet"
           }
          ],
          "scattergeo": [
           {
            "marker": {
             "colorbar": {
              "outlinewidth": 0,
              "ticks": ""
             }
            },
            "type": "scattergeo"
           }
          ],
          "scattergl": [
           {
            "marker": {
             "colorbar": {
              "outlinewidth": 0,
              "ticks": ""
             }
            },
            "type": "scattergl"
           }
          ],
          "scattermap": [
           {
            "marker": {
             "colorbar": {
              "outlinewidth": 0,
              "ticks": ""
             }
            },
            "type": "scattermap"
           }
          ],
          "scattermapbox": [
           {
            "marker": {
             "colorbar": {
              "outlinewidth": 0,
              "ticks": ""
             }
            },
            "type": "scattermapbox"
           }
          ],
          "scatterpolar": [
           {
            "marker": {
             "colorbar": {
              "outlinewidth": 0,
              "ticks": ""
             }
            },
            "type": "scatterpolar"
           }
          ],
          "scatterpolargl": [
           {
            "marker": {
             "colorbar": {
              "outlinewidth": 0,
              "ticks": ""
             }
            },
            "type": "scatterpolargl"
           }
          ],
          "scatterternary": [
           {
            "marker": {
             "colorbar": {
              "outlinewidth": 0,
              "ticks": ""
             }
            },
            "type": "scatterternary"
           }
          ],
          "surface": [
           {
            "colorbar": {
             "outlinewidth": 0,
             "ticks": ""
            },
            "colorscale": [
             [
              0,
              "#0d0887"
             ],
             [
              0.1111111111111111,
              "#46039f"
             ],
             [
              0.2222222222222222,
              "#7201a8"
             ],
             [
              0.3333333333333333,
              "#9c179e"
             ],
             [
              0.4444444444444444,
              "#bd3786"
             ],
             [
              0.5555555555555556,
              "#d8576b"
             ],
             [
              0.6666666666666666,
              "#ed7953"
             ],
             [
              0.7777777777777778,
              "#fb9f3a"
             ],
             [
              0.8888888888888888,
              "#fdca26"
             ],
             [
              1,
              "#f0f921"
             ]
            ],
            "type": "surface"
           }
          ],
          "table": [
           {
            "cells": {
             "fill": {
              "color": "#EBF0F8"
             },
             "line": {
              "color": "white"
             }
            },
            "header": {
             "fill": {
              "color": "#C8D4E3"
             },
             "line": {
              "color": "white"
             }
            },
            "type": "table"
           }
          ]
         },
         "layout": {
          "annotationdefaults": {
           "arrowcolor": "#2a3f5f",
           "arrowhead": 0,
           "arrowwidth": 1
          },
          "autotypenumbers": "strict",
          "coloraxis": {
           "colorbar": {
            "outlinewidth": 0,
            "ticks": ""
           }
          },
          "colorscale": {
           "diverging": [
            [
             0,
             "#8e0152"
            ],
            [
             0.1,
             "#c51b7d"
            ],
            [
             0.2,
             "#de77ae"
            ],
            [
             0.3,
             "#f1b6da"
            ],
            [
             0.4,
             "#fde0ef"
            ],
            [
             0.5,
             "#f7f7f7"
            ],
            [
             0.6,
             "#e6f5d0"
            ],
            [
             0.7,
             "#b8e186"
            ],
            [
             0.8,
             "#7fbc41"
            ],
            [
             0.9,
             "#4d9221"
            ],
            [
             1,
             "#276419"
            ]
           ],
           "sequential": [
            [
             0,
             "#0d0887"
            ],
            [
             0.1111111111111111,
             "#46039f"
            ],
            [
             0.2222222222222222,
             "#7201a8"
            ],
            [
             0.3333333333333333,
             "#9c179e"
            ],
            [
             0.4444444444444444,
             "#bd3786"
            ],
            [
             0.5555555555555556,
             "#d8576b"
            ],
            [
             0.6666666666666666,
             "#ed7953"
            ],
            [
             0.7777777777777778,
             "#fb9f3a"
            ],
            [
             0.8888888888888888,
             "#fdca26"
            ],
            [
             1,
             "#f0f921"
            ]
           ],
           "sequentialminus": [
            [
             0,
             "#0d0887"
            ],
            [
             0.1111111111111111,
             "#46039f"
            ],
            [
             0.2222222222222222,
             "#7201a8"
            ],
            [
             0.3333333333333333,
             "#9c179e"
            ],
            [
             0.4444444444444444,
             "#bd3786"
            ],
            [
             0.5555555555555556,
             "#d8576b"
            ],
            [
             0.6666666666666666,
             "#ed7953"
            ],
            [
             0.7777777777777778,
             "#fb9f3a"
            ],
            [
             0.8888888888888888,
             "#fdca26"
            ],
            [
             1,
             "#f0f921"
            ]
           ]
          },
          "colorway": [
           "#636efa",
           "#EF553B",
           "#00cc96",
           "#ab63fa",
           "#FFA15A",
           "#19d3f3",
           "#FF6692",
           "#B6E880",
           "#FF97FF",
           "#FECB52"
          ],
          "font": {
           "color": "#2a3f5f"
          },
          "geo": {
           "bgcolor": "white",
           "lakecolor": "white",
           "landcolor": "#E5ECF6",
           "showlakes": true,
           "showland": true,
           "subunitcolor": "white"
          },
          "hoverlabel": {
           "align": "left"
          },
          "hovermode": "closest",
          "mapbox": {
           "style": "light"
          },
          "paper_bgcolor": "white",
          "plot_bgcolor": "#E5ECF6",
          "polar": {
           "angularaxis": {
            "gridcolor": "white",
            "linecolor": "white",
            "ticks": ""
           },
           "bgcolor": "#E5ECF6",
           "radialaxis": {
            "gridcolor": "white",
            "linecolor": "white",
            "ticks": ""
           }
          },
          "scene": {
           "xaxis": {
            "backgroundcolor": "#E5ECF6",
            "gridcolor": "white",
            "gridwidth": 2,
            "linecolor": "white",
            "showbackground": true,
            "ticks": "",
            "zerolinecolor": "white"
           },
           "yaxis": {
            "backgroundcolor": "#E5ECF6",
            "gridcolor": "white",
            "gridwidth": 2,
            "linecolor": "white",
            "showbackground": true,
            "ticks": "",
            "zerolinecolor": "white"
           },
           "zaxis": {
            "backgroundcolor": "#E5ECF6",
            "gridcolor": "white",
            "gridwidth": 2,
            "linecolor": "white",
            "showbackground": true,
            "ticks": "",
            "zerolinecolor": "white"
           }
          },
          "shapedefaults": {
           "line": {
            "color": "#2a3f5f"
           }
          },
          "ternary": {
           "aaxis": {
            "gridcolor": "white",
            "linecolor": "white",
            "ticks": ""
           },
           "baxis": {
            "gridcolor": "white",
            "linecolor": "white",
            "ticks": ""
           },
           "bgcolor": "#E5ECF6",
           "caxis": {
            "gridcolor": "white",
            "linecolor": "white",
            "ticks": ""
           }
          },
          "title": {
           "x": 0.05
          },
          "xaxis": {
           "automargin": true,
           "gridcolor": "white",
           "linecolor": "white",
           "ticks": "",
           "title": {
            "standoff": 15
           },
           "zerolinecolor": "white",
           "zerolinewidth": 2
          },
          "yaxis": {
           "automargin": true,
           "gridcolor": "white",
           "linecolor": "white",
           "ticks": "",
           "title": {
            "standoff": 15
           },
           "zerolinecolor": "white",
           "zerolinewidth": 2
          }
         }
        },
        "title": {
         "text": "상위 7 검사기관의 월별 검사 건수"
        },
        "width": 1000,
        "xaxis": {
         "anchor": "y",
         "domain": [
          0,
          1
         ],
         "tickangle": 45,
         "title": {
          "text": "연-월"
         }
        },
        "yaxis": {
         "anchor": "x",
         "domain": [
          0,
          1
         ],
         "title": {
          "text": "검사 수"
         }
        }
       }
      }
     },
     "metadata": {},
     "output_type": "display_data"
    }
   ],
   "source": [
    "# 사용 예시\n",
    "plot_top_institutions(df, top_n=7)"
   ]
  },
  {
   "cell_type": "markdown",
   "id": "3cf8ef39-4642-4f32-aa8d-43ad4bf88668",
   "metadata": {},
   "source": [
    "- '(재)승강기안전기술연구원 서울지원'의 추세가 다른 검사기관들과 비교됨"
   ]
  },
  {
   "cell_type": "markdown",
   "id": "460eed5b-6b1a-49c8-8a2c-938f6e08a015",
   "metadata": {},
   "source": [
    "### 함수 2"
   ]
  },
  {
   "cell_type": "code",
   "execution_count": 22,
   "id": "04d51c98-9dbb-497f-bc2f-3933c21c3f52",
   "metadata": {},
   "outputs": [],
   "source": [
    "import pandas as pd\n",
    "import plotly.graph_objects as go\n",
    "\n",
    "def plot_top_institutions(df, date_col='검사일자', group_col='검사기관',\n",
    "                          top_n=5, period_start=None, period_end=None):\n",
    "    df = df.copy()\n",
    "    df[date_col] = pd.to_datetime(df[date_col])\n",
    "    df['연월'] = df[date_col].dt.to_period('M').astype(str)  # '2024-08' 형식 유지\n",
    "\n",
    "    if period_start:\n",
    "        df = df[df['연월'] >= period_start]\n",
    "    if period_end:\n",
    "        df = df[df['연월'] <= period_end]\n",
    "\n",
    "    # 전체 건수 기준 상위 검사기관 추출\n",
    "    top_groups = df[group_col].value_counts().nlargest(top_n)\n",
    "    df = df[df[group_col].isin(top_groups.index)]\n",
    "\n",
    "    # 월별 건수 요약\n",
    "    summary = df.groupby(['연월', group_col]).size().reset_index(name='건수')\n",
    "\n",
    "    # 그래프 생성\n",
    "    fig = go.Figure()\n",
    "\n",
    "    for group in top_groups.index:\n",
    "        sub_df = summary[summary[group_col] == group]\n",
    "        fig.add_trace(go.Scatter(\n",
    "            x=sub_df['연월'],\n",
    "            y=sub_df['건수'],\n",
    "            mode='lines+markers',\n",
    "            name=group,\n",
    "            hovertemplate=(\n",
    "                f'<b>검사기관: {group}</b><br>' +\n",
    "                '연월: %{x}<br>검사 수: %{y}<extra></extra>'\n",
    "            )\n",
    "        ))\n",
    "\n",
    "    fig.update_layout(\n",
    "        title=f'상위 {top_n} 검사기관의 월별 검사 건수',\n",
    "        xaxis_title='연월',\n",
    "        yaxis_title='검사 수',\n",
    "        xaxis_tickangle=0,\n",
    "        xaxis=dict(type='category'),  # 날짜를 문자로 고정\n",
    "        hovermode='closest',\n",
    "        width=1000,\n",
    "        height=500\n",
    "    )\n",
    "\n",
    "    fig.show()\n"
   ]
  },
  {
   "cell_type": "code",
   "execution_count": 23,
   "id": "7ad6873a-072d-4687-a5b7-5c369ec25554",
   "metadata": {},
   "outputs": [
    {
     "data": {
      "application/vnd.plotly.v1+json": {
       "config": {
        "plotlyServerURL": "https://plot.ly"
       },
       "data": [
        {
         "hovertemplate": "<b>검사기관: 한국승강기안전공단 경기북부지사</b><br>연월: %{x}<br>검사 수: %{y}<extra></extra>",
         "mode": "lines+markers",
         "name": "한국승강기안전공단 경기북부지사",
         "type": "scatter",
         "x": [
          "2024-07",
          "2024-08",
          "2024-09",
          "2024-10",
          "2024-11",
          "2024-12"
         ],
         "y": {
          "bdata": "GxH6D9gOEBAFEg8R",
          "dtype": "i2"
         }
        },
        {
         "hovertemplate": "<b>검사기관: (재)승강기안전기술연구원 서울지원</b><br>연월: %{x}<br>검사 수: %{y}<extra></extra>",
         "mode": "lines+markers",
         "name": "(재)승강기안전기술연구원 서울지원",
         "type": "scatter",
         "x": [
          "2024-07",
          "2024-08",
          "2024-09",
          "2024-10",
          "2024-11",
          "2024-12"
         ],
         "y": {
          "bdata": "2g9gEkMSDg3QD70L",
          "dtype": "i2"
         }
        },
        {
         "hovertemplate": "<b>검사기관: 한국승강기안전공단 고양파주지사</b><br>연월: %{x}<br>검사 수: %{y}<extra></extra>",
         "mode": "lines+markers",
         "name": "한국승강기안전공단 고양파주지사",
         "type": "scatter",
         "x": [
          "2024-07",
          "2024-08",
          "2024-09",
          "2024-10",
          "2024-11",
          "2024-12"
         ],
         "y": {
          "bdata": "CQ07DKwLNg1lDh0O",
          "dtype": "i2"
         }
        },
        {
         "hovertemplate": "<b>검사기관: 한국승강기안전공단 대전지사</b><br>연월: %{x}<br>검사 수: %{y}<extra></extra>",
         "mode": "lines+markers",
         "name": "한국승강기안전공단 대전지사",
         "type": "scatter",
         "x": [
          "2024-07",
          "2024-08",
          "2024-09",
          "2024-10",
          "2024-11",
          "2024-12"
         ],
         "y": {
          "bdata": "YQxRC4gKKQsADrwL",
          "dtype": "i2"
         }
        },
        {
         "hovertemplate": "<b>검사기관: 한국승강기안전공단 인천남부지사</b><br>연월: %{x}<br>검사 수: %{y}<extra></extra>",
         "mode": "lines+markers",
         "name": "한국승강기안전공단 인천남부지사",
         "type": "scatter",
         "x": [
          "2024-07",
          "2024-08",
          "2024-09",
          "2024-10",
          "2024-11",
          "2024-12"
         ],
         "y": {
          "bdata": "4QuVCmsK4AqADNsL",
          "dtype": "i2"
         }
        },
        {
         "hovertemplate": "<b>검사기관: 한국승강기안전공단 충북지사</b><br>연월: %{x}<br>검사 수: %{y}<extra></extra>",
         "mode": "lines+markers",
         "name": "한국승강기안전공단 충북지사",
         "type": "scatter",
         "x": [
          "2024-07",
          "2024-08",
          "2024-09",
          "2024-10",
          "2024-11",
          "2024-12"
         ],
         "y": {
          "bdata": "dwxOC0kKBgvnC2EK",
          "dtype": "i2"
         }
        },
        {
         "hovertemplate": "<b>검사기관: 한국승강기안전공단 강원지사</b><br>연월: %{x}<br>검사 수: %{y}<extra></extra>",
         "mode": "lines+markers",
         "name": "한국승강기안전공단 강원지사",
         "type": "scatter",
         "x": [
          "2024-07",
          "2024-08",
          "2024-09",
          "2024-10",
          "2024-11",
          "2024-12"
         ],
         "y": {
          "bdata": "EQvfCbsJDgurDBgM",
          "dtype": "i2"
         }
        }
       ],
       "layout": {
        "height": 500,
        "hovermode": "closest",
        "template": {
         "data": {
          "bar": [
           {
            "error_x": {
             "color": "#2a3f5f"
            },
            "error_y": {
             "color": "#2a3f5f"
            },
            "marker": {
             "line": {
              "color": "#E5ECF6",
              "width": 0.5
             },
             "pattern": {
              "fillmode": "overlay",
              "size": 10,
              "solidity": 0.2
             }
            },
            "type": "bar"
           }
          ],
          "barpolar": [
           {
            "marker": {
             "line": {
              "color": "#E5ECF6",
              "width": 0.5
             },
             "pattern": {
              "fillmode": "overlay",
              "size": 10,
              "solidity": 0.2
             }
            },
            "type": "barpolar"
           }
          ],
          "carpet": [
           {
            "aaxis": {
             "endlinecolor": "#2a3f5f",
             "gridcolor": "white",
             "linecolor": "white",
             "minorgridcolor": "white",
             "startlinecolor": "#2a3f5f"
            },
            "baxis": {
             "endlinecolor": "#2a3f5f",
             "gridcolor": "white",
             "linecolor": "white",
             "minorgridcolor": "white",
             "startlinecolor": "#2a3f5f"
            },
            "type": "carpet"
           }
          ],
          "choropleth": [
           {
            "colorbar": {
             "outlinewidth": 0,
             "ticks": ""
            },
            "type": "choropleth"
           }
          ],
          "contour": [
           {
            "colorbar": {
             "outlinewidth": 0,
             "ticks": ""
            },
            "colorscale": [
             [
              0,
              "#0d0887"
             ],
             [
              0.1111111111111111,
              "#46039f"
             ],
             [
              0.2222222222222222,
              "#7201a8"
             ],
             [
              0.3333333333333333,
              "#9c179e"
             ],
             [
              0.4444444444444444,
              "#bd3786"
             ],
             [
              0.5555555555555556,
              "#d8576b"
             ],
             [
              0.6666666666666666,
              "#ed7953"
             ],
             [
              0.7777777777777778,
              "#fb9f3a"
             ],
             [
              0.8888888888888888,
              "#fdca26"
             ],
             [
              1,
              "#f0f921"
             ]
            ],
            "type": "contour"
           }
          ],
          "contourcarpet": [
           {
            "colorbar": {
             "outlinewidth": 0,
             "ticks": ""
            },
            "type": "contourcarpet"
           }
          ],
          "heatmap": [
           {
            "colorbar": {
             "outlinewidth": 0,
             "ticks": ""
            },
            "colorscale": [
             [
              0,
              "#0d0887"
             ],
             [
              0.1111111111111111,
              "#46039f"
             ],
             [
              0.2222222222222222,
              "#7201a8"
             ],
             [
              0.3333333333333333,
              "#9c179e"
             ],
             [
              0.4444444444444444,
              "#bd3786"
             ],
             [
              0.5555555555555556,
              "#d8576b"
             ],
             [
              0.6666666666666666,
              "#ed7953"
             ],
             [
              0.7777777777777778,
              "#fb9f3a"
             ],
             [
              0.8888888888888888,
              "#fdca26"
             ],
             [
              1,
              "#f0f921"
             ]
            ],
            "type": "heatmap"
           }
          ],
          "histogram": [
           {
            "marker": {
             "pattern": {
              "fillmode": "overlay",
              "size": 10,
              "solidity": 0.2
             }
            },
            "type": "histogram"
           }
          ],
          "histogram2d": [
           {
            "colorbar": {
             "outlinewidth": 0,
             "ticks": ""
            },
            "colorscale": [
             [
              0,
              "#0d0887"
             ],
             [
              0.1111111111111111,
              "#46039f"
             ],
             [
              0.2222222222222222,
              "#7201a8"
             ],
             [
              0.3333333333333333,
              "#9c179e"
             ],
             [
              0.4444444444444444,
              "#bd3786"
             ],
             [
              0.5555555555555556,
              "#d8576b"
             ],
             [
              0.6666666666666666,
              "#ed7953"
             ],
             [
              0.7777777777777778,
              "#fb9f3a"
             ],
             [
              0.8888888888888888,
              "#fdca26"
             ],
             [
              1,
              "#f0f921"
             ]
            ],
            "type": "histogram2d"
           }
          ],
          "histogram2dcontour": [
           {
            "colorbar": {
             "outlinewidth": 0,
             "ticks": ""
            },
            "colorscale": [
             [
              0,
              "#0d0887"
             ],
             [
              0.1111111111111111,
              "#46039f"
             ],
             [
              0.2222222222222222,
              "#7201a8"
             ],
             [
              0.3333333333333333,
              "#9c179e"
             ],
             [
              0.4444444444444444,
              "#bd3786"
             ],
             [
              0.5555555555555556,
              "#d8576b"
             ],
             [
              0.6666666666666666,
              "#ed7953"
             ],
             [
              0.7777777777777778,
              "#fb9f3a"
             ],
             [
              0.8888888888888888,
              "#fdca26"
             ],
             [
              1,
              "#f0f921"
             ]
            ],
            "type": "histogram2dcontour"
           }
          ],
          "mesh3d": [
           {
            "colorbar": {
             "outlinewidth": 0,
             "ticks": ""
            },
            "type": "mesh3d"
           }
          ],
          "parcoords": [
           {
            "line": {
             "colorbar": {
              "outlinewidth": 0,
              "ticks": ""
             }
            },
            "type": "parcoords"
           }
          ],
          "pie": [
           {
            "automargin": true,
            "type": "pie"
           }
          ],
          "scatter": [
           {
            "fillpattern": {
             "fillmode": "overlay",
             "size": 10,
             "solidity": 0.2
            },
            "type": "scatter"
           }
          ],
          "scatter3d": [
           {
            "line": {
             "colorbar": {
              "outlinewidth": 0,
              "ticks": ""
             }
            },
            "marker": {
             "colorbar": {
              "outlinewidth": 0,
              "ticks": ""
             }
            },
            "type": "scatter3d"
           }
          ],
          "scattercarpet": [
           {
            "marker": {
             "colorbar": {
              "outlinewidth": 0,
              "ticks": ""
             }
            },
            "type": "scattercarpet"
           }
          ],
          "scattergeo": [
           {
            "marker": {
             "colorbar": {
              "outlinewidth": 0,
              "ticks": ""
             }
            },
            "type": "scattergeo"
           }
          ],
          "scattergl": [
           {
            "marker": {
             "colorbar": {
              "outlinewidth": 0,
              "ticks": ""
             }
            },
            "type": "scattergl"
           }
          ],
          "scattermap": [
           {
            "marker": {
             "colorbar": {
              "outlinewidth": 0,
              "ticks": ""
             }
            },
            "type": "scattermap"
           }
          ],
          "scattermapbox": [
           {
            "marker": {
             "colorbar": {
              "outlinewidth": 0,
              "ticks": ""
             }
            },
            "type": "scattermapbox"
           }
          ],
          "scatterpolar": [
           {
            "marker": {
             "colorbar": {
              "outlinewidth": 0,
              "ticks": ""
             }
            },
            "type": "scatterpolar"
           }
          ],
          "scatterpolargl": [
           {
            "marker": {
             "colorbar": {
              "outlinewidth": 0,
              "ticks": ""
             }
            },
            "type": "scatterpolargl"
           }
          ],
          "scatterternary": [
           {
            "marker": {
             "colorbar": {
              "outlinewidth": 0,
              "ticks": ""
             }
            },
            "type": "scatterternary"
           }
          ],
          "surface": [
           {
            "colorbar": {
             "outlinewidth": 0,
             "ticks": ""
            },
            "colorscale": [
             [
              0,
              "#0d0887"
             ],
             [
              0.1111111111111111,
              "#46039f"
             ],
             [
              0.2222222222222222,
              "#7201a8"
             ],
             [
              0.3333333333333333,
              "#9c179e"
             ],
             [
              0.4444444444444444,
              "#bd3786"
             ],
             [
              0.5555555555555556,
              "#d8576b"
             ],
             [
              0.6666666666666666,
              "#ed7953"
             ],
             [
              0.7777777777777778,
              "#fb9f3a"
             ],
             [
              0.8888888888888888,
              "#fdca26"
             ],
             [
              1,
              "#f0f921"
             ]
            ],
            "type": "surface"
           }
          ],
          "table": [
           {
            "cells": {
             "fill": {
              "color": "#EBF0F8"
             },
             "line": {
              "color": "white"
             }
            },
            "header": {
             "fill": {
              "color": "#C8D4E3"
             },
             "line": {
              "color": "white"
             }
            },
            "type": "table"
           }
          ]
         },
         "layout": {
          "annotationdefaults": {
           "arrowcolor": "#2a3f5f",
           "arrowhead": 0,
           "arrowwidth": 1
          },
          "autotypenumbers": "strict",
          "coloraxis": {
           "colorbar": {
            "outlinewidth": 0,
            "ticks": ""
           }
          },
          "colorscale": {
           "diverging": [
            [
             0,
             "#8e0152"
            ],
            [
             0.1,
             "#c51b7d"
            ],
            [
             0.2,
             "#de77ae"
            ],
            [
             0.3,
             "#f1b6da"
            ],
            [
             0.4,
             "#fde0ef"
            ],
            [
             0.5,
             "#f7f7f7"
            ],
            [
             0.6,
             "#e6f5d0"
            ],
            [
             0.7,
             "#b8e186"
            ],
            [
             0.8,
             "#7fbc41"
            ],
            [
             0.9,
             "#4d9221"
            ],
            [
             1,
             "#276419"
            ]
           ],
           "sequential": [
            [
             0,
             "#0d0887"
            ],
            [
             0.1111111111111111,
             "#46039f"
            ],
            [
             0.2222222222222222,
             "#7201a8"
            ],
            [
             0.3333333333333333,
             "#9c179e"
            ],
            [
             0.4444444444444444,
             "#bd3786"
            ],
            [
             0.5555555555555556,
             "#d8576b"
            ],
            [
             0.6666666666666666,
             "#ed7953"
            ],
            [
             0.7777777777777778,
             "#fb9f3a"
            ],
            [
             0.8888888888888888,
             "#fdca26"
            ],
            [
             1,
             "#f0f921"
            ]
           ],
           "sequentialminus": [
            [
             0,
             "#0d0887"
            ],
            [
             0.1111111111111111,
             "#46039f"
            ],
            [
             0.2222222222222222,
             "#7201a8"
            ],
            [
             0.3333333333333333,
             "#9c179e"
            ],
            [
             0.4444444444444444,
             "#bd3786"
            ],
            [
             0.5555555555555556,
             "#d8576b"
            ],
            [
             0.6666666666666666,
             "#ed7953"
            ],
            [
             0.7777777777777778,
             "#fb9f3a"
            ],
            [
             0.8888888888888888,
             "#fdca26"
            ],
            [
             1,
             "#f0f921"
            ]
           ]
          },
          "colorway": [
           "#636efa",
           "#EF553B",
           "#00cc96",
           "#ab63fa",
           "#FFA15A",
           "#19d3f3",
           "#FF6692",
           "#B6E880",
           "#FF97FF",
           "#FECB52"
          ],
          "font": {
           "color": "#2a3f5f"
          },
          "geo": {
           "bgcolor": "white",
           "lakecolor": "white",
           "landcolor": "#E5ECF6",
           "showlakes": true,
           "showland": true,
           "subunitcolor": "white"
          },
          "hoverlabel": {
           "align": "left"
          },
          "hovermode": "closest",
          "mapbox": {
           "style": "light"
          },
          "paper_bgcolor": "white",
          "plot_bgcolor": "#E5ECF6",
          "polar": {
           "angularaxis": {
            "gridcolor": "white",
            "linecolor": "white",
            "ticks": ""
           },
           "bgcolor": "#E5ECF6",
           "radialaxis": {
            "gridcolor": "white",
            "linecolor": "white",
            "ticks": ""
           }
          },
          "scene": {
           "xaxis": {
            "backgroundcolor": "#E5ECF6",
            "gridcolor": "white",
            "gridwidth": 2,
            "linecolor": "white",
            "showbackground": true,
            "ticks": "",
            "zerolinecolor": "white"
           },
           "yaxis": {
            "backgroundcolor": "#E5ECF6",
            "gridcolor": "white",
            "gridwidth": 2,
            "linecolor": "white",
            "showbackground": true,
            "ticks": "",
            "zerolinecolor": "white"
           },
           "zaxis": {
            "backgroundcolor": "#E5ECF6",
            "gridcolor": "white",
            "gridwidth": 2,
            "linecolor": "white",
            "showbackground": true,
            "ticks": "",
            "zerolinecolor": "white"
           }
          },
          "shapedefaults": {
           "line": {
            "color": "#2a3f5f"
           }
          },
          "ternary": {
           "aaxis": {
            "gridcolor": "white",
            "linecolor": "white",
            "ticks": ""
           },
           "baxis": {
            "gridcolor": "white",
            "linecolor": "white",
            "ticks": ""
           },
           "bgcolor": "#E5ECF6",
           "caxis": {
            "gridcolor": "white",
            "linecolor": "white",
            "ticks": ""
           }
          },
          "title": {
           "x": 0.05
          },
          "xaxis": {
           "automargin": true,
           "gridcolor": "white",
           "linecolor": "white",
           "ticks": "",
           "title": {
            "standoff": 15
           },
           "zerolinecolor": "white",
           "zerolinewidth": 2
          },
          "yaxis": {
           "automargin": true,
           "gridcolor": "white",
           "linecolor": "white",
           "ticks": "",
           "title": {
            "standoff": 15
           },
           "zerolinecolor": "white",
           "zerolinewidth": 2
          }
         }
        },
        "title": {
         "text": "상위 7 검사기관의 월별 검사 건수"
        },
        "width": 1000,
        "xaxis": {
         "tickangle": 0,
         "title": {
          "text": "연월"
         },
         "type": "category"
        },
        "yaxis": {
         "title": {
          "text": "검사 수"
         }
        }
       }
      }
     },
     "metadata": {},
     "output_type": "display_data"
    }
   ],
   "source": [
    "# 사용 예시\n",
    "plot_top_institutions(\n",
    "    df,\n",
    "    top_n=7,\n",
    "    period_start='2024-07',\n",
    "    period_end='2024-12'\n",
    ")"
   ]
  },
  {
   "cell_type": "markdown",
   "id": "37082e13-36c8-41bc-ac96-0307be503875",
   "metadata": {},
   "source": [
    "### 함수 3"
   ]
  },
  {
   "cell_type": "code",
   "execution_count": 24,
   "id": "d102f8d0-2e17-41b4-8ab2-737af70305dd",
   "metadata": {},
   "outputs": [],
   "source": [
    "# 개선된 함수: 원하는 기관 직접 지정 기능 포함\n",
    "def plot_top_institutions(df, date_col='검사일자', group_col='검사기관',\n",
    "                          top_n=5, target_institutions=None,\n",
    "                          period_start=None, period_end=None):\n",
    "    df = df.copy()\n",
    "    df[date_col] = pd.to_datetime(df[date_col])\n",
    "    df['연월'] = df[date_col].dt.to_period('M').astype(str)\n",
    "\n",
    "    # 1. 기간 필터링\n",
    "    if period_start:\n",
    "        df = df[df['연월'] >= period_start]\n",
    "    if period_end:\n",
    "        df = df[df['연월'] <= period_end]\n",
    "\n",
    "    # 2. 기관 필터링\n",
    "    if target_institutions is not None:\n",
    "        target_list = target_institutions\n",
    "    else:\n",
    "        target_list = df[group_col].value_counts().nlargest(top_n).index.tolist()\n",
    "\n",
    "    df = df[df[group_col].isin(target_list)]\n",
    "\n",
    "    # 3. 연월별 집계\n",
    "    summary = df.groupby(['연월', group_col]).size().reset_index(name='건수')\n",
    "\n",
    "    # 4. 그래프 생성\n",
    "    fig = go.Figure()\n",
    "\n",
    "    for group in target_list:\n",
    "        sub_df = summary[summary[group_col] == group]\n",
    "        fig.add_trace(go.Scatter(\n",
    "            x=sub_df['연월'],\n",
    "            y=sub_df['건수'],\n",
    "            mode='lines+markers',\n",
    "            name=group,\n",
    "            hovertemplate=(\n",
    "                f'<b>검사기관: {group}</b><br>' +\n",
    "                '연월: %{x}<br>검사 수: %{y}<extra></extra>'\n",
    "            )\n",
    "        ))\n",
    "\n",
    "    fig.update_layout(\n",
    "        title=f'{\"사용자 지정\" if target_institutions else f\"상위 {top_n}\"} 검사기관의 월별 검사 건수',\n",
    "        xaxis_title='연월',\n",
    "        yaxis_title='검사 수',\n",
    "        xaxis_tickangle=0,\n",
    "        xaxis=dict(type='category'),\n",
    "        hovermode='closest',\n",
    "        width=1000,\n",
    "        height=500\n",
    "    )\n",
    "\n",
    "    fig.show()\n"
   ]
  },
  {
   "cell_type": "code",
   "execution_count": 25,
   "id": "ba6854fb-2d37-457c-8286-7ee7bcf9444f",
   "metadata": {},
   "outputs": [
    {
     "data": {
      "application/vnd.plotly.v1+json": {
       "config": {
        "plotlyServerURL": "https://plot.ly"
       },
       "data": [
        {
         "hovertemplate": "<b>검사기관: (재)승강기안전기술연구원 서울지원</b><br>연월: %{x}<br>검사 수: %{y}<extra></extra>",
         "mode": "lines+markers",
         "name": "(재)승강기안전기술연구원 서울지원",
         "type": "scatter",
         "x": [
          "2024-08",
          "2024-09",
          "2024-10",
          "2024-11",
          "2024-12"
         ],
         "y": {
          "bdata": "YBJDEg4N0A+9Cw==",
          "dtype": "i2"
         }
        },
        {
         "hovertemplate": "<b>검사기관: 한국승강기안전공단 경기북부지사</b><br>연월: %{x}<br>검사 수: %{y}<extra></extra>",
         "mode": "lines+markers",
         "name": "한국승강기안전공단 경기북부지사",
         "type": "scatter",
         "x": [
          "2024-08",
          "2024-09",
          "2024-10",
          "2024-11",
          "2024-12"
         ],
         "y": {
          "bdata": "+g/YDhAQBRIPEQ==",
          "dtype": "i2"
         }
        }
       ],
       "layout": {
        "height": 500,
        "hovermode": "closest",
        "template": {
         "data": {
          "bar": [
           {
            "error_x": {
             "color": "#2a3f5f"
            },
            "error_y": {
             "color": "#2a3f5f"
            },
            "marker": {
             "line": {
              "color": "#E5ECF6",
              "width": 0.5
             },
             "pattern": {
              "fillmode": "overlay",
              "size": 10,
              "solidity": 0.2
             }
            },
            "type": "bar"
           }
          ],
          "barpolar": [
           {
            "marker": {
             "line": {
              "color": "#E5ECF6",
              "width": 0.5
             },
             "pattern": {
              "fillmode": "overlay",
              "size": 10,
              "solidity": 0.2
             }
            },
            "type": "barpolar"
           }
          ],
          "carpet": [
           {
            "aaxis": {
             "endlinecolor": "#2a3f5f",
             "gridcolor": "white",
             "linecolor": "white",
             "minorgridcolor": "white",
             "startlinecolor": "#2a3f5f"
            },
            "baxis": {
             "endlinecolor": "#2a3f5f",
             "gridcolor": "white",
             "linecolor": "white",
             "minorgridcolor": "white",
             "startlinecolor": "#2a3f5f"
            },
            "type": "carpet"
           }
          ],
          "choropleth": [
           {
            "colorbar": {
             "outlinewidth": 0,
             "ticks": ""
            },
            "type": "choropleth"
           }
          ],
          "contour": [
           {
            "colorbar": {
             "outlinewidth": 0,
             "ticks": ""
            },
            "colorscale": [
             [
              0,
              "#0d0887"
             ],
             [
              0.1111111111111111,
              "#46039f"
             ],
             [
              0.2222222222222222,
              "#7201a8"
             ],
             [
              0.3333333333333333,
              "#9c179e"
             ],
             [
              0.4444444444444444,
              "#bd3786"
             ],
             [
              0.5555555555555556,
              "#d8576b"
             ],
             [
              0.6666666666666666,
              "#ed7953"
             ],
             [
              0.7777777777777778,
              "#fb9f3a"
             ],
             [
              0.8888888888888888,
              "#fdca26"
             ],
             [
              1,
              "#f0f921"
             ]
            ],
            "type": "contour"
           }
          ],
          "contourcarpet": [
           {
            "colorbar": {
             "outlinewidth": 0,
             "ticks": ""
            },
            "type": "contourcarpet"
           }
          ],
          "heatmap": [
           {
            "colorbar": {
             "outlinewidth": 0,
             "ticks": ""
            },
            "colorscale": [
             [
              0,
              "#0d0887"
             ],
             [
              0.1111111111111111,
              "#46039f"
             ],
             [
              0.2222222222222222,
              "#7201a8"
             ],
             [
              0.3333333333333333,
              "#9c179e"
             ],
             [
              0.4444444444444444,
              "#bd3786"
             ],
             [
              0.5555555555555556,
              "#d8576b"
             ],
             [
              0.6666666666666666,
              "#ed7953"
             ],
             [
              0.7777777777777778,
              "#fb9f3a"
             ],
             [
              0.8888888888888888,
              "#fdca26"
             ],
             [
              1,
              "#f0f921"
             ]
            ],
            "type": "heatmap"
           }
          ],
          "histogram": [
           {
            "marker": {
             "pattern": {
              "fillmode": "overlay",
              "size": 10,
              "solidity": 0.2
             }
            },
            "type": "histogram"
           }
          ],
          "histogram2d": [
           {
            "colorbar": {
             "outlinewidth": 0,
             "ticks": ""
            },
            "colorscale": [
             [
              0,
              "#0d0887"
             ],
             [
              0.1111111111111111,
              "#46039f"
             ],
             [
              0.2222222222222222,
              "#7201a8"
             ],
             [
              0.3333333333333333,
              "#9c179e"
             ],
             [
              0.4444444444444444,
              "#bd3786"
             ],
             [
              0.5555555555555556,
              "#d8576b"
             ],
             [
              0.6666666666666666,
              "#ed7953"
             ],
             [
              0.7777777777777778,
              "#fb9f3a"
             ],
             [
              0.8888888888888888,
              "#fdca26"
             ],
             [
              1,
              "#f0f921"
             ]
            ],
            "type": "histogram2d"
           }
          ],
          "histogram2dcontour": [
           {
            "colorbar": {
             "outlinewidth": 0,
             "ticks": ""
            },
            "colorscale": [
             [
              0,
              "#0d0887"
             ],
             [
              0.1111111111111111,
              "#46039f"
             ],
             [
              0.2222222222222222,
              "#7201a8"
             ],
             [
              0.3333333333333333,
              "#9c179e"
             ],
             [
              0.4444444444444444,
              "#bd3786"
             ],
             [
              0.5555555555555556,
              "#d8576b"
             ],
             [
              0.6666666666666666,
              "#ed7953"
             ],
             [
              0.7777777777777778,
              "#fb9f3a"
             ],
             [
              0.8888888888888888,
              "#fdca26"
             ],
             [
              1,
              "#f0f921"
             ]
            ],
            "type": "histogram2dcontour"
           }
          ],
          "mesh3d": [
           {
            "colorbar": {
             "outlinewidth": 0,
             "ticks": ""
            },
            "type": "mesh3d"
           }
          ],
          "parcoords": [
           {
            "line": {
             "colorbar": {
              "outlinewidth": 0,
              "ticks": ""
             }
            },
            "type": "parcoords"
           }
          ],
          "pie": [
           {
            "automargin": true,
            "type": "pie"
           }
          ],
          "scatter": [
           {
            "fillpattern": {
             "fillmode": "overlay",
             "size": 10,
             "solidity": 0.2
            },
            "type": "scatter"
           }
          ],
          "scatter3d": [
           {
            "line": {
             "colorbar": {
              "outlinewidth": 0,
              "ticks": ""
             }
            },
            "marker": {
             "colorbar": {
              "outlinewidth": 0,
              "ticks": ""
             }
            },
            "type": "scatter3d"
           }
          ],
          "scattercarpet": [
           {
            "marker": {
             "colorbar": {
              "outlinewidth": 0,
              "ticks": ""
             }
            },
            "type": "scattercarpet"
           }
          ],
          "scattergeo": [
           {
            "marker": {
             "colorbar": {
              "outlinewidth": 0,
              "ticks": ""
             }
            },
            "type": "scattergeo"
           }
          ],
          "scattergl": [
           {
            "marker": {
             "colorbar": {
              "outlinewidth": 0,
              "ticks": ""
             }
            },
            "type": "scattergl"
           }
          ],
          "scattermap": [
           {
            "marker": {
             "colorbar": {
              "outlinewidth": 0,
              "ticks": ""
             }
            },
            "type": "scattermap"
           }
          ],
          "scattermapbox": [
           {
            "marker": {
             "colorbar": {
              "outlinewidth": 0,
              "ticks": ""
             }
            },
            "type": "scattermapbox"
           }
          ],
          "scatterpolar": [
           {
            "marker": {
             "colorbar": {
              "outlinewidth": 0,
              "ticks": ""
             }
            },
            "type": "scatterpolar"
           }
          ],
          "scatterpolargl": [
           {
            "marker": {
             "colorbar": {
              "outlinewidth": 0,
              "ticks": ""
             }
            },
            "type": "scatterpolargl"
           }
          ],
          "scatterternary": [
           {
            "marker": {
             "colorbar": {
              "outlinewidth": 0,
              "ticks": ""
             }
            },
            "type": "scatterternary"
           }
          ],
          "surface": [
           {
            "colorbar": {
             "outlinewidth": 0,
             "ticks": ""
            },
            "colorscale": [
             [
              0,
              "#0d0887"
             ],
             [
              0.1111111111111111,
              "#46039f"
             ],
             [
              0.2222222222222222,
              "#7201a8"
             ],
             [
              0.3333333333333333,
              "#9c179e"
             ],
             [
              0.4444444444444444,
              "#bd3786"
             ],
             [
              0.5555555555555556,
              "#d8576b"
             ],
             [
              0.6666666666666666,
              "#ed7953"
             ],
             [
              0.7777777777777778,
              "#fb9f3a"
             ],
             [
              0.8888888888888888,
              "#fdca26"
             ],
             [
              1,
              "#f0f921"
             ]
            ],
            "type": "surface"
           }
          ],
          "table": [
           {
            "cells": {
             "fill": {
              "color": "#EBF0F8"
             },
             "line": {
              "color": "white"
             }
            },
            "header": {
             "fill": {
              "color": "#C8D4E3"
             },
             "line": {
              "color": "white"
             }
            },
            "type": "table"
           }
          ]
         },
         "layout": {
          "annotationdefaults": {
           "arrowcolor": "#2a3f5f",
           "arrowhead": 0,
           "arrowwidth": 1
          },
          "autotypenumbers": "strict",
          "coloraxis": {
           "colorbar": {
            "outlinewidth": 0,
            "ticks": ""
           }
          },
          "colorscale": {
           "diverging": [
            [
             0,
             "#8e0152"
            ],
            [
             0.1,
             "#c51b7d"
            ],
            [
             0.2,
             "#de77ae"
            ],
            [
             0.3,
             "#f1b6da"
            ],
            [
             0.4,
             "#fde0ef"
            ],
            [
             0.5,
             "#f7f7f7"
            ],
            [
             0.6,
             "#e6f5d0"
            ],
            [
             0.7,
             "#b8e186"
            ],
            [
             0.8,
             "#7fbc41"
            ],
            [
             0.9,
             "#4d9221"
            ],
            [
             1,
             "#276419"
            ]
           ],
           "sequential": [
            [
             0,
             "#0d0887"
            ],
            [
             0.1111111111111111,
             "#46039f"
            ],
            [
             0.2222222222222222,
             "#7201a8"
            ],
            [
             0.3333333333333333,
             "#9c179e"
            ],
            [
             0.4444444444444444,
             "#bd3786"
            ],
            [
             0.5555555555555556,
             "#d8576b"
            ],
            [
             0.6666666666666666,
             "#ed7953"
            ],
            [
             0.7777777777777778,
             "#fb9f3a"
            ],
            [
             0.8888888888888888,
             "#fdca26"
            ],
            [
             1,
             "#f0f921"
            ]
           ],
           "sequentialminus": [
            [
             0,
             "#0d0887"
            ],
            [
             0.1111111111111111,
             "#46039f"
            ],
            [
             0.2222222222222222,
             "#7201a8"
            ],
            [
             0.3333333333333333,
             "#9c179e"
            ],
            [
             0.4444444444444444,
             "#bd3786"
            ],
            [
             0.5555555555555556,
             "#d8576b"
            ],
            [
             0.6666666666666666,
             "#ed7953"
            ],
            [
             0.7777777777777778,
             "#fb9f3a"
            ],
            [
             0.8888888888888888,
             "#fdca26"
            ],
            [
             1,
             "#f0f921"
            ]
           ]
          },
          "colorway": [
           "#636efa",
           "#EF553B",
           "#00cc96",
           "#ab63fa",
           "#FFA15A",
           "#19d3f3",
           "#FF6692",
           "#B6E880",
           "#FF97FF",
           "#FECB52"
          ],
          "font": {
           "color": "#2a3f5f"
          },
          "geo": {
           "bgcolor": "white",
           "lakecolor": "white",
           "landcolor": "#E5ECF6",
           "showlakes": true,
           "showland": true,
           "subunitcolor": "white"
          },
          "hoverlabel": {
           "align": "left"
          },
          "hovermode": "closest",
          "mapbox": {
           "style": "light"
          },
          "paper_bgcolor": "white",
          "plot_bgcolor": "#E5ECF6",
          "polar": {
           "angularaxis": {
            "gridcolor": "white",
            "linecolor": "white",
            "ticks": ""
           },
           "bgcolor": "#E5ECF6",
           "radialaxis": {
            "gridcolor": "white",
            "linecolor": "white",
            "ticks": ""
           }
          },
          "scene": {
           "xaxis": {
            "backgroundcolor": "#E5ECF6",
            "gridcolor": "white",
            "gridwidth": 2,
            "linecolor": "white",
            "showbackground": true,
            "ticks": "",
            "zerolinecolor": "white"
           },
           "yaxis": {
            "backgroundcolor": "#E5ECF6",
            "gridcolor": "white",
            "gridwidth": 2,
            "linecolor": "white",
            "showbackground": true,
            "ticks": "",
            "zerolinecolor": "white"
           },
           "zaxis": {
            "backgroundcolor": "#E5ECF6",
            "gridcolor": "white",
            "gridwidth": 2,
            "linecolor": "white",
            "showbackground": true,
            "ticks": "",
            "zerolinecolor": "white"
           }
          },
          "shapedefaults": {
           "line": {
            "color": "#2a3f5f"
           }
          },
          "ternary": {
           "aaxis": {
            "gridcolor": "white",
            "linecolor": "white",
            "ticks": ""
           },
           "baxis": {
            "gridcolor": "white",
            "linecolor": "white",
            "ticks": ""
           },
           "bgcolor": "#E5ECF6",
           "caxis": {
            "gridcolor": "white",
            "linecolor": "white",
            "ticks": ""
           }
          },
          "title": {
           "x": 0.05
          },
          "xaxis": {
           "automargin": true,
           "gridcolor": "white",
           "linecolor": "white",
           "ticks": "",
           "title": {
            "standoff": 15
           },
           "zerolinecolor": "white",
           "zerolinewidth": 2
          },
          "yaxis": {
           "automargin": true,
           "gridcolor": "white",
           "linecolor": "white",
           "ticks": "",
           "title": {
            "standoff": 15
           },
           "zerolinecolor": "white",
           "zerolinewidth": 2
          }
         }
        },
        "title": {
         "text": "사용자 지정 검사기관의 월별 검사 건수"
        },
        "width": 1000,
        "xaxis": {
         "tickangle": 0,
         "title": {
          "text": "연월"
         },
         "type": "category"
        },
        "yaxis": {
         "title": {
          "text": "검사 수"
         }
        }
       }
      }
     },
     "metadata": {},
     "output_type": "display_data"
    }
   ],
   "source": [
    "# 사용 예시 1\n",
    "plot_top_institutions(\n",
    "    df,\n",
    "    target_institutions=[\n",
    "        '(재)승강기안전기술연구원 서울지원',\n",
    "        '한국승강기안전공단 경기북부지사'\n",
    "    ],\n",
    "    period_start='2024-08',\n",
    "    period_end='2024-12'\n",
    ")"
   ]
  },
  {
   "cell_type": "code",
   "execution_count": 26,
   "id": "c8393bcb-6775-4d9a-aaa1-d163f94bb6f9",
   "metadata": {},
   "outputs": [
    {
     "data": {
      "application/vnd.plotly.v1+json": {
       "config": {
        "plotlyServerURL": "https://plot.ly"
       },
       "data": [
        {
         "hovertemplate": "<b>검사기관: 한국승강기안전공단 경기북부지사</b><br>연월: %{x}<br>검사 수: %{y}<extra></extra>",
         "mode": "lines+markers",
         "name": "한국승강기안전공단 경기북부지사",
         "type": "scatter",
         "x": [
          "2024-07",
          "2024-08",
          "2024-09",
          "2024-10",
          "2024-11",
          "2024-12"
         ],
         "y": {
          "bdata": "GxH6D9gOEBAFEg8R",
          "dtype": "i2"
         }
        },
        {
         "hovertemplate": "<b>검사기관: (재)승강기안전기술연구원 서울지원</b><br>연월: %{x}<br>검사 수: %{y}<extra></extra>",
         "mode": "lines+markers",
         "name": "(재)승강기안전기술연구원 서울지원",
         "type": "scatter",
         "x": [
          "2024-07",
          "2024-08",
          "2024-09",
          "2024-10",
          "2024-11",
          "2024-12"
         ],
         "y": {
          "bdata": "2g9gEkMSDg3QD70L",
          "dtype": "i2"
         }
        },
        {
         "hovertemplate": "<b>검사기관: 한국승강기안전공단 고양파주지사</b><br>연월: %{x}<br>검사 수: %{y}<extra></extra>",
         "mode": "lines+markers",
         "name": "한국승강기안전공단 고양파주지사",
         "type": "scatter",
         "x": [
          "2024-07",
          "2024-08",
          "2024-09",
          "2024-10",
          "2024-11",
          "2024-12"
         ],
         "y": {
          "bdata": "CQ07DKwLNg1lDh0O",
          "dtype": "i2"
         }
        },
        {
         "hovertemplate": "<b>검사기관: 한국승강기안전공단 대전지사</b><br>연월: %{x}<br>검사 수: %{y}<extra></extra>",
         "mode": "lines+markers",
         "name": "한국승강기안전공단 대전지사",
         "type": "scatter",
         "x": [
          "2024-07",
          "2024-08",
          "2024-09",
          "2024-10",
          "2024-11",
          "2024-12"
         ],
         "y": {
          "bdata": "YQxRC4gKKQsADrwL",
          "dtype": "i2"
         }
        },
        {
         "hovertemplate": "<b>검사기관: 한국승강기안전공단 인천남부지사</b><br>연월: %{x}<br>검사 수: %{y}<extra></extra>",
         "mode": "lines+markers",
         "name": "한국승강기안전공단 인천남부지사",
         "type": "scatter",
         "x": [
          "2024-07",
          "2024-08",
          "2024-09",
          "2024-10",
          "2024-11",
          "2024-12"
         ],
         "y": {
          "bdata": "4QuVCmsK4AqADNsL",
          "dtype": "i2"
         }
        }
       ],
       "layout": {
        "height": 500,
        "hovermode": "closest",
        "template": {
         "data": {
          "bar": [
           {
            "error_x": {
             "color": "#2a3f5f"
            },
            "error_y": {
             "color": "#2a3f5f"
            },
            "marker": {
             "line": {
              "color": "#E5ECF6",
              "width": 0.5
             },
             "pattern": {
              "fillmode": "overlay",
              "size": 10,
              "solidity": 0.2
             }
            },
            "type": "bar"
           }
          ],
          "barpolar": [
           {
            "marker": {
             "line": {
              "color": "#E5ECF6",
              "width": 0.5
             },
             "pattern": {
              "fillmode": "overlay",
              "size": 10,
              "solidity": 0.2
             }
            },
            "type": "barpolar"
           }
          ],
          "carpet": [
           {
            "aaxis": {
             "endlinecolor": "#2a3f5f",
             "gridcolor": "white",
             "linecolor": "white",
             "minorgridcolor": "white",
             "startlinecolor": "#2a3f5f"
            },
            "baxis": {
             "endlinecolor": "#2a3f5f",
             "gridcolor": "white",
             "linecolor": "white",
             "minorgridcolor": "white",
             "startlinecolor": "#2a3f5f"
            },
            "type": "carpet"
           }
          ],
          "choropleth": [
           {
            "colorbar": {
             "outlinewidth": 0,
             "ticks": ""
            },
            "type": "choropleth"
           }
          ],
          "contour": [
           {
            "colorbar": {
             "outlinewidth": 0,
             "ticks": ""
            },
            "colorscale": [
             [
              0,
              "#0d0887"
             ],
             [
              0.1111111111111111,
              "#46039f"
             ],
             [
              0.2222222222222222,
              "#7201a8"
             ],
             [
              0.3333333333333333,
              "#9c179e"
             ],
             [
              0.4444444444444444,
              "#bd3786"
             ],
             [
              0.5555555555555556,
              "#d8576b"
             ],
             [
              0.6666666666666666,
              "#ed7953"
             ],
             [
              0.7777777777777778,
              "#fb9f3a"
             ],
             [
              0.8888888888888888,
              "#fdca26"
             ],
             [
              1,
              "#f0f921"
             ]
            ],
            "type": "contour"
           }
          ],
          "contourcarpet": [
           {
            "colorbar": {
             "outlinewidth": 0,
             "ticks": ""
            },
            "type": "contourcarpet"
           }
          ],
          "heatmap": [
           {
            "colorbar": {
             "outlinewidth": 0,
             "ticks": ""
            },
            "colorscale": [
             [
              0,
              "#0d0887"
             ],
             [
              0.1111111111111111,
              "#46039f"
             ],
             [
              0.2222222222222222,
              "#7201a8"
             ],
             [
              0.3333333333333333,
              "#9c179e"
             ],
             [
              0.4444444444444444,
              "#bd3786"
             ],
             [
              0.5555555555555556,
              "#d8576b"
             ],
             [
              0.6666666666666666,
              "#ed7953"
             ],
             [
              0.7777777777777778,
              "#fb9f3a"
             ],
             [
              0.8888888888888888,
              "#fdca26"
             ],
             [
              1,
              "#f0f921"
             ]
            ],
            "type": "heatmap"
           }
          ],
          "histogram": [
           {
            "marker": {
             "pattern": {
              "fillmode": "overlay",
              "size": 10,
              "solidity": 0.2
             }
            },
            "type": "histogram"
           }
          ],
          "histogram2d": [
           {
            "colorbar": {
             "outlinewidth": 0,
             "ticks": ""
            },
            "colorscale": [
             [
              0,
              "#0d0887"
             ],
             [
              0.1111111111111111,
              "#46039f"
             ],
             [
              0.2222222222222222,
              "#7201a8"
             ],
             [
              0.3333333333333333,
              "#9c179e"
             ],
             [
              0.4444444444444444,
              "#bd3786"
             ],
             [
              0.5555555555555556,
              "#d8576b"
             ],
             [
              0.6666666666666666,
              "#ed7953"
             ],
             [
              0.7777777777777778,
              "#fb9f3a"
             ],
             [
              0.8888888888888888,
              "#fdca26"
             ],
             [
              1,
              "#f0f921"
             ]
            ],
            "type": "histogram2d"
           }
          ],
          "histogram2dcontour": [
           {
            "colorbar": {
             "outlinewidth": 0,
             "ticks": ""
            },
            "colorscale": [
             [
              0,
              "#0d0887"
             ],
             [
              0.1111111111111111,
              "#46039f"
             ],
             [
              0.2222222222222222,
              "#7201a8"
             ],
             [
              0.3333333333333333,
              "#9c179e"
             ],
             [
              0.4444444444444444,
              "#bd3786"
             ],
             [
              0.5555555555555556,
              "#d8576b"
             ],
             [
              0.6666666666666666,
              "#ed7953"
             ],
             [
              0.7777777777777778,
              "#fb9f3a"
             ],
             [
              0.8888888888888888,
              "#fdca26"
             ],
             [
              1,
              "#f0f921"
             ]
            ],
            "type": "histogram2dcontour"
           }
          ],
          "mesh3d": [
           {
            "colorbar": {
             "outlinewidth": 0,
             "ticks": ""
            },
            "type": "mesh3d"
           }
          ],
          "parcoords": [
           {
            "line": {
             "colorbar": {
              "outlinewidth": 0,
              "ticks": ""
             }
            },
            "type": "parcoords"
           }
          ],
          "pie": [
           {
            "automargin": true,
            "type": "pie"
           }
          ],
          "scatter": [
           {
            "fillpattern": {
             "fillmode": "overlay",
             "size": 10,
             "solidity": 0.2
            },
            "type": "scatter"
           }
          ],
          "scatter3d": [
           {
            "line": {
             "colorbar": {
              "outlinewidth": 0,
              "ticks": ""
             }
            },
            "marker": {
             "colorbar": {
              "outlinewidth": 0,
              "ticks": ""
             }
            },
            "type": "scatter3d"
           }
          ],
          "scattercarpet": [
           {
            "marker": {
             "colorbar": {
              "outlinewidth": 0,
              "ticks": ""
             }
            },
            "type": "scattercarpet"
           }
          ],
          "scattergeo": [
           {
            "marker": {
             "colorbar": {
              "outlinewidth": 0,
              "ticks": ""
             }
            },
            "type": "scattergeo"
           }
          ],
          "scattergl": [
           {
            "marker": {
             "colorbar": {
              "outlinewidth": 0,
              "ticks": ""
             }
            },
            "type": "scattergl"
           }
          ],
          "scattermap": [
           {
            "marker": {
             "colorbar": {
              "outlinewidth": 0,
              "ticks": ""
             }
            },
            "type": "scattermap"
           }
          ],
          "scattermapbox": [
           {
            "marker": {
             "colorbar": {
              "outlinewidth": 0,
              "ticks": ""
             }
            },
            "type": "scattermapbox"
           }
          ],
          "scatterpolar": [
           {
            "marker": {
             "colorbar": {
              "outlinewidth": 0,
              "ticks": ""
             }
            },
            "type": "scatterpolar"
           }
          ],
          "scatterpolargl": [
           {
            "marker": {
             "colorbar": {
              "outlinewidth": 0,
              "ticks": ""
             }
            },
            "type": "scatterpolargl"
           }
          ],
          "scatterternary": [
           {
            "marker": {
             "colorbar": {
              "outlinewidth": 0,
              "ticks": ""
             }
            },
            "type": "scatterternary"
           }
          ],
          "surface": [
           {
            "colorbar": {
             "outlinewidth": 0,
             "ticks": ""
            },
            "colorscale": [
             [
              0,
              "#0d0887"
             ],
             [
              0.1111111111111111,
              "#46039f"
             ],
             [
              0.2222222222222222,
              "#7201a8"
             ],
             [
              0.3333333333333333,
              "#9c179e"
             ],
             [
              0.4444444444444444,
              "#bd3786"
             ],
             [
              0.5555555555555556,
              "#d8576b"
             ],
             [
              0.6666666666666666,
              "#ed7953"
             ],
             [
              0.7777777777777778,
              "#fb9f3a"
             ],
             [
              0.8888888888888888,
              "#fdca26"
             ],
             [
              1,
              "#f0f921"
             ]
            ],
            "type": "surface"
           }
          ],
          "table": [
           {
            "cells": {
             "fill": {
              "color": "#EBF0F8"
             },
             "line": {
              "color": "white"
             }
            },
            "header": {
             "fill": {
              "color": "#C8D4E3"
             },
             "line": {
              "color": "white"
             }
            },
            "type": "table"
           }
          ]
         },
         "layout": {
          "annotationdefaults": {
           "arrowcolor": "#2a3f5f",
           "arrowhead": 0,
           "arrowwidth": 1
          },
          "autotypenumbers": "strict",
          "coloraxis": {
           "colorbar": {
            "outlinewidth": 0,
            "ticks": ""
           }
          },
          "colorscale": {
           "diverging": [
            [
             0,
             "#8e0152"
            ],
            [
             0.1,
             "#c51b7d"
            ],
            [
             0.2,
             "#de77ae"
            ],
            [
             0.3,
             "#f1b6da"
            ],
            [
             0.4,
             "#fde0ef"
            ],
            [
             0.5,
             "#f7f7f7"
            ],
            [
             0.6,
             "#e6f5d0"
            ],
            [
             0.7,
             "#b8e186"
            ],
            [
             0.8,
             "#7fbc41"
            ],
            [
             0.9,
             "#4d9221"
            ],
            [
             1,
             "#276419"
            ]
           ],
           "sequential": [
            [
             0,
             "#0d0887"
            ],
            [
             0.1111111111111111,
             "#46039f"
            ],
            [
             0.2222222222222222,
             "#7201a8"
            ],
            [
             0.3333333333333333,
             "#9c179e"
            ],
            [
             0.4444444444444444,
             "#bd3786"
            ],
            [
             0.5555555555555556,
             "#d8576b"
            ],
            [
             0.6666666666666666,
             "#ed7953"
            ],
            [
             0.7777777777777778,
             "#fb9f3a"
            ],
            [
             0.8888888888888888,
             "#fdca26"
            ],
            [
             1,
             "#f0f921"
            ]
           ],
           "sequentialminus": [
            [
             0,
             "#0d0887"
            ],
            [
             0.1111111111111111,
             "#46039f"
            ],
            [
             0.2222222222222222,
             "#7201a8"
            ],
            [
             0.3333333333333333,
             "#9c179e"
            ],
            [
             0.4444444444444444,
             "#bd3786"
            ],
            [
             0.5555555555555556,
             "#d8576b"
            ],
            [
             0.6666666666666666,
             "#ed7953"
            ],
            [
             0.7777777777777778,
             "#fb9f3a"
            ],
            [
             0.8888888888888888,
             "#fdca26"
            ],
            [
             1,
             "#f0f921"
            ]
           ]
          },
          "colorway": [
           "#636efa",
           "#EF553B",
           "#00cc96",
           "#ab63fa",
           "#FFA15A",
           "#19d3f3",
           "#FF6692",
           "#B6E880",
           "#FF97FF",
           "#FECB52"
          ],
          "font": {
           "color": "#2a3f5f"
          },
          "geo": {
           "bgcolor": "white",
           "lakecolor": "white",
           "landcolor": "#E5ECF6",
           "showlakes": true,
           "showland": true,
           "subunitcolor": "white"
          },
          "hoverlabel": {
           "align": "left"
          },
          "hovermode": "closest",
          "mapbox": {
           "style": "light"
          },
          "paper_bgcolor": "white",
          "plot_bgcolor": "#E5ECF6",
          "polar": {
           "angularaxis": {
            "gridcolor": "white",
            "linecolor": "white",
            "ticks": ""
           },
           "bgcolor": "#E5ECF6",
           "radialaxis": {
            "gridcolor": "white",
            "linecolor": "white",
            "ticks": ""
           }
          },
          "scene": {
           "xaxis": {
            "backgroundcolor": "#E5ECF6",
            "gridcolor": "white",
            "gridwidth": 2,
            "linecolor": "white",
            "showbackground": true,
            "ticks": "",
            "zerolinecolor": "white"
           },
           "yaxis": {
            "backgroundcolor": "#E5ECF6",
            "gridcolor": "white",
            "gridwidth": 2,
            "linecolor": "white",
            "showbackground": true,
            "ticks": "",
            "zerolinecolor": "white"
           },
           "zaxis": {
            "backgroundcolor": "#E5ECF6",
            "gridcolor": "white",
            "gridwidth": 2,
            "linecolor": "white",
            "showbackground": true,
            "ticks": "",
            "zerolinecolor": "white"
           }
          },
          "shapedefaults": {
           "line": {
            "color": "#2a3f5f"
           }
          },
          "ternary": {
           "aaxis": {
            "gridcolor": "white",
            "linecolor": "white",
            "ticks": ""
           },
           "baxis": {
            "gridcolor": "white",
            "linecolor": "white",
            "ticks": ""
           },
           "bgcolor": "#E5ECF6",
           "caxis": {
            "gridcolor": "white",
            "linecolor": "white",
            "ticks": ""
           }
          },
          "title": {
           "x": 0.05
          },
          "xaxis": {
           "automargin": true,
           "gridcolor": "white",
           "linecolor": "white",
           "ticks": "",
           "title": {
            "standoff": 15
           },
           "zerolinecolor": "white",
           "zerolinewidth": 2
          },
          "yaxis": {
           "automargin": true,
           "gridcolor": "white",
           "linecolor": "white",
           "ticks": "",
           "title": {
            "standoff": 15
           },
           "zerolinecolor": "white",
           "zerolinewidth": 2
          }
         }
        },
        "title": {
         "text": "상위 5 검사기관의 월별 검사 건수"
        },
        "width": 1000,
        "xaxis": {
         "tickangle": 0,
         "title": {
          "text": "연월"
         },
         "type": "category"
        },
        "yaxis": {
         "title": {
          "text": "검사 수"
         }
        }
       }
      }
     },
     "metadata": {},
     "output_type": "display_data"
    }
   ],
   "source": [
    "# 사용 예시 2\n",
    "plot_top_institutions(df, top_n=5)"
   ]
  },
  {
   "cell_type": "markdown",
   "id": "f715cf50-1a82-43ba-a5dd-488087fe3a33",
   "metadata": {},
   "source": [
    "### 함수 4"
   ]
  },
  {
   "cell_type": "code",
   "execution_count": 27,
   "id": "58db0b96-18a5-4ca1-adea-2d35e2b85ba5",
   "metadata": {},
   "outputs": [],
   "source": [
    "# 함수: 특정 월의 일자별 검사 건수 시각화\n",
    "\n",
    "def plot_daily_by_institution(df, year_month, date_col='검사일자', group_col='검사기관', top_n=5):\n",
    "    df = df.copy()\n",
    "    df[date_col] = pd.to_datetime(df[date_col])\n",
    "    df['연월'] = df[date_col].dt.to_period('M').astype(str)\n",
    "\n",
    "    # 1. 해당 연월 필터링\n",
    "    df = df[df['연월'] == year_month]\n",
    "\n",
    "    # 2. 전체 건수 기준 상위 검사기관 추출\n",
    "    top_groups = df[group_col].value_counts().nlargest(top_n).index\n",
    "    df = df[df[group_col].isin(top_groups)]\n",
    "\n",
    "    # 3. 일자 및 요일 생성\n",
    "    df['일자'] = df[date_col].dt.date\n",
    "    df['요일'] = df[date_col].dt.day_name()  # Monday, Tuesday, ...\n",
    "\n",
    "    # 4. 요약 테이블\n",
    "    summary = df.groupby(['일자', '요일', group_col]).size().reset_index(name='건수')\n",
    "\n",
    "    # 5. 그래프 생성\n",
    "    fig = go.Figure()\n",
    "\n",
    "    for group in top_groups:\n",
    "        sub_df = summary[summary[group_col] == group]\n",
    "\n",
    "        fig.add_trace(go.Scatter(\n",
    "            x=sub_df['일자'].astype(str),\n",
    "            y=sub_df['건수'],\n",
    "            mode='lines+markers',\n",
    "            name=group,\n",
    "            customdata=sub_df[['요일']],\n",
    "            hovertemplate=(\n",
    "                f'<b>검사기관: {group}</b><br>' +\n",
    "                '일자: %{x}<br>' +\n",
    "                '요일: %{customdata[0]}<br>' +\n",
    "                '검사 수: %{y}<extra></extra>'\n",
    "            )\n",
    "        ))\n",
    "\n",
    "    fig.update_layout(\n",
    "        title=f'{year_month} 일자별 검사 건수 (상위 {top_n} 기관)',\n",
    "        xaxis_title='일자',\n",
    "        yaxis_title='검사 수',\n",
    "        xaxis_tickangle=45,\n",
    "        xaxis=dict(type='category'),\n",
    "        hovermode='closest',\n",
    "        width=1000,\n",
    "        height=500\n",
    "    )\n",
    "\n",
    "    fig.show()\n"
   ]
  },
  {
   "cell_type": "code",
   "execution_count": 28,
   "id": "5769ca79-41d5-484a-a9af-fee2cf061f58",
   "metadata": {},
   "outputs": [
    {
     "data": {
      "application/vnd.plotly.v1+json": {
       "config": {
        "plotlyServerURL": "https://plot.ly"
       },
       "data": [
        {
         "customdata": [
          [
           "Thursday"
          ],
          [
           "Friday"
          ],
          [
           "Monday"
          ],
          [
           "Tuesday"
          ],
          [
           "Wednesday"
          ],
          [
           "Thursday"
          ],
          [
           "Friday"
          ],
          [
           "Saturday"
          ],
          [
           "Monday"
          ],
          [
           "Tuesday"
          ],
          [
           "Wednesday"
          ],
          [
           "Thursday"
          ],
          [
           "Friday"
          ],
          [
           "Monday"
          ],
          [
           "Tuesday"
          ],
          [
           "Wednesday"
          ],
          [
           "Thursday"
          ],
          [
           "Friday"
          ],
          [
           "Sunday"
          ],
          [
           "Monday"
          ],
          [
           "Tuesday"
          ],
          [
           "Wednesday"
          ],
          [
           "Thursday"
          ],
          [
           "Friday"
          ]
         ],
         "hovertemplate": "<b>검사기관: (재)승강기안전기술연구원 서울지원</b><br>일자: %{x}<br>요일: %{customdata[0]}<br>검사 수: %{y}<extra></extra>",
         "mode": "lines+markers",
         "name": "(재)승강기안전기술연구원 서울지원",
         "type": "scatter",
         "x": [
          "2024-08-01",
          "2024-08-02",
          "2024-08-05",
          "2024-08-06",
          "2024-08-07",
          "2024-08-08",
          "2024-08-09",
          "2024-08-10",
          "2024-08-12",
          "2024-08-13",
          "2024-08-14",
          "2024-08-15",
          "2024-08-16",
          "2024-08-19",
          "2024-08-20",
          "2024-08-21",
          "2024-08-22",
          "2024-08-23",
          "2024-08-25",
          "2024-08-26",
          "2024-08-27",
          "2024-08-28",
          "2024-08-29",
          "2024-08-30"
         ],
         "y": {
          "bdata": "2wC2AKoA2gDvAO0A8QAEAOEADAHkAAEAawDeAPcA/gDyANMAAgDcAAgB5gATAcYA",
          "dtype": "i2"
         }
        },
        {
         "customdata": [
          [
           "Thursday"
          ],
          [
           "Friday"
          ],
          [
           "Monday"
          ],
          [
           "Tuesday"
          ],
          [
           "Wednesday"
          ],
          [
           "Thursday"
          ],
          [
           "Friday"
          ],
          [
           "Monday"
          ],
          [
           "Tuesday"
          ],
          [
           "Wednesday"
          ],
          [
           "Friday"
          ],
          [
           "Monday"
          ],
          [
           "Tuesday"
          ],
          [
           "Wednesday"
          ],
          [
           "Thursday"
          ],
          [
           "Friday"
          ],
          [
           "Monday"
          ],
          [
           "Tuesday"
          ],
          [
           "Wednesday"
          ],
          [
           "Thursday"
          ],
          [
           "Friday"
          ]
         ],
         "hovertemplate": "<b>검사기관: 한국승강기안전공단 경기북부지사</b><br>일자: %{x}<br>요일: %{customdata[0]}<br>검사 수: %{y}<extra></extra>",
         "mode": "lines+markers",
         "name": "한국승강기안전공단 경기북부지사",
         "type": "scatter",
         "x": [
          "2024-08-01",
          "2024-08-02",
          "2024-08-05",
          "2024-08-06",
          "2024-08-07",
          "2024-08-08",
          "2024-08-09",
          "2024-08-12",
          "2024-08-13",
          "2024-08-14",
          "2024-08-16",
          "2024-08-19",
          "2024-08-20",
          "2024-08-21",
          "2024-08-22",
          "2024-08-23",
          "2024-08-26",
          "2024-08-27",
          "2024-08-28",
          "2024-08-29",
          "2024-08-30"
         ],
         "y": {
          "bdata": "ogB+ALcAtgAHAQABvwDxAMUA2wBCAMMA4wDFAMgAsAC9ANQAugDbAMsA",
          "dtype": "i2"
         }
        },
        {
         "customdata": [
          [
           "Thursday"
          ],
          [
           "Friday"
          ],
          [
           "Monday"
          ],
          [
           "Tuesday"
          ],
          [
           "Wednesday"
          ],
          [
           "Thursday"
          ],
          [
           "Friday"
          ],
          [
           "Monday"
          ],
          [
           "Tuesday"
          ],
          [
           "Wednesday"
          ],
          [
           "Friday"
          ],
          [
           "Monday"
          ],
          [
           "Tuesday"
          ],
          [
           "Wednesday"
          ],
          [
           "Thursday"
          ],
          [
           "Friday"
          ],
          [
           "Monday"
          ],
          [
           "Tuesday"
          ],
          [
           "Wednesday"
          ],
          [
           "Thursday"
          ],
          [
           "Friday"
          ]
         ],
         "hovertemplate": "<b>검사기관: 한국승강기안전공단 고양파주지사</b><br>일자: %{x}<br>요일: %{customdata[0]}<br>검사 수: %{y}<extra></extra>",
         "mode": "lines+markers",
         "name": "한국승강기안전공단 고양파주지사",
         "type": "scatter",
         "x": [
          "2024-08-01",
          "2024-08-02",
          "2024-08-05",
          "2024-08-06",
          "2024-08-07",
          "2024-08-08",
          "2024-08-09",
          "2024-08-12",
          "2024-08-13",
          "2024-08-14",
          "2024-08-16",
          "2024-08-19",
          "2024-08-20",
          "2024-08-21",
          "2024-08-22",
          "2024-08-23",
          "2024-08-26",
          "2024-08-27",
          "2024-08-28",
          "2024-08-29",
          "2024-08-30"
         ],
         "y": {
          "bdata": "lQBdAHIAiwB6AKkAkADkAIkAjQB9AKAAfQCYAKQAhgCgAKMAzgC1AH0A",
          "dtype": "i2"
         }
        },
        {
         "customdata": [
          [
           "Thursday"
          ],
          [
           "Friday"
          ],
          [
           "Monday"
          ],
          [
           "Tuesday"
          ],
          [
           "Wednesday"
          ],
          [
           "Thursday"
          ],
          [
           "Friday"
          ],
          [
           "Monday"
          ],
          [
           "Tuesday"
          ],
          [
           "Wednesday"
          ],
          [
           "Friday"
          ],
          [
           "Monday"
          ],
          [
           "Tuesday"
          ],
          [
           "Wednesday"
          ],
          [
           "Thursday"
          ],
          [
           "Friday"
          ],
          [
           "Monday"
          ],
          [
           "Tuesday"
          ],
          [
           "Wednesday"
          ],
          [
           "Thursday"
          ],
          [
           "Friday"
          ]
         ],
         "hovertemplate": "<b>검사기관: 한국승강기안전공단 화성오산지사</b><br>일자: %{x}<br>요일: %{customdata[0]}<br>검사 수: %{y}<extra></extra>",
         "mode": "lines+markers",
         "name": "한국승강기안전공단 화성오산지사",
         "type": "scatter",
         "x": [
          "2024-08-01",
          "2024-08-02",
          "2024-08-05",
          "2024-08-06",
          "2024-08-07",
          "2024-08-08",
          "2024-08-09",
          "2024-08-12",
          "2024-08-13",
          "2024-08-14",
          "2024-08-16",
          "2024-08-19",
          "2024-08-20",
          "2024-08-21",
          "2024-08-22",
          "2024-08-23",
          "2024-08-26",
          "2024-08-27",
          "2024-08-28",
          "2024-08-29",
          "2024-08-30"
         ],
         "y": {
          "bdata": "ZgCmAIQAowCJAH8AfAB0AL4AbQBxAIYAfQCeAIsA0QCMAHIAjACRAJoA",
          "dtype": "i2"
         }
        },
        {
         "customdata": [
          [
           "Thursday"
          ],
          [
           "Friday"
          ],
          [
           "Monday"
          ],
          [
           "Tuesday"
          ],
          [
           "Wednesday"
          ],
          [
           "Thursday"
          ],
          [
           "Friday"
          ],
          [
           "Monday"
          ],
          [
           "Tuesday"
          ],
          [
           "Wednesday"
          ],
          [
           "Friday"
          ],
          [
           "Monday"
          ],
          [
           "Tuesday"
          ],
          [
           "Wednesday"
          ],
          [
           "Thursday"
          ],
          [
           "Friday"
          ],
          [
           "Monday"
          ],
          [
           "Tuesday"
          ],
          [
           "Wednesday"
          ],
          [
           "Thursday"
          ],
          [
           "Friday"
          ]
         ],
         "hovertemplate": "<b>검사기관: 한국승강기안전공단 대전지사</b><br>일자: %{x}<br>요일: %{customdata[0]}<br>검사 수: %{y}<extra></extra>",
         "mode": "lines+markers",
         "name": "한국승강기안전공단 대전지사",
         "type": "scatter",
         "x": [
          "2024-08-01",
          "2024-08-02",
          "2024-08-05",
          "2024-08-06",
          "2024-08-07",
          "2024-08-08",
          "2024-08-09",
          "2024-08-12",
          "2024-08-13",
          "2024-08-14",
          "2024-08-16",
          "2024-08-19",
          "2024-08-20",
          "2024-08-21",
          "2024-08-22",
          "2024-08-23",
          "2024-08-26",
          "2024-08-27",
          "2024-08-28",
          "2024-08-29",
          "2024-08-30"
         ],
         "y": {
          "bdata": "nwBzAH4AlwCOAJAAegCjAJAAhQBQAJEAhAClAJwApgB6AG8AfQCRAJcA",
          "dtype": "i2"
         }
        },
        {
         "customdata": [
          [
           "Thursday"
          ],
          [
           "Friday"
          ],
          [
           "Monday"
          ],
          [
           "Tuesday"
          ],
          [
           "Wednesday"
          ],
          [
           "Thursday"
          ],
          [
           "Friday"
          ],
          [
           "Monday"
          ],
          [
           "Tuesday"
          ],
          [
           "Wednesday"
          ],
          [
           "Friday"
          ],
          [
           "Monday"
          ],
          [
           "Tuesday"
          ],
          [
           "Wednesday"
          ],
          [
           "Thursday"
          ],
          [
           "Friday"
          ],
          [
           "Monday"
          ],
          [
           "Tuesday"
          ],
          [
           "Wednesday"
          ],
          [
           "Thursday"
          ],
          [
           "Friday"
          ]
         ],
         "hovertemplate": "<b>검사기관: 한국승강기안전공단 충북지사</b><br>일자: %{x}<br>요일: %{customdata[0]}<br>검사 수: %{y}<extra></extra>",
         "mode": "lines+markers",
         "name": "한국승강기안전공단 충북지사",
         "type": "scatter",
         "x": [
          "2024-08-01",
          "2024-08-02",
          "2024-08-05",
          "2024-08-06",
          "2024-08-07",
          "2024-08-08",
          "2024-08-09",
          "2024-08-12",
          "2024-08-13",
          "2024-08-14",
          "2024-08-16",
          "2024-08-19",
          "2024-08-20",
          "2024-08-21",
          "2024-08-22",
          "2024-08-23",
          "2024-08-26",
          "2024-08-27",
          "2024-08-28",
          "2024-08-29",
          "2024-08-30"
         ],
         "y": {
          "bdata": "kQByAIAAfQCEAJ8AjACGAI0AkgAvAJUAjACIAJYAiQCCAKIAkQDLAIMA",
          "dtype": "i2"
         }
        },
        {
         "customdata": [
          [
           "Thursday"
          ],
          [
           "Friday"
          ],
          [
           "Monday"
          ],
          [
           "Tuesday"
          ],
          [
           "Wednesday"
          ],
          [
           "Thursday"
          ],
          [
           "Friday"
          ],
          [
           "Monday"
          ],
          [
           "Tuesday"
          ],
          [
           "Wednesday"
          ],
          [
           "Friday"
          ],
          [
           "Monday"
          ],
          [
           "Tuesday"
          ],
          [
           "Wednesday"
          ],
          [
           "Thursday"
          ],
          [
           "Friday"
          ],
          [
           "Monday"
          ],
          [
           "Tuesday"
          ],
          [
           "Wednesday"
          ],
          [
           "Thursday"
          ],
          [
           "Friday"
          ]
         ],
         "hovertemplate": "<b>검사기관: 한국승강기안전공단 성남지사</b><br>일자: %{x}<br>요일: %{customdata[0]}<br>검사 수: %{y}<extra></extra>",
         "mode": "lines+markers",
         "name": "한국승강기안전공단 성남지사",
         "type": "scatter",
         "x": [
          "2024-08-01",
          "2024-08-02",
          "2024-08-05",
          "2024-08-06",
          "2024-08-07",
          "2024-08-08",
          "2024-08-09",
          "2024-08-12",
          "2024-08-13",
          "2024-08-14",
          "2024-08-16",
          "2024-08-19",
          "2024-08-20",
          "2024-08-21",
          "2024-08-22",
          "2024-08-23",
          "2024-08-26",
          "2024-08-27",
          "2024-08-28",
          "2024-08-29",
          "2024-08-30"
         ],
         "y": {
          "bdata": "eQCIAH8AaQBoAJAAuwBpAGsAogA9AJEAcwB/AKgAywCoAIEApACGAKcA",
          "dtype": "i2"
         }
        }
       ],
       "layout": {
        "height": 500,
        "hovermode": "closest",
        "template": {
         "data": {
          "bar": [
           {
            "error_x": {
             "color": "#2a3f5f"
            },
            "error_y": {
             "color": "#2a3f5f"
            },
            "marker": {
             "line": {
              "color": "#E5ECF6",
              "width": 0.5
             },
             "pattern": {
              "fillmode": "overlay",
              "size": 10,
              "solidity": 0.2
             }
            },
            "type": "bar"
           }
          ],
          "barpolar": [
           {
            "marker": {
             "line": {
              "color": "#E5ECF6",
              "width": 0.5
             },
             "pattern": {
              "fillmode": "overlay",
              "size": 10,
              "solidity": 0.2
             }
            },
            "type": "barpolar"
           }
          ],
          "carpet": [
           {
            "aaxis": {
             "endlinecolor": "#2a3f5f",
             "gridcolor": "white",
             "linecolor": "white",
             "minorgridcolor": "white",
             "startlinecolor": "#2a3f5f"
            },
            "baxis": {
             "endlinecolor": "#2a3f5f",
             "gridcolor": "white",
             "linecolor": "white",
             "minorgridcolor": "white",
             "startlinecolor": "#2a3f5f"
            },
            "type": "carpet"
           }
          ],
          "choropleth": [
           {
            "colorbar": {
             "outlinewidth": 0,
             "ticks": ""
            },
            "type": "choropleth"
           }
          ],
          "contour": [
           {
            "colorbar": {
             "outlinewidth": 0,
             "ticks": ""
            },
            "colorscale": [
             [
              0,
              "#0d0887"
             ],
             [
              0.1111111111111111,
              "#46039f"
             ],
             [
              0.2222222222222222,
              "#7201a8"
             ],
             [
              0.3333333333333333,
              "#9c179e"
             ],
             [
              0.4444444444444444,
              "#bd3786"
             ],
             [
              0.5555555555555556,
              "#d8576b"
             ],
             [
              0.6666666666666666,
              "#ed7953"
             ],
             [
              0.7777777777777778,
              "#fb9f3a"
             ],
             [
              0.8888888888888888,
              "#fdca26"
             ],
             [
              1,
              "#f0f921"
             ]
            ],
            "type": "contour"
           }
          ],
          "contourcarpet": [
           {
            "colorbar": {
             "outlinewidth": 0,
             "ticks": ""
            },
            "type": "contourcarpet"
           }
          ],
          "heatmap": [
           {
            "colorbar": {
             "outlinewidth": 0,
             "ticks": ""
            },
            "colorscale": [
             [
              0,
              "#0d0887"
             ],
             [
              0.1111111111111111,
              "#46039f"
             ],
             [
              0.2222222222222222,
              "#7201a8"
             ],
             [
              0.3333333333333333,
              "#9c179e"
             ],
             [
              0.4444444444444444,
              "#bd3786"
             ],
             [
              0.5555555555555556,
              "#d8576b"
             ],
             [
              0.6666666666666666,
              "#ed7953"
             ],
             [
              0.7777777777777778,
              "#fb9f3a"
             ],
             [
              0.8888888888888888,
              "#fdca26"
             ],
             [
              1,
              "#f0f921"
             ]
            ],
            "type": "heatmap"
           }
          ],
          "histogram": [
           {
            "marker": {
             "pattern": {
              "fillmode": "overlay",
              "size": 10,
              "solidity": 0.2
             }
            },
            "type": "histogram"
           }
          ],
          "histogram2d": [
           {
            "colorbar": {
             "outlinewidth": 0,
             "ticks": ""
            },
            "colorscale": [
             [
              0,
              "#0d0887"
             ],
             [
              0.1111111111111111,
              "#46039f"
             ],
             [
              0.2222222222222222,
              "#7201a8"
             ],
             [
              0.3333333333333333,
              "#9c179e"
             ],
             [
              0.4444444444444444,
              "#bd3786"
             ],
             [
              0.5555555555555556,
              "#d8576b"
             ],
             [
              0.6666666666666666,
              "#ed7953"
             ],
             [
              0.7777777777777778,
              "#fb9f3a"
             ],
             [
              0.8888888888888888,
              "#fdca26"
             ],
             [
              1,
              "#f0f921"
             ]
            ],
            "type": "histogram2d"
           }
          ],
          "histogram2dcontour": [
           {
            "colorbar": {
             "outlinewidth": 0,
             "ticks": ""
            },
            "colorscale": [
             [
              0,
              "#0d0887"
             ],
             [
              0.1111111111111111,
              "#46039f"
             ],
             [
              0.2222222222222222,
              "#7201a8"
             ],
             [
              0.3333333333333333,
              "#9c179e"
             ],
             [
              0.4444444444444444,
              "#bd3786"
             ],
             [
              0.5555555555555556,
              "#d8576b"
             ],
             [
              0.6666666666666666,
              "#ed7953"
             ],
             [
              0.7777777777777778,
              "#fb9f3a"
             ],
             [
              0.8888888888888888,
              "#fdca26"
             ],
             [
              1,
              "#f0f921"
             ]
            ],
            "type": "histogram2dcontour"
           }
          ],
          "mesh3d": [
           {
            "colorbar": {
             "outlinewidth": 0,
             "ticks": ""
            },
            "type": "mesh3d"
           }
          ],
          "parcoords": [
           {
            "line": {
             "colorbar": {
              "outlinewidth": 0,
              "ticks": ""
             }
            },
            "type": "parcoords"
           }
          ],
          "pie": [
           {
            "automargin": true,
            "type": "pie"
           }
          ],
          "scatter": [
           {
            "fillpattern": {
             "fillmode": "overlay",
             "size": 10,
             "solidity": 0.2
            },
            "type": "scatter"
           }
          ],
          "scatter3d": [
           {
            "line": {
             "colorbar": {
              "outlinewidth": 0,
              "ticks": ""
             }
            },
            "marker": {
             "colorbar": {
              "outlinewidth": 0,
              "ticks": ""
             }
            },
            "type": "scatter3d"
           }
          ],
          "scattercarpet": [
           {
            "marker": {
             "colorbar": {
              "outlinewidth": 0,
              "ticks": ""
             }
            },
            "type": "scattercarpet"
           }
          ],
          "scattergeo": [
           {
            "marker": {
             "colorbar": {
              "outlinewidth": 0,
              "ticks": ""
             }
            },
            "type": "scattergeo"
           }
          ],
          "scattergl": [
           {
            "marker": {
             "colorbar": {
              "outlinewidth": 0,
              "ticks": ""
             }
            },
            "type": "scattergl"
           }
          ],
          "scattermap": [
           {
            "marker": {
             "colorbar": {
              "outlinewidth": 0,
              "ticks": ""
             }
            },
            "type": "scattermap"
           }
          ],
          "scattermapbox": [
           {
            "marker": {
             "colorbar": {
              "outlinewidth": 0,
              "ticks": ""
             }
            },
            "type": "scattermapbox"
           }
          ],
          "scatterpolar": [
           {
            "marker": {
             "colorbar": {
              "outlinewidth": 0,
              "ticks": ""
             }
            },
            "type": "scatterpolar"
           }
          ],
          "scatterpolargl": [
           {
            "marker": {
             "colorbar": {
              "outlinewidth": 0,
              "ticks": ""
             }
            },
            "type": "scatterpolargl"
           }
          ],
          "scatterternary": [
           {
            "marker": {
             "colorbar": {
              "outlinewidth": 0,
              "ticks": ""
             }
            },
            "type": "scatterternary"
           }
          ],
          "surface": [
           {
            "colorbar": {
             "outlinewidth": 0,
             "ticks": ""
            },
            "colorscale": [
             [
              0,
              "#0d0887"
             ],
             [
              0.1111111111111111,
              "#46039f"
             ],
             [
              0.2222222222222222,
              "#7201a8"
             ],
             [
              0.3333333333333333,
              "#9c179e"
             ],
             [
              0.4444444444444444,
              "#bd3786"
             ],
             [
              0.5555555555555556,
              "#d8576b"
             ],
             [
              0.6666666666666666,
              "#ed7953"
             ],
             [
              0.7777777777777778,
              "#fb9f3a"
             ],
             [
              0.8888888888888888,
              "#fdca26"
             ],
             [
              1,
              "#f0f921"
             ]
            ],
            "type": "surface"
           }
          ],
          "table": [
           {
            "cells": {
             "fill": {
              "color": "#EBF0F8"
             },
             "line": {
              "color": "white"
             }
            },
            "header": {
             "fill": {
              "color": "#C8D4E3"
             },
             "line": {
              "color": "white"
             }
            },
            "type": "table"
           }
          ]
         },
         "layout": {
          "annotationdefaults": {
           "arrowcolor": "#2a3f5f",
           "arrowhead": 0,
           "arrowwidth": 1
          },
          "autotypenumbers": "strict",
          "coloraxis": {
           "colorbar": {
            "outlinewidth": 0,
            "ticks": ""
           }
          },
          "colorscale": {
           "diverging": [
            [
             0,
             "#8e0152"
            ],
            [
             0.1,
             "#c51b7d"
            ],
            [
             0.2,
             "#de77ae"
            ],
            [
             0.3,
             "#f1b6da"
            ],
            [
             0.4,
             "#fde0ef"
            ],
            [
             0.5,
             "#f7f7f7"
            ],
            [
             0.6,
             "#e6f5d0"
            ],
            [
             0.7,
             "#b8e186"
            ],
            [
             0.8,
             "#7fbc41"
            ],
            [
             0.9,
             "#4d9221"
            ],
            [
             1,
             "#276419"
            ]
           ],
           "sequential": [
            [
             0,
             "#0d0887"
            ],
            [
             0.1111111111111111,
             "#46039f"
            ],
            [
             0.2222222222222222,
             "#7201a8"
            ],
            [
             0.3333333333333333,
             "#9c179e"
            ],
            [
             0.4444444444444444,
             "#bd3786"
            ],
            [
             0.5555555555555556,
             "#d8576b"
            ],
            [
             0.6666666666666666,
             "#ed7953"
            ],
            [
             0.7777777777777778,
             "#fb9f3a"
            ],
            [
             0.8888888888888888,
             "#fdca26"
            ],
            [
             1,
             "#f0f921"
            ]
           ],
           "sequentialminus": [
            [
             0,
             "#0d0887"
            ],
            [
             0.1111111111111111,
             "#46039f"
            ],
            [
             0.2222222222222222,
             "#7201a8"
            ],
            [
             0.3333333333333333,
             "#9c179e"
            ],
            [
             0.4444444444444444,
             "#bd3786"
            ],
            [
             0.5555555555555556,
             "#d8576b"
            ],
            [
             0.6666666666666666,
             "#ed7953"
            ],
            [
             0.7777777777777778,
             "#fb9f3a"
            ],
            [
             0.8888888888888888,
             "#fdca26"
            ],
            [
             1,
             "#f0f921"
            ]
           ]
          },
          "colorway": [
           "#636efa",
           "#EF553B",
           "#00cc96",
           "#ab63fa",
           "#FFA15A",
           "#19d3f3",
           "#FF6692",
           "#B6E880",
           "#FF97FF",
           "#FECB52"
          ],
          "font": {
           "color": "#2a3f5f"
          },
          "geo": {
           "bgcolor": "white",
           "lakecolor": "white",
           "landcolor": "#E5ECF6",
           "showlakes": true,
           "showland": true,
           "subunitcolor": "white"
          },
          "hoverlabel": {
           "align": "left"
          },
          "hovermode": "closest",
          "mapbox": {
           "style": "light"
          },
          "paper_bgcolor": "white",
          "plot_bgcolor": "#E5ECF6",
          "polar": {
           "angularaxis": {
            "gridcolor": "white",
            "linecolor": "white",
            "ticks": ""
           },
           "bgcolor": "#E5ECF6",
           "radialaxis": {
            "gridcolor": "white",
            "linecolor": "white",
            "ticks": ""
           }
          },
          "scene": {
           "xaxis": {
            "backgroundcolor": "#E5ECF6",
            "gridcolor": "white",
            "gridwidth": 2,
            "linecolor": "white",
            "showbackground": true,
            "ticks": "",
            "zerolinecolor": "white"
           },
           "yaxis": {
            "backgroundcolor": "#E5ECF6",
            "gridcolor": "white",
            "gridwidth": 2,
            "linecolor": "white",
            "showbackground": true,
            "ticks": "",
            "zerolinecolor": "white"
           },
           "zaxis": {
            "backgroundcolor": "#E5ECF6",
            "gridcolor": "white",
            "gridwidth": 2,
            "linecolor": "white",
            "showbackground": true,
            "ticks": "",
            "zerolinecolor": "white"
           }
          },
          "shapedefaults": {
           "line": {
            "color": "#2a3f5f"
           }
          },
          "ternary": {
           "aaxis": {
            "gridcolor": "white",
            "linecolor": "white",
            "ticks": ""
           },
           "baxis": {
            "gridcolor": "white",
            "linecolor": "white",
            "ticks": ""
           },
           "bgcolor": "#E5ECF6",
           "caxis": {
            "gridcolor": "white",
            "linecolor": "white",
            "ticks": ""
           }
          },
          "title": {
           "x": 0.05
          },
          "xaxis": {
           "automargin": true,
           "gridcolor": "white",
           "linecolor": "white",
           "ticks": "",
           "title": {
            "standoff": 15
           },
           "zerolinecolor": "white",
           "zerolinewidth": 2
          },
          "yaxis": {
           "automargin": true,
           "gridcolor": "white",
           "linecolor": "white",
           "ticks": "",
           "title": {
            "standoff": 15
           },
           "zerolinecolor": "white",
           "zerolinewidth": 2
          }
         }
        },
        "title": {
         "text": "2024-08 일자별 검사 건수 (상위 7 기관)"
        },
        "width": 1000,
        "xaxis": {
         "tickangle": 45,
         "title": {
          "text": "일자"
         },
         "type": "category"
        },
        "yaxis": {
         "title": {
          "text": "검사 수"
         }
        }
       }
      }
     },
     "metadata": {},
     "output_type": "display_data"
    }
   ],
   "source": [
    "# 사용 예시\n",
    "plot_daily_by_institution(df, '2024-08', top_n=7)"
   ]
  },
  {
   "cell_type": "markdown",
   "id": "99977c49-d29c-4285-9d99-9130c37ae8b7",
   "metadata": {},
   "source": [
    "### 함수 5"
   ]
  },
  {
   "cell_type": "code",
   "execution_count": 29,
   "id": "b2ce736d-c5d9-465a-a7b5-0439ad05a098",
   "metadata": {},
   "outputs": [],
   "source": [
    "# 개선된 함수: 원하는 기관 직접 지정 기능 포함\n",
    "import pandas as pd\n",
    "import plotly.graph_objects as go\n",
    "\n",
    "def plot_daily_by_institution(df, year_month, date_col='검사일자', group_col='검사기관',\n",
    "                              top_n=5, target_institutions=None):\n",
    "    df = df.copy()\n",
    "    df[date_col] = pd.to_datetime(df[date_col])\n",
    "    df['연월'] = df[date_col].dt.to_period('M').astype(str)\n",
    "\n",
    "    # 1. 해당 월만 필터링\n",
    "    df = df[df['연월'] == year_month]\n",
    "\n",
    "    # 2. 검사기관 지정\n",
    "    if target_institutions is not None:\n",
    "        target_list = target_institutions\n",
    "    else:\n",
    "        target_list = df[group_col].value_counts().nlargest(top_n).index.tolist()\n",
    "\n",
    "    df = df[df[group_col].isin(target_list)]\n",
    "\n",
    "    # 3. 일자 및 요일 추출\n",
    "    df['일자'] = df[date_col].dt.date\n",
    "    df['요일'] = df[date_col].dt.day_name()\n",
    "\n",
    "    # 4. 집계\n",
    "    summary = df.groupby(['일자', '요일', group_col]).size().reset_index(name='건수')\n",
    "\n",
    "    # 5. 그래프 생성\n",
    "    fig = go.Figure()\n",
    "\n",
    "    for group in target_list:\n",
    "        sub_df = summary[summary[group_col] == group]\n",
    "\n",
    "        fig.add_trace(go.Scatter(\n",
    "            x=sub_df['일자'].astype(str),\n",
    "            y=sub_df['건수'],\n",
    "            mode='lines+markers',\n",
    "            name=group,\n",
    "            customdata=sub_df[['요일']],\n",
    "            hovertemplate=(\n",
    "                f'<b>검사기관: {group}</b><br>' +\n",
    "                '일자: %{x}<br>' +\n",
    "                '요일: %{customdata[0]}<br>' +\n",
    "                '검사 수: %{y}<extra></extra>'\n",
    "            )\n",
    "        ))\n",
    "\n",
    "    fig.update_layout(\n",
    "        title=f'{year_month} 일자별 검사 건수 ({ \"사용자 지정\" if target_institutions else f\"상위 {top_n} 기관\"})',\n",
    "        xaxis_title='일자',\n",
    "        yaxis_title='검사 수',\n",
    "        xaxis_tickangle=45,\n",
    "        xaxis=dict(type='category'),\n",
    "        hovermode='closest',\n",
    "        width=1000,\n",
    "        height=500\n",
    "    )\n",
    "\n",
    "    fig.show()\n"
   ]
  },
  {
   "cell_type": "code",
   "execution_count": 30,
   "id": "3245994c-4b6a-428d-bafd-38abb4d8e4b0",
   "metadata": {},
   "outputs": [
    {
     "data": {
      "application/vnd.plotly.v1+json": {
       "config": {
        "plotlyServerURL": "https://plot.ly"
       },
       "data": [
        {
         "customdata": [
          [
           "Thursday"
          ],
          [
           "Friday"
          ],
          [
           "Monday"
          ],
          [
           "Tuesday"
          ],
          [
           "Wednesday"
          ],
          [
           "Thursday"
          ],
          [
           "Friday"
          ],
          [
           "Saturday"
          ],
          [
           "Monday"
          ],
          [
           "Tuesday"
          ],
          [
           "Wednesday"
          ],
          [
           "Thursday"
          ],
          [
           "Friday"
          ],
          [
           "Monday"
          ],
          [
           "Tuesday"
          ],
          [
           "Wednesday"
          ],
          [
           "Thursday"
          ],
          [
           "Friday"
          ],
          [
           "Sunday"
          ],
          [
           "Monday"
          ],
          [
           "Tuesday"
          ],
          [
           "Wednesday"
          ],
          [
           "Thursday"
          ],
          [
           "Friday"
          ]
         ],
         "hovertemplate": "<b>검사기관: (재)승강기안전기술연구원 서울지원</b><br>일자: %{x}<br>요일: %{customdata[0]}<br>검사 수: %{y}<extra></extra>",
         "mode": "lines+markers",
         "name": "(재)승강기안전기술연구원 서울지원",
         "type": "scatter",
         "x": [
          "2024-08-01",
          "2024-08-02",
          "2024-08-05",
          "2024-08-06",
          "2024-08-07",
          "2024-08-08",
          "2024-08-09",
          "2024-08-10",
          "2024-08-12",
          "2024-08-13",
          "2024-08-14",
          "2024-08-15",
          "2024-08-16",
          "2024-08-19",
          "2024-08-20",
          "2024-08-21",
          "2024-08-22",
          "2024-08-23",
          "2024-08-25",
          "2024-08-26",
          "2024-08-27",
          "2024-08-28",
          "2024-08-29",
          "2024-08-30"
         ],
         "y": {
          "bdata": "2wC2AKoA2gDvAO0A8QAEAOEADAHkAAEAawDeAPcA/gDyANMAAgDcAAgB5gATAcYA",
          "dtype": "i2"
         }
        },
        {
         "customdata": [
          [
           "Thursday"
          ],
          [
           "Friday"
          ],
          [
           "Monday"
          ],
          [
           "Tuesday"
          ],
          [
           "Wednesday"
          ],
          [
           "Thursday"
          ],
          [
           "Friday"
          ],
          [
           "Monday"
          ],
          [
           "Tuesday"
          ],
          [
           "Wednesday"
          ],
          [
           "Friday"
          ],
          [
           "Monday"
          ],
          [
           "Tuesday"
          ],
          [
           "Wednesday"
          ],
          [
           "Thursday"
          ],
          [
           "Friday"
          ],
          [
           "Monday"
          ],
          [
           "Tuesday"
          ],
          [
           "Wednesday"
          ],
          [
           "Thursday"
          ],
          [
           "Friday"
          ]
         ],
         "hovertemplate": "<b>검사기관: 한국승강기안전공단 서울북부지사</b><br>일자: %{x}<br>요일: %{customdata[0]}<br>검사 수: %{y}<extra></extra>",
         "mode": "lines+markers",
         "name": "한국승강기안전공단 서울북부지사",
         "type": "scatter",
         "x": [
          "2024-08-01",
          "2024-08-02",
          "2024-08-05",
          "2024-08-06",
          "2024-08-07",
          "2024-08-08",
          "2024-08-09",
          "2024-08-12",
          "2024-08-13",
          "2024-08-14",
          "2024-08-16",
          "2024-08-19",
          "2024-08-20",
          "2024-08-21",
          "2024-08-22",
          "2024-08-23",
          "2024-08-26",
          "2024-08-27",
          "2024-08-28",
          "2024-08-29",
          "2024-08-30"
         ],
         "y": {
          "bdata": "bABjAKQAVACMAGEAbABOAKwAVwAtAHwAfgBrAGwAXQCMAG0AfgBbAKAA",
          "dtype": "i2"
         }
        }
       ],
       "layout": {
        "height": 500,
        "hovermode": "closest",
        "template": {
         "data": {
          "bar": [
           {
            "error_x": {
             "color": "#2a3f5f"
            },
            "error_y": {
             "color": "#2a3f5f"
            },
            "marker": {
             "line": {
              "color": "#E5ECF6",
              "width": 0.5
             },
             "pattern": {
              "fillmode": "overlay",
              "size": 10,
              "solidity": 0.2
             }
            },
            "type": "bar"
           }
          ],
          "barpolar": [
           {
            "marker": {
             "line": {
              "color": "#E5ECF6",
              "width": 0.5
             },
             "pattern": {
              "fillmode": "overlay",
              "size": 10,
              "solidity": 0.2
             }
            },
            "type": "barpolar"
           }
          ],
          "carpet": [
           {
            "aaxis": {
             "endlinecolor": "#2a3f5f",
             "gridcolor": "white",
             "linecolor": "white",
             "minorgridcolor": "white",
             "startlinecolor": "#2a3f5f"
            },
            "baxis": {
             "endlinecolor": "#2a3f5f",
             "gridcolor": "white",
             "linecolor": "white",
             "minorgridcolor": "white",
             "startlinecolor": "#2a3f5f"
            },
            "type": "carpet"
           }
          ],
          "choropleth": [
           {
            "colorbar": {
             "outlinewidth": 0,
             "ticks": ""
            },
            "type": "choropleth"
           }
          ],
          "contour": [
           {
            "colorbar": {
             "outlinewidth": 0,
             "ticks": ""
            },
            "colorscale": [
             [
              0,
              "#0d0887"
             ],
             [
              0.1111111111111111,
              "#46039f"
             ],
             [
              0.2222222222222222,
              "#7201a8"
             ],
             [
              0.3333333333333333,
              "#9c179e"
             ],
             [
              0.4444444444444444,
              "#bd3786"
             ],
             [
              0.5555555555555556,
              "#d8576b"
             ],
             [
              0.6666666666666666,
              "#ed7953"
             ],
             [
              0.7777777777777778,
              "#fb9f3a"
             ],
             [
              0.8888888888888888,
              "#fdca26"
             ],
             [
              1,
              "#f0f921"
             ]
            ],
            "type": "contour"
           }
          ],
          "contourcarpet": [
           {
            "colorbar": {
             "outlinewidth": 0,
             "ticks": ""
            },
            "type": "contourcarpet"
           }
          ],
          "heatmap": [
           {
            "colorbar": {
             "outlinewidth": 0,
             "ticks": ""
            },
            "colorscale": [
             [
              0,
              "#0d0887"
             ],
             [
              0.1111111111111111,
              "#46039f"
             ],
             [
              0.2222222222222222,
              "#7201a8"
             ],
             [
              0.3333333333333333,
              "#9c179e"
             ],
             [
              0.4444444444444444,
              "#bd3786"
             ],
             [
              0.5555555555555556,
              "#d8576b"
             ],
             [
              0.6666666666666666,
              "#ed7953"
             ],
             [
              0.7777777777777778,
              "#fb9f3a"
             ],
             [
              0.8888888888888888,
              "#fdca26"
             ],
             [
              1,
              "#f0f921"
             ]
            ],
            "type": "heatmap"
           }
          ],
          "histogram": [
           {
            "marker": {
             "pattern": {
              "fillmode": "overlay",
              "size": 10,
              "solidity": 0.2
             }
            },
            "type": "histogram"
           }
          ],
          "histogram2d": [
           {
            "colorbar": {
             "outlinewidth": 0,
             "ticks": ""
            },
            "colorscale": [
             [
              0,
              "#0d0887"
             ],
             [
              0.1111111111111111,
              "#46039f"
             ],
             [
              0.2222222222222222,
              "#7201a8"
             ],
             [
              0.3333333333333333,
              "#9c179e"
             ],
             [
              0.4444444444444444,
              "#bd3786"
             ],
             [
              0.5555555555555556,
              "#d8576b"
             ],
             [
              0.6666666666666666,
              "#ed7953"
             ],
             [
              0.7777777777777778,
              "#fb9f3a"
             ],
             [
              0.8888888888888888,
              "#fdca26"
             ],
             [
              1,
              "#f0f921"
             ]
            ],
            "type": "histogram2d"
           }
          ],
          "histogram2dcontour": [
           {
            "colorbar": {
             "outlinewidth": 0,
             "ticks": ""
            },
            "colorscale": [
             [
              0,
              "#0d0887"
             ],
             [
              0.1111111111111111,
              "#46039f"
             ],
             [
              0.2222222222222222,
              "#7201a8"
             ],
             [
              0.3333333333333333,
              "#9c179e"
             ],
             [
              0.4444444444444444,
              "#bd3786"
             ],
             [
              0.5555555555555556,
              "#d8576b"
             ],
             [
              0.6666666666666666,
              "#ed7953"
             ],
             [
              0.7777777777777778,
              "#fb9f3a"
             ],
             [
              0.8888888888888888,
              "#fdca26"
             ],
             [
              1,
              "#f0f921"
             ]
            ],
            "type": "histogram2dcontour"
           }
          ],
          "mesh3d": [
           {
            "colorbar": {
             "outlinewidth": 0,
             "ticks": ""
            },
            "type": "mesh3d"
           }
          ],
          "parcoords": [
           {
            "line": {
             "colorbar": {
              "outlinewidth": 0,
              "ticks": ""
             }
            },
            "type": "parcoords"
           }
          ],
          "pie": [
           {
            "automargin": true,
            "type": "pie"
           }
          ],
          "scatter": [
           {
            "fillpattern": {
             "fillmode": "overlay",
             "size": 10,
             "solidity": 0.2
            },
            "type": "scatter"
           }
          ],
          "scatter3d": [
           {
            "line": {
             "colorbar": {
              "outlinewidth": 0,
              "ticks": ""
             }
            },
            "marker": {
             "colorbar": {
              "outlinewidth": 0,
              "ticks": ""
             }
            },
            "type": "scatter3d"
           }
          ],
          "scattercarpet": [
           {
            "marker": {
             "colorbar": {
              "outlinewidth": 0,
              "ticks": ""
             }
            },
            "type": "scattercarpet"
           }
          ],
          "scattergeo": [
           {
            "marker": {
             "colorbar": {
              "outlinewidth": 0,
              "ticks": ""
             }
            },
            "type": "scattergeo"
           }
          ],
          "scattergl": [
           {
            "marker": {
             "colorbar": {
              "outlinewidth": 0,
              "ticks": ""
             }
            },
            "type": "scattergl"
           }
          ],
          "scattermap": [
           {
            "marker": {
             "colorbar": {
              "outlinewidth": 0,
              "ticks": ""
             }
            },
            "type": "scattermap"
           }
          ],
          "scattermapbox": [
           {
            "marker": {
             "colorbar": {
              "outlinewidth": 0,
              "ticks": ""
             }
            },
            "type": "scattermapbox"
           }
          ],
          "scatterpolar": [
           {
            "marker": {
             "colorbar": {
              "outlinewidth": 0,
              "ticks": ""
             }
            },
            "type": "scatterpolar"
           }
          ],
          "scatterpolargl": [
           {
            "marker": {
             "colorbar": {
              "outlinewidth": 0,
              "ticks": ""
             }
            },
            "type": "scatterpolargl"
           }
          ],
          "scatterternary": [
           {
            "marker": {
             "colorbar": {
              "outlinewidth": 0,
              "ticks": ""
             }
            },
            "type": "scatterternary"
           }
          ],
          "surface": [
           {
            "colorbar": {
             "outlinewidth": 0,
             "ticks": ""
            },
            "colorscale": [
             [
              0,
              "#0d0887"
             ],
             [
              0.1111111111111111,
              "#46039f"
             ],
             [
              0.2222222222222222,
              "#7201a8"
             ],
             [
              0.3333333333333333,
              "#9c179e"
             ],
             [
              0.4444444444444444,
              "#bd3786"
             ],
             [
              0.5555555555555556,
              "#d8576b"
             ],
             [
              0.6666666666666666,
              "#ed7953"
             ],
             [
              0.7777777777777778,
              "#fb9f3a"
             ],
             [
              0.8888888888888888,
              "#fdca26"
             ],
             [
              1,
              "#f0f921"
             ]
            ],
            "type": "surface"
           }
          ],
          "table": [
           {
            "cells": {
             "fill": {
              "color": "#EBF0F8"
             },
             "line": {
              "color": "white"
             }
            },
            "header": {
             "fill": {
              "color": "#C8D4E3"
             },
             "line": {
              "color": "white"
             }
            },
            "type": "table"
           }
          ]
         },
         "layout": {
          "annotationdefaults": {
           "arrowcolor": "#2a3f5f",
           "arrowhead": 0,
           "arrowwidth": 1
          },
          "autotypenumbers": "strict",
          "coloraxis": {
           "colorbar": {
            "outlinewidth": 0,
            "ticks": ""
           }
          },
          "colorscale": {
           "diverging": [
            [
             0,
             "#8e0152"
            ],
            [
             0.1,
             "#c51b7d"
            ],
            [
             0.2,
             "#de77ae"
            ],
            [
             0.3,
             "#f1b6da"
            ],
            [
             0.4,
             "#fde0ef"
            ],
            [
             0.5,
             "#f7f7f7"
            ],
            [
             0.6,
             "#e6f5d0"
            ],
            [
             0.7,
             "#b8e186"
            ],
            [
             0.8,
             "#7fbc41"
            ],
            [
             0.9,
             "#4d9221"
            ],
            [
             1,
             "#276419"
            ]
           ],
           "sequential": [
            [
             0,
             "#0d0887"
            ],
            [
             0.1111111111111111,
             "#46039f"
            ],
            [
             0.2222222222222222,
             "#7201a8"
            ],
            [
             0.3333333333333333,
             "#9c179e"
            ],
            [
             0.4444444444444444,
             "#bd3786"
            ],
            [
             0.5555555555555556,
             "#d8576b"
            ],
            [
             0.6666666666666666,
             "#ed7953"
            ],
            [
             0.7777777777777778,
             "#fb9f3a"
            ],
            [
             0.8888888888888888,
             "#fdca26"
            ],
            [
             1,
             "#f0f921"
            ]
           ],
           "sequentialminus": [
            [
             0,
             "#0d0887"
            ],
            [
             0.1111111111111111,
             "#46039f"
            ],
            [
             0.2222222222222222,
             "#7201a8"
            ],
            [
             0.3333333333333333,
             "#9c179e"
            ],
            [
             0.4444444444444444,
             "#bd3786"
            ],
            [
             0.5555555555555556,
             "#d8576b"
            ],
            [
             0.6666666666666666,
             "#ed7953"
            ],
            [
             0.7777777777777778,
             "#fb9f3a"
            ],
            [
             0.8888888888888888,
             "#fdca26"
            ],
            [
             1,
             "#f0f921"
            ]
           ]
          },
          "colorway": [
           "#636efa",
           "#EF553B",
           "#00cc96",
           "#ab63fa",
           "#FFA15A",
           "#19d3f3",
           "#FF6692",
           "#B6E880",
           "#FF97FF",
           "#FECB52"
          ],
          "font": {
           "color": "#2a3f5f"
          },
          "geo": {
           "bgcolor": "white",
           "lakecolor": "white",
           "landcolor": "#E5ECF6",
           "showlakes": true,
           "showland": true,
           "subunitcolor": "white"
          },
          "hoverlabel": {
           "align": "left"
          },
          "hovermode": "closest",
          "mapbox": {
           "style": "light"
          },
          "paper_bgcolor": "white",
          "plot_bgcolor": "#E5ECF6",
          "polar": {
           "angularaxis": {
            "gridcolor": "white",
            "linecolor": "white",
            "ticks": ""
           },
           "bgcolor": "#E5ECF6",
           "radialaxis": {
            "gridcolor": "white",
            "linecolor": "white",
            "ticks": ""
           }
          },
          "scene": {
           "xaxis": {
            "backgroundcolor": "#E5ECF6",
            "gridcolor": "white",
            "gridwidth": 2,
            "linecolor": "white",
            "showbackground": true,
            "ticks": "",
            "zerolinecolor": "white"
           },
           "yaxis": {
            "backgroundcolor": "#E5ECF6",
            "gridcolor": "white",
            "gridwidth": 2,
            "linecolor": "white",
            "showbackground": true,
            "ticks": "",
            "zerolinecolor": "white"
           },
           "zaxis": {
            "backgroundcolor": "#E5ECF6",
            "gridcolor": "white",
            "gridwidth": 2,
            "linecolor": "white",
            "showbackground": true,
            "ticks": "",
            "zerolinecolor": "white"
           }
          },
          "shapedefaults": {
           "line": {
            "color": "#2a3f5f"
           }
          },
          "ternary": {
           "aaxis": {
            "gridcolor": "white",
            "linecolor": "white",
            "ticks": ""
           },
           "baxis": {
            "gridcolor": "white",
            "linecolor": "white",
            "ticks": ""
           },
           "bgcolor": "#E5ECF6",
           "caxis": {
            "gridcolor": "white",
            "linecolor": "white",
            "ticks": ""
           }
          },
          "title": {
           "x": 0.05
          },
          "xaxis": {
           "automargin": true,
           "gridcolor": "white",
           "linecolor": "white",
           "ticks": "",
           "title": {
            "standoff": 15
           },
           "zerolinecolor": "white",
           "zerolinewidth": 2
          },
          "yaxis": {
           "automargin": true,
           "gridcolor": "white",
           "linecolor": "white",
           "ticks": "",
           "title": {
            "standoff": 15
           },
           "zerolinecolor": "white",
           "zerolinewidth": 2
          }
         }
        },
        "title": {
         "text": "2024-08 일자별 검사 건수 (사용자 지정)"
        },
        "width": 1000,
        "xaxis": {
         "tickangle": 45,
         "title": {
          "text": "일자"
         },
         "type": "category"
        },
        "yaxis": {
         "title": {
          "text": "검사 수"
         }
        }
       }
      }
     },
     "metadata": {},
     "output_type": "display_data"
    }
   ],
   "source": [
    "# 사용 예시 1\n",
    "plot_daily_by_institution(\n",
    "    df,\n",
    "    year_month='2024-08',\n",
    "    target_institutions=['(재)승강기안전기술연구원 서울지원', '한국승강기안전공단 서울북부지사']\n",
    ")"
   ]
  },
  {
   "cell_type": "code",
   "execution_count": 31,
   "id": "8acb0cf2-4c3d-49dc-bb79-7175bc881308",
   "metadata": {},
   "outputs": [
    {
     "data": {
      "application/vnd.plotly.v1+json": {
       "config": {
        "plotlyServerURL": "https://plot.ly"
       },
       "data": [
        {
         "customdata": [
          [
           "Thursday"
          ],
          [
           "Friday"
          ],
          [
           "Monday"
          ],
          [
           "Tuesday"
          ],
          [
           "Wednesday"
          ],
          [
           "Thursday"
          ],
          [
           "Friday"
          ],
          [
           "Saturday"
          ],
          [
           "Monday"
          ],
          [
           "Tuesday"
          ],
          [
           "Wednesday"
          ],
          [
           "Thursday"
          ],
          [
           "Friday"
          ],
          [
           "Monday"
          ],
          [
           "Tuesday"
          ],
          [
           "Wednesday"
          ],
          [
           "Thursday"
          ],
          [
           "Friday"
          ],
          [
           "Sunday"
          ],
          [
           "Monday"
          ],
          [
           "Tuesday"
          ],
          [
           "Wednesday"
          ],
          [
           "Thursday"
          ],
          [
           "Friday"
          ]
         ],
         "hovertemplate": "<b>검사기관: (재)승강기안전기술연구원 서울지원</b><br>일자: %{x}<br>요일: %{customdata[0]}<br>검사 수: %{y}<extra></extra>",
         "mode": "lines+markers",
         "name": "(재)승강기안전기술연구원 서울지원",
         "type": "scatter",
         "x": [
          "2024-08-01",
          "2024-08-02",
          "2024-08-05",
          "2024-08-06",
          "2024-08-07",
          "2024-08-08",
          "2024-08-09",
          "2024-08-10",
          "2024-08-12",
          "2024-08-13",
          "2024-08-14",
          "2024-08-15",
          "2024-08-16",
          "2024-08-19",
          "2024-08-20",
          "2024-08-21",
          "2024-08-22",
          "2024-08-23",
          "2024-08-25",
          "2024-08-26",
          "2024-08-27",
          "2024-08-28",
          "2024-08-29",
          "2024-08-30"
         ],
         "y": {
          "bdata": "2wC2AKoA2gDvAO0A8QAEAOEADAHkAAEAawDeAPcA/gDyANMAAgDcAAgB5gATAcYA",
          "dtype": "i2"
         }
        },
        {
         "customdata": [
          [
           "Thursday"
          ],
          [
           "Friday"
          ],
          [
           "Monday"
          ],
          [
           "Tuesday"
          ],
          [
           "Wednesday"
          ],
          [
           "Thursday"
          ],
          [
           "Friday"
          ],
          [
           "Monday"
          ],
          [
           "Tuesday"
          ],
          [
           "Wednesday"
          ],
          [
           "Friday"
          ],
          [
           "Monday"
          ],
          [
           "Tuesday"
          ],
          [
           "Wednesday"
          ],
          [
           "Thursday"
          ],
          [
           "Friday"
          ],
          [
           "Monday"
          ],
          [
           "Tuesday"
          ],
          [
           "Wednesday"
          ],
          [
           "Thursday"
          ],
          [
           "Friday"
          ]
         ],
         "hovertemplate": "<b>검사기관: 한국승강기안전공단 경기북부지사</b><br>일자: %{x}<br>요일: %{customdata[0]}<br>검사 수: %{y}<extra></extra>",
         "mode": "lines+markers",
         "name": "한국승강기안전공단 경기북부지사",
         "type": "scatter",
         "x": [
          "2024-08-01",
          "2024-08-02",
          "2024-08-05",
          "2024-08-06",
          "2024-08-07",
          "2024-08-08",
          "2024-08-09",
          "2024-08-12",
          "2024-08-13",
          "2024-08-14",
          "2024-08-16",
          "2024-08-19",
          "2024-08-20",
          "2024-08-21",
          "2024-08-22",
          "2024-08-23",
          "2024-08-26",
          "2024-08-27",
          "2024-08-28",
          "2024-08-29",
          "2024-08-30"
         ],
         "y": {
          "bdata": "ogB+ALcAtgAHAQABvwDxAMUA2wBCAMMA4wDFAMgAsAC9ANQAugDbAMsA",
          "dtype": "i2"
         }
        },
        {
         "customdata": [
          [
           "Thursday"
          ],
          [
           "Friday"
          ],
          [
           "Monday"
          ],
          [
           "Tuesday"
          ],
          [
           "Wednesday"
          ],
          [
           "Thursday"
          ],
          [
           "Friday"
          ],
          [
           "Monday"
          ],
          [
           "Tuesday"
          ],
          [
           "Wednesday"
          ],
          [
           "Friday"
          ],
          [
           "Monday"
          ],
          [
           "Tuesday"
          ],
          [
           "Wednesday"
          ],
          [
           "Thursday"
          ],
          [
           "Friday"
          ],
          [
           "Monday"
          ],
          [
           "Tuesday"
          ],
          [
           "Wednesday"
          ],
          [
           "Thursday"
          ],
          [
           "Friday"
          ]
         ],
         "hovertemplate": "<b>검사기관: 한국승강기안전공단 고양파주지사</b><br>일자: %{x}<br>요일: %{customdata[0]}<br>검사 수: %{y}<extra></extra>",
         "mode": "lines+markers",
         "name": "한국승강기안전공단 고양파주지사",
         "type": "scatter",
         "x": [
          "2024-08-01",
          "2024-08-02",
          "2024-08-05",
          "2024-08-06",
          "2024-08-07",
          "2024-08-08",
          "2024-08-09",
          "2024-08-12",
          "2024-08-13",
          "2024-08-14",
          "2024-08-16",
          "2024-08-19",
          "2024-08-20",
          "2024-08-21",
          "2024-08-22",
          "2024-08-23",
          "2024-08-26",
          "2024-08-27",
          "2024-08-28",
          "2024-08-29",
          "2024-08-30"
         ],
         "y": {
          "bdata": "lQBdAHIAiwB6AKkAkADkAIkAjQB9AKAAfQCYAKQAhgCgAKMAzgC1AH0A",
          "dtype": "i2"
         }
        },
        {
         "customdata": [
          [
           "Thursday"
          ],
          [
           "Friday"
          ],
          [
           "Monday"
          ],
          [
           "Tuesday"
          ],
          [
           "Wednesday"
          ],
          [
           "Thursday"
          ],
          [
           "Friday"
          ],
          [
           "Monday"
          ],
          [
           "Tuesday"
          ],
          [
           "Wednesday"
          ],
          [
           "Friday"
          ],
          [
           "Monday"
          ],
          [
           "Tuesday"
          ],
          [
           "Wednesday"
          ],
          [
           "Thursday"
          ],
          [
           "Friday"
          ],
          [
           "Monday"
          ],
          [
           "Tuesday"
          ],
          [
           "Wednesday"
          ],
          [
           "Thursday"
          ],
          [
           "Friday"
          ]
         ],
         "hovertemplate": "<b>검사기관: 한국승강기안전공단 화성오산지사</b><br>일자: %{x}<br>요일: %{customdata[0]}<br>검사 수: %{y}<extra></extra>",
         "mode": "lines+markers",
         "name": "한국승강기안전공단 화성오산지사",
         "type": "scatter",
         "x": [
          "2024-08-01",
          "2024-08-02",
          "2024-08-05",
          "2024-08-06",
          "2024-08-07",
          "2024-08-08",
          "2024-08-09",
          "2024-08-12",
          "2024-08-13",
          "2024-08-14",
          "2024-08-16",
          "2024-08-19",
          "2024-08-20",
          "2024-08-21",
          "2024-08-22",
          "2024-08-23",
          "2024-08-26",
          "2024-08-27",
          "2024-08-28",
          "2024-08-29",
          "2024-08-30"
         ],
         "y": {
          "bdata": "ZgCmAIQAowCJAH8AfAB0AL4AbQBxAIYAfQCeAIsA0QCMAHIAjACRAJoA",
          "dtype": "i2"
         }
        },
        {
         "customdata": [
          [
           "Thursday"
          ],
          [
           "Friday"
          ],
          [
           "Monday"
          ],
          [
           "Tuesday"
          ],
          [
           "Wednesday"
          ],
          [
           "Thursday"
          ],
          [
           "Friday"
          ],
          [
           "Monday"
          ],
          [
           "Tuesday"
          ],
          [
           "Wednesday"
          ],
          [
           "Friday"
          ],
          [
           "Monday"
          ],
          [
           "Tuesday"
          ],
          [
           "Wednesday"
          ],
          [
           "Thursday"
          ],
          [
           "Friday"
          ],
          [
           "Monday"
          ],
          [
           "Tuesday"
          ],
          [
           "Wednesday"
          ],
          [
           "Thursday"
          ],
          [
           "Friday"
          ]
         ],
         "hovertemplate": "<b>검사기관: 한국승강기안전공단 대전지사</b><br>일자: %{x}<br>요일: %{customdata[0]}<br>검사 수: %{y}<extra></extra>",
         "mode": "lines+markers",
         "name": "한국승강기안전공단 대전지사",
         "type": "scatter",
         "x": [
          "2024-08-01",
          "2024-08-02",
          "2024-08-05",
          "2024-08-06",
          "2024-08-07",
          "2024-08-08",
          "2024-08-09",
          "2024-08-12",
          "2024-08-13",
          "2024-08-14",
          "2024-08-16",
          "2024-08-19",
          "2024-08-20",
          "2024-08-21",
          "2024-08-22",
          "2024-08-23",
          "2024-08-26",
          "2024-08-27",
          "2024-08-28",
          "2024-08-29",
          "2024-08-30"
         ],
         "y": {
          "bdata": "nwBzAH4AlwCOAJAAegCjAJAAhQBQAJEAhAClAJwApgB6AG8AfQCRAJcA",
          "dtype": "i2"
         }
        }
       ],
       "layout": {
        "height": 500,
        "hovermode": "closest",
        "template": {
         "data": {
          "bar": [
           {
            "error_x": {
             "color": "#2a3f5f"
            },
            "error_y": {
             "color": "#2a3f5f"
            },
            "marker": {
             "line": {
              "color": "#E5ECF6",
              "width": 0.5
             },
             "pattern": {
              "fillmode": "overlay",
              "size": 10,
              "solidity": 0.2
             }
            },
            "type": "bar"
           }
          ],
          "barpolar": [
           {
            "marker": {
             "line": {
              "color": "#E5ECF6",
              "width": 0.5
             },
             "pattern": {
              "fillmode": "overlay",
              "size": 10,
              "solidity": 0.2
             }
            },
            "type": "barpolar"
           }
          ],
          "carpet": [
           {
            "aaxis": {
             "endlinecolor": "#2a3f5f",
             "gridcolor": "white",
             "linecolor": "white",
             "minorgridcolor": "white",
             "startlinecolor": "#2a3f5f"
            },
            "baxis": {
             "endlinecolor": "#2a3f5f",
             "gridcolor": "white",
             "linecolor": "white",
             "minorgridcolor": "white",
             "startlinecolor": "#2a3f5f"
            },
            "type": "carpet"
           }
          ],
          "choropleth": [
           {
            "colorbar": {
             "outlinewidth": 0,
             "ticks": ""
            },
            "type": "choropleth"
           }
          ],
          "contour": [
           {
            "colorbar": {
             "outlinewidth": 0,
             "ticks": ""
            },
            "colorscale": [
             [
              0,
              "#0d0887"
             ],
             [
              0.1111111111111111,
              "#46039f"
             ],
             [
              0.2222222222222222,
              "#7201a8"
             ],
             [
              0.3333333333333333,
              "#9c179e"
             ],
             [
              0.4444444444444444,
              "#bd3786"
             ],
             [
              0.5555555555555556,
              "#d8576b"
             ],
             [
              0.6666666666666666,
              "#ed7953"
             ],
             [
              0.7777777777777778,
              "#fb9f3a"
             ],
             [
              0.8888888888888888,
              "#fdca26"
             ],
             [
              1,
              "#f0f921"
             ]
            ],
            "type": "contour"
           }
          ],
          "contourcarpet": [
           {
            "colorbar": {
             "outlinewidth": 0,
             "ticks": ""
            },
            "type": "contourcarpet"
           }
          ],
          "heatmap": [
           {
            "colorbar": {
             "outlinewidth": 0,
             "ticks": ""
            },
            "colorscale": [
             [
              0,
              "#0d0887"
             ],
             [
              0.1111111111111111,
              "#46039f"
             ],
             [
              0.2222222222222222,
              "#7201a8"
             ],
             [
              0.3333333333333333,
              "#9c179e"
             ],
             [
              0.4444444444444444,
              "#bd3786"
             ],
             [
              0.5555555555555556,
              "#d8576b"
             ],
             [
              0.6666666666666666,
              "#ed7953"
             ],
             [
              0.7777777777777778,
              "#fb9f3a"
             ],
             [
              0.8888888888888888,
              "#fdca26"
             ],
             [
              1,
              "#f0f921"
             ]
            ],
            "type": "heatmap"
           }
          ],
          "histogram": [
           {
            "marker": {
             "pattern": {
              "fillmode": "overlay",
              "size": 10,
              "solidity": 0.2
             }
            },
            "type": "histogram"
           }
          ],
          "histogram2d": [
           {
            "colorbar": {
             "outlinewidth": 0,
             "ticks": ""
            },
            "colorscale": [
             [
              0,
              "#0d0887"
             ],
             [
              0.1111111111111111,
              "#46039f"
             ],
             [
              0.2222222222222222,
              "#7201a8"
             ],
             [
              0.3333333333333333,
              "#9c179e"
             ],
             [
              0.4444444444444444,
              "#bd3786"
             ],
             [
              0.5555555555555556,
              "#d8576b"
             ],
             [
              0.6666666666666666,
              "#ed7953"
             ],
             [
              0.7777777777777778,
              "#fb9f3a"
             ],
             [
              0.8888888888888888,
              "#fdca26"
             ],
             [
              1,
              "#f0f921"
             ]
            ],
            "type": "histogram2d"
           }
          ],
          "histogram2dcontour": [
           {
            "colorbar": {
             "outlinewidth": 0,
             "ticks": ""
            },
            "colorscale": [
             [
              0,
              "#0d0887"
             ],
             [
              0.1111111111111111,
              "#46039f"
             ],
             [
              0.2222222222222222,
              "#7201a8"
             ],
             [
              0.3333333333333333,
              "#9c179e"
             ],
             [
              0.4444444444444444,
              "#bd3786"
             ],
             [
              0.5555555555555556,
              "#d8576b"
             ],
             [
              0.6666666666666666,
              "#ed7953"
             ],
             [
              0.7777777777777778,
              "#fb9f3a"
             ],
             [
              0.8888888888888888,
              "#fdca26"
             ],
             [
              1,
              "#f0f921"
             ]
            ],
            "type": "histogram2dcontour"
           }
          ],
          "mesh3d": [
           {
            "colorbar": {
             "outlinewidth": 0,
             "ticks": ""
            },
            "type": "mesh3d"
           }
          ],
          "parcoords": [
           {
            "line": {
             "colorbar": {
              "outlinewidth": 0,
              "ticks": ""
             }
            },
            "type": "parcoords"
           }
          ],
          "pie": [
           {
            "automargin": true,
            "type": "pie"
           }
          ],
          "scatter": [
           {
            "fillpattern": {
             "fillmode": "overlay",
             "size": 10,
             "solidity": 0.2
            },
            "type": "scatter"
           }
          ],
          "scatter3d": [
           {
            "line": {
             "colorbar": {
              "outlinewidth": 0,
              "ticks": ""
             }
            },
            "marker": {
             "colorbar": {
              "outlinewidth": 0,
              "ticks": ""
             }
            },
            "type": "scatter3d"
           }
          ],
          "scattercarpet": [
           {
            "marker": {
             "colorbar": {
              "outlinewidth": 0,
              "ticks": ""
             }
            },
            "type": "scattercarpet"
           }
          ],
          "scattergeo": [
           {
            "marker": {
             "colorbar": {
              "outlinewidth": 0,
              "ticks": ""
             }
            },
            "type": "scattergeo"
           }
          ],
          "scattergl": [
           {
            "marker": {
             "colorbar": {
              "outlinewidth": 0,
              "ticks": ""
             }
            },
            "type": "scattergl"
           }
          ],
          "scattermap": [
           {
            "marker": {
             "colorbar": {
              "outlinewidth": 0,
              "ticks": ""
             }
            },
            "type": "scattermap"
           }
          ],
          "scattermapbox": [
           {
            "marker": {
             "colorbar": {
              "outlinewidth": 0,
              "ticks": ""
             }
            },
            "type": "scattermapbox"
           }
          ],
          "scatterpolar": [
           {
            "marker": {
             "colorbar": {
              "outlinewidth": 0,
              "ticks": ""
             }
            },
            "type": "scatterpolar"
           }
          ],
          "scatterpolargl": [
           {
            "marker": {
             "colorbar": {
              "outlinewidth": 0,
              "ticks": ""
             }
            },
            "type": "scatterpolargl"
           }
          ],
          "scatterternary": [
           {
            "marker": {
             "colorbar": {
              "outlinewidth": 0,
              "ticks": ""
             }
            },
            "type": "scatterternary"
           }
          ],
          "surface": [
           {
            "colorbar": {
             "outlinewidth": 0,
             "ticks": ""
            },
            "colorscale": [
             [
              0,
              "#0d0887"
             ],
             [
              0.1111111111111111,
              "#46039f"
             ],
             [
              0.2222222222222222,
              "#7201a8"
             ],
             [
              0.3333333333333333,
              "#9c179e"
             ],
             [
              0.4444444444444444,
              "#bd3786"
             ],
             [
              0.5555555555555556,
              "#d8576b"
             ],
             [
              0.6666666666666666,
              "#ed7953"
             ],
             [
              0.7777777777777778,
              "#fb9f3a"
             ],
             [
              0.8888888888888888,
              "#fdca26"
             ],
             [
              1,
              "#f0f921"
             ]
            ],
            "type": "surface"
           }
          ],
          "table": [
           {
            "cells": {
             "fill": {
              "color": "#EBF0F8"
             },
             "line": {
              "color": "white"
             }
            },
            "header": {
             "fill": {
              "color": "#C8D4E3"
             },
             "line": {
              "color": "white"
             }
            },
            "type": "table"
           }
          ]
         },
         "layout": {
          "annotationdefaults": {
           "arrowcolor": "#2a3f5f",
           "arrowhead": 0,
           "arrowwidth": 1
          },
          "autotypenumbers": "strict",
          "coloraxis": {
           "colorbar": {
            "outlinewidth": 0,
            "ticks": ""
           }
          },
          "colorscale": {
           "diverging": [
            [
             0,
             "#8e0152"
            ],
            [
             0.1,
             "#c51b7d"
            ],
            [
             0.2,
             "#de77ae"
            ],
            [
             0.3,
             "#f1b6da"
            ],
            [
             0.4,
             "#fde0ef"
            ],
            [
             0.5,
             "#f7f7f7"
            ],
            [
             0.6,
             "#e6f5d0"
            ],
            [
             0.7,
             "#b8e186"
            ],
            [
             0.8,
             "#7fbc41"
            ],
            [
             0.9,
             "#4d9221"
            ],
            [
             1,
             "#276419"
            ]
           ],
           "sequential": [
            [
             0,
             "#0d0887"
            ],
            [
             0.1111111111111111,
             "#46039f"
            ],
            [
             0.2222222222222222,
             "#7201a8"
            ],
            [
             0.3333333333333333,
             "#9c179e"
            ],
            [
             0.4444444444444444,
             "#bd3786"
            ],
            [
             0.5555555555555556,
             "#d8576b"
            ],
            [
             0.6666666666666666,
             "#ed7953"
            ],
            [
             0.7777777777777778,
             "#fb9f3a"
            ],
            [
             0.8888888888888888,
             "#fdca26"
            ],
            [
             1,
             "#f0f921"
            ]
           ],
           "sequentialminus": [
            [
             0,
             "#0d0887"
            ],
            [
             0.1111111111111111,
             "#46039f"
            ],
            [
             0.2222222222222222,
             "#7201a8"
            ],
            [
             0.3333333333333333,
             "#9c179e"
            ],
            [
             0.4444444444444444,
             "#bd3786"
            ],
            [
             0.5555555555555556,
             "#d8576b"
            ],
            [
             0.6666666666666666,
             "#ed7953"
            ],
            [
             0.7777777777777778,
             "#fb9f3a"
            ],
            [
             0.8888888888888888,
             "#fdca26"
            ],
            [
             1,
             "#f0f921"
            ]
           ]
          },
          "colorway": [
           "#636efa",
           "#EF553B",
           "#00cc96",
           "#ab63fa",
           "#FFA15A",
           "#19d3f3",
           "#FF6692",
           "#B6E880",
           "#FF97FF",
           "#FECB52"
          ],
          "font": {
           "color": "#2a3f5f"
          },
          "geo": {
           "bgcolor": "white",
           "lakecolor": "white",
           "landcolor": "#E5ECF6",
           "showlakes": true,
           "showland": true,
           "subunitcolor": "white"
          },
          "hoverlabel": {
           "align": "left"
          },
          "hovermode": "closest",
          "mapbox": {
           "style": "light"
          },
          "paper_bgcolor": "white",
          "plot_bgcolor": "#E5ECF6",
          "polar": {
           "angularaxis": {
            "gridcolor": "white",
            "linecolor": "white",
            "ticks": ""
           },
           "bgcolor": "#E5ECF6",
           "radialaxis": {
            "gridcolor": "white",
            "linecolor": "white",
            "ticks": ""
           }
          },
          "scene": {
           "xaxis": {
            "backgroundcolor": "#E5ECF6",
            "gridcolor": "white",
            "gridwidth": 2,
            "linecolor": "white",
            "showbackground": true,
            "ticks": "",
            "zerolinecolor": "white"
           },
           "yaxis": {
            "backgroundcolor": "#E5ECF6",
            "gridcolor": "white",
            "gridwidth": 2,
            "linecolor": "white",
            "showbackground": true,
            "ticks": "",
            "zerolinecolor": "white"
           },
           "zaxis": {
            "backgroundcolor": "#E5ECF6",
            "gridcolor": "white",
            "gridwidth": 2,
            "linecolor": "white",
            "showbackground": true,
            "ticks": "",
            "zerolinecolor": "white"
           }
          },
          "shapedefaults": {
           "line": {
            "color": "#2a3f5f"
           }
          },
          "ternary": {
           "aaxis": {
            "gridcolor": "white",
            "linecolor": "white",
            "ticks": ""
           },
           "baxis": {
            "gridcolor": "white",
            "linecolor": "white",
            "ticks": ""
           },
           "bgcolor": "#E5ECF6",
           "caxis": {
            "gridcolor": "white",
            "linecolor": "white",
            "ticks": ""
           }
          },
          "title": {
           "x": 0.05
          },
          "xaxis": {
           "automargin": true,
           "gridcolor": "white",
           "linecolor": "white",
           "ticks": "",
           "title": {
            "standoff": 15
           },
           "zerolinecolor": "white",
           "zerolinewidth": 2
          },
          "yaxis": {
           "automargin": true,
           "gridcolor": "white",
           "linecolor": "white",
           "ticks": "",
           "title": {
            "standoff": 15
           },
           "zerolinecolor": "white",
           "zerolinewidth": 2
          }
         }
        },
        "title": {
         "text": "2024-08 일자별 검사 건수 (상위 5 기관)"
        },
        "width": 1000,
        "xaxis": {
         "tickangle": 45,
         "title": {
          "text": "일자"
         },
         "type": "category"
        },
        "yaxis": {
         "title": {
          "text": "검사 수"
         }
        }
       }
      }
     },
     "metadata": {},
     "output_type": "display_data"
    }
   ],
   "source": [
    "# 사용 예시 2\n",
    "plot_daily_by_institution(df, '2024-08', top_n=5)"
   ]
  },
  {
   "cell_type": "markdown",
   "id": "0c3bcc39-051b-483a-99d1-68a49f286953",
   "metadata": {
    "id": "oBDD1h5fHSa2"
   },
   "source": [
    "## 4. (기술통계) 각 column의 기술통계 (평균값, 최대값, 최솟값, 최빈값, 분위수 등)"
   ]
  },
  {
   "cell_type": "code",
   "execution_count": 32,
   "id": "9d1d6d27-66d0-450b-9f2d-954028534f27",
   "metadata": {
    "colab": {
     "base_uri": "https://localhost:8080/"
    },
    "id": "aWeCjFZ23Ha-",
    "outputId": "6cd41cab-3460-42c9-9045-4ddf8dc01d96"
   },
   "outputs": [
    {
     "data": {
      "text/html": [
       "<div>\n",
       "<style scoped>\n",
       "    .dataframe tbody tr th:only-of-type {\n",
       "        vertical-align: middle;\n",
       "    }\n",
       "\n",
       "    .dataframe tbody tr th {\n",
       "        vertical-align: top;\n",
       "    }\n",
       "\n",
       "    .dataframe thead th {\n",
       "        text-align: right;\n",
       "    }\n",
       "</style>\n",
       "<table border=\"1\" class=\"dataframe\">\n",
       "  <thead>\n",
       "    <tr style=\"text-align: right;\">\n",
       "      <th></th>\n",
       "      <th>Feature</th>\n",
       "      <th>Count</th>\n",
       "      <th>Mean</th>\n",
       "      <th>Std</th>\n",
       "      <th>Min</th>\n",
       "      <th>25%</th>\n",
       "      <th>Median (50%)</th>\n",
       "      <th>75%</th>\n",
       "      <th>Max</th>\n",
       "      <th>Mode</th>\n",
       "      <th>Mode_all</th>\n",
       "    </tr>\n",
       "  </thead>\n",
       "  <tbody>\n",
       "    <tr>\n",
       "      <th>0</th>\n",
       "      <td>검사결과이력조회코드</td>\n",
       "      <td>634630.0</td>\n",
       "      <td>4.213546e+07</td>\n",
       "      <td>1.873299e+07</td>\n",
       "      <td>4300001.0</td>\n",
       "      <td>30501554.0</td>\n",
       "      <td>44001818.5</td>\n",
       "      <td>56006944.75</td>\n",
       "      <td>79900109.0</td>\n",
       "      <td>13408948</td>\n",
       "      <td>[13408948, 13409063, 15010874, 15712290, 15712...</td>\n",
       "    </tr>\n",
       "    <tr>\n",
       "      <th>1</th>\n",
       "      <td>검사차수</td>\n",
       "      <td>634630.0</td>\n",
       "      <td>1.282875e+00</td>\n",
       "      <td>4.503966e-01</td>\n",
       "      <td>1.0</td>\n",
       "      <td>1.0</td>\n",
       "      <td>1.0</td>\n",
       "      <td>2.00</td>\n",
       "      <td>2.0</td>\n",
       "      <td>1</td>\n",
       "      <td>[1]</td>\n",
       "    </tr>\n",
       "  </tbody>\n",
       "</table>\n",
       "</div>"
      ],
      "text/plain": [
       "      Feature     Count          Mean           Std        Min         25%  \\\n",
       "0  검사결과이력조회코드  634630.0  4.213546e+07  1.873299e+07  4300001.0  30501554.0   \n",
       "1        검사차수  634630.0  1.282875e+00  4.503966e-01        1.0         1.0   \n",
       "\n",
       "   Median (50%)          75%         Max      Mode  \\\n",
       "0    44001818.5  56006944.75  79900109.0  13408948   \n",
       "1           1.0         2.00         2.0         1   \n",
       "\n",
       "                                            Mode_all  \n",
       "0  [13408948, 13409063, 15010874, 15712290, 15712...  \n",
       "1                                                [1]  "
      ]
     },
     "execution_count": 32,
     "metadata": {},
     "output_type": "execute_result"
    }
   ],
   "source": [
    "# 수치형 변수만 선택\n",
    "numeric_cols = df.select_dtypes(include=['float64', 'int64']).columns\n",
    "\n",
    "# 통계 요약 저장용 리스트\n",
    "stat_list = []\n",
    "\n",
    "for col in numeric_cols:\n",
    "    desc = df[col].describe()\n",
    "    mode = df[col].mode(dropna=False).values[0]  # 최빈값 (여러 개 중 첫 번째 선택)\n",
    "    mode_all = df[col].mode(dropna=False).tolist()  # 최빈값 리스트 형태로 저장\n",
    "\n",
    "    stat_list.append({\n",
    "        'Feature': col,\n",
    "        'Count': desc['count'],\n",
    "        'Mean': desc['mean'],\n",
    "        'Std': desc['std'],\n",
    "        'Min': desc['min'],\n",
    "        '25%': desc['25%'],\n",
    "        'Median (50%)': desc['50%'],\n",
    "        '75%': desc['75%'],\n",
    "        'Max': desc['max'],\n",
    "        'Mode': mode,\n",
    "        'Mode_all': mode_all\n",
    "    })\n",
    "\n",
    "# DataFrame으로 정리\n",
    "stats_df = pd.DataFrame(stat_list)\n",
    "stats_df"
   ]
  },
  {
   "cell_type": "code",
   "execution_count": 33,
   "id": "10bfac67-4f5d-4e25-97ca-b2ed3dbaf383",
   "metadata": {},
   "outputs": [
    {
     "data": {
      "text/plain": [
       "array([list([13408948, 13409063, 15010874, 15712290, 15712440, 15712441, 42901639, 42901640, 43005715, 70201335, 70201977])],\n",
       "      dtype=object)"
      ]
     },
     "execution_count": 33,
     "metadata": {},
     "output_type": "execute_result"
    }
   ],
   "source": [
    "stats_df.loc[stats_df['Feature'] == '검사결과이력조회코드', 'Mode_all'].values"
   ]
  },
  {
   "cell_type": "code",
   "execution_count": 34,
   "id": "1b221ec0-b7b6-45da-94a2-a887a7131043",
   "metadata": {},
   "outputs": [
    {
     "data": {
      "text/plain": [
       "[13408948,\n",
       " 13409063,\n",
       " 15010874,\n",
       " 15712290,\n",
       " 15712440,\n",
       " 15712441,\n",
       " 42901639,\n",
       " 42901640,\n",
       " 43005715,\n",
       " 70201335,\n",
       " 70201977]"
      ]
     },
     "execution_count": 34,
     "metadata": {},
     "output_type": "execute_result"
    }
   ],
   "source": [
    "stats_df.loc[stats_df['Feature'] == '검사결과이력조회코드', 'Mode_all'].values[0]"
   ]
  },
  {
   "cell_type": "code",
   "execution_count": 35,
   "id": "1017da48-7a05-467a-a83d-2c10cc2fb549",
   "metadata": {},
   "outputs": [
    {
     "data": {
      "text/plain": [
       "13408948"
      ]
     },
     "execution_count": 35,
     "metadata": {},
     "output_type": "execute_result"
    }
   ],
   "source": [
    "stats_df.loc[stats_df['Feature'] == '검사결과이력조회코드', 'Mode_all'].values[0][0] # 첫번째 원소만"
   ]
  },
  {
   "cell_type": "markdown",
   "id": "98e42778-5e12-485c-985e-d7dbc7c1119a",
   "metadata": {
    "id": "oBDD1h5fHSa2"
   },
   "source": [
    "## 5. (상관관계) 상관관계 매트릭스"
   ]
  },
  {
   "cell_type": "code",
   "execution_count": 36,
   "id": "eb49a93b-377f-4317-9666-0fc02be7e402",
   "metadata": {
    "colab": {
     "base_uri": "https://localhost:8080/",
     "height": 991
    },
    "id": "dPHS82u04qud",
    "outputId": "572fce2a-69b0-474e-ec65-eff644efa171"
   },
   "outputs": [
    {
     "data": {
      "image/png": "[encoded data removed]",
      "text/plain": [
       "<Figure size 1000x800 with 2 Axes>"
      ]
     },
     "metadata": {},
     "output_type": "display_data"
    }
   ],
   "source": [
    "# 수치형 변수 간 상관관계 매트릭스\n",
    "\n",
    "import seaborn as sns\n",
    "import matplotlib.pyplot as plt\n",
    "\n",
    "# 수치형 변수만 선택\n",
    "numeric_df = df.select_dtypes(include=['float64', 'int64'])\n",
    "\n",
    "# 상관계수 계산\n",
    "corr_matrix = numeric_df.corr()\n",
    "\n",
    "# 시각화\n",
    "plt.figure(figsize=(10, 8))\n",
    "sns.heatmap(corr_matrix, annot=True, cmap='coolwarm', fmt=\".2f\", square=True)\n",
    "plt.title(\"Numeric Feature Correlation Matrix\")\n",
    "plt.tight_layout()\n",
    "plt.show()"
   ]
  },
  {
   "cell_type": "markdown",
   "id": "ba4621aa-6a03-4650-8671-4011073a41e8",
   "metadata": {},
   "source": [
    "- 당연히 두 변수는 상관 관계가 없음"
   ]
  },
  {
   "cell_type": "markdown",
   "id": "ed8caf53-f078-4191-81a7-3474d32bd03e",
   "metadata": {
    "id": "oBDD1h5fHSa2"
   },
   "source": [
    "## 6. (시각화) histogram, bar graph, box plot 등"
   ]
  },
  {
   "cell_type": "code",
   "execution_count": 37,
   "id": "fce1baa2-2f32-4156-8c8f-31e6b94200ef",
   "metadata": {
    "colab": {
     "base_uri": "https://localhost:8080/",
     "height": 1000
    },
    "id": "uor9eNqV5hiz",
    "outputId": "4de986e2-c4df-4e94-b9ec-64d758e47a34"
   },
   "outputs": [
    {
     "data": {
      "image/png": "[encoded data removed]",
      "text/plain": [
       "<Figure size 600x400 with 1 Axes>"
      ]
     },
     "metadata": {},
     "output_type": "display_data"
    },
    {
     "data": {
      "image/png": "[encoded data removed]",
      "text/plain": [
       "<Figure size 600x400 with 1 Axes>"
      ]
     },
     "metadata": {},
     "output_type": "display_data"
    }
   ],
   "source": [
    "import matplotlib.pyplot as plt\n",
    "\n",
    "numeric_cols = df.select_dtypes(include=['float64', 'int64']).columns\n",
    "\n",
    "# 전체 수치형 변수에 대해 히스토그램 그리기\n",
    "for col in numeric_cols:\n",
    "    plt.figure(figsize=(6, 4))\n",
    "    plt.hist(df[col].dropna(), bins=30, edgecolor='black')\n",
    "    plt.title(f'Histogram of {col}')\n",
    "    plt.xlabel(col)\n",
    "    plt.ylabel('Frequency')\n",
    "    plt.tight_layout()\n",
    "    plt.show()"
   ]
  },
  {
   "cell_type": "markdown",
   "id": "901baacf-5b45-4fe3-bd7f-93737ff4f9e2",
   "metadata": {},
   "source": [
    "- bins를 증가시키면"
   ]
  },
  {
   "cell_type": "code",
   "execution_count": 38,
   "id": "cdd0ad63-3b54-44e0-b67f-9349241064db",
   "metadata": {
    "colab": {
     "base_uri": "https://localhost:8080/",
     "height": 1000
    },
    "id": "uor9eNqV5hiz",
    "outputId": "4de986e2-c4df-4e94-b9ec-64d758e47a34"
   },
   "outputs": [
    {
     "data": {
      "image/png": "[encoded data removed]",
      "text/plain": [
       "<Figure size 600x400 with 1 Axes>"
      ]
     },
     "metadata": {},
     "output_type": "display_data"
    },
    {
     "data": {
      "image/png": "[encoded data removed]",
      "text/plain": [
       "<Figure size 600x400 with 1 Axes>"
      ]
     },
     "metadata": {},
     "output_type": "display_data"
    }
   ],
   "source": [
    "import matplotlib.pyplot as plt\n",
    "\n",
    "numeric_cols = df.select_dtypes(include=['float64', 'int64']).columns\n",
    "\n",
    "# 전체 수치형 변수에 대해 히스토그램 그리기\n",
    "for col in numeric_cols:\n",
    "    plt.figure(figsize=(6, 4))\n",
    "    plt.hist(df[col].dropna(), bins=60, edgecolor='black')\n",
    "    plt.title(f'Histogram of {col}')\n",
    "    plt.xlabel(col)\n",
    "    plt.ylabel('Frequency')\n",
    "    plt.tight_layout()\n",
    "    plt.show()"
   ]
  },
  {
   "cell_type": "code",
   "execution_count": 39,
   "id": "ccec7a47-53e8-4fb1-adc3-350e3a6b0058",
   "metadata": {
    "colab": {
     "base_uri": "https://localhost:8080/",
     "height": 1000
    },
    "id": "GBmDSaKs7zjG",
    "outputId": "c05bdd47-5a30-4b1b-d4f6-e8400315b95f"
   },
   "outputs": [],
   "source": [
    "# import seaborn as sns\n",
    "# import matplotlib.pyplot as plt\n",
    "\n",
    "# cat_cols = df.select_dtypes(include=['object']).columns\n",
    "\n",
    "# # 전체 범주형 변수에 대해 히스토그램 그리기\n",
    "\n",
    "# for col in cat_cols:\n",
    "#     plt.figure(figsize=(6, 4))\n",
    "#     ax = sns.countplot(data=df, x=col, order=df[col].value_counts().index, color='salmon')\n",
    "\n",
    "#     total = len(df)\n",
    "\n",
    "#     for p in ax.patches:\n",
    "#         count = int(p.get_height())\n",
    "#         percent = 100 * count / total\n",
    "#         label = f'{count} ({percent:.1f}%)'\n",
    "\n",
    "#         # 텍스트 위치: 막대 안쪽 상단 (중앙 정렬)\n",
    "#         ax.annotate(label,\n",
    "#                     (p.get_x() + p.get_width() / 2., p.get_height() * 0.95),\n",
    "#                     ha='center', va='top',\n",
    "#                     fontsize=9, color='white', weight='bold')\n",
    "\n",
    "#     plt.title(f'Bar Graph of {col} (Count + Ratio)')\n",
    "#     plt.xticks(rotation=45)\n",
    "#     plt.tight_layout()\n",
    "#     plt.show()"
   ]
  },
  {
   "cell_type": "markdown",
   "id": "13547821-16aa-4055-a36d-c97bf0eb8f28",
   "metadata": {},
   "source": [
    "- 의미가 없어서 실행 X (날짜 데이터를 제외하고 그려도 알아보기 어려움)"
   ]
  },
  {
   "cell_type": "code",
   "execution_count": 40,
   "id": "795c4502-3a87-4657-a379-f118d16228a2",
   "metadata": {
    "colab": {
     "base_uri": "https://localhost:8080/",
     "height": 1000
    },
    "id": "Cf9ydKnQ6BCX",
    "outputId": "83e961f8-dea6-4630-9707-b62d4eea0a7d"
   },
   "outputs": [
    {
     "data": {
      "image/png": "[encoded data removed]",
      "text/plain": [
       "<Figure size 600x400 with 1 Axes>"
      ]
     },
     "metadata": {},
     "output_type": "display_data"
    },
    {
     "data": {
      "image/png": "[encoded data removed]",
      "text/plain": [
       "<Figure size 600x400 with 1 Axes>"
      ]
     },
     "metadata": {},
     "output_type": "display_data"
    }
   ],
   "source": [
    "import matplotlib.pyplot as plt\n",
    "\n",
    "numeric_cols = df.select_dtypes(include=['float64', 'int64']).columns\n",
    "\n",
    "# 특정 변수에 따른 수치형 변수 분포 비교\n",
    "for col in numeric_cols:\n",
    "    plt.figure(figsize=(6, 4))\n",
    "    sns.boxplot(data=df, x='검사종류', y=col)\n",
    "    plt.title(f'Boxplot of {col} by 검사종류')\n",
    "    plt.tight_layout()\n",
    "    plt.show()"
   ]
  },
  {
   "cell_type": "markdown",
   "id": "7f368a5c-cb94-4af2-be6b-ddb2c09298a0",
   "metadata": {},
   "source": [
    "- '검사종류'가 '설치'이면 대부분 '검사차수'가 1차?\n",
    "- '검사차수'는 값이 1 또는 2 뿐이라 상자그림이 큰 의미를 가지지 않음"
   ]
  },
  {
   "cell_type": "code",
   "execution_count": 41,
   "id": "4e3e1ae3-2e1f-42c1-a58d-73f99152f167",
   "metadata": {},
   "outputs": [],
   "source": [
    "# # 특정 변수 중 특정 값들에 따른 수치형 변수들 분포 비교\n",
    "# import seaborn as sns\n",
    "# import matplotlib.pyplot as plt\n",
    "\n",
    "# # 파라미터 설정\n",
    "# group_col = '검사종류'  # 비교할 범주형 변수\n",
    "# target_values = ['설치']  # 특정 값들\n",
    "# numeric_cols = ['검사차수']  # 수치형 변수 목록\n",
    "\n",
    "# # 필터링된 데이터프레임\n",
    "# filtered_df = df[df[group_col].isin(target_values)]\n",
    "\n",
    "# # 반복해서 boxplot 그리기\n",
    "# for col in numeric_cols:\n",
    "#     plt.figure(figsize=(6, 4))\n",
    "#     sns.boxplot(data=filtered_df, x=group_col, y=col)\n",
    "#     plt.title(f'Boxplot of {col} by {group_col} ({\", \".join(target_values)})')\n",
    "#     plt.tight_layout()\n",
    "#     plt.show()"
   ]
  },
  {
   "cell_type": "code",
   "execution_count": 42,
   "id": "6db0d9e3-10dd-4cb9-a4a0-24041aa7aff3",
   "metadata": {},
   "outputs": [
    {
     "name": "stdout",
     "output_type": "stream",
     "text": [
      "  검사종류  검사차수   Count  비율 (%)\n",
      "0   설치     1   26310   79.28\n",
      "1   설치     2    6875   20.72\n",
      "2   수시     1   11108   62.22\n",
      "3   수시     2    6745   37.78\n",
      "4   정기     1  368629   71.92\n",
      "5   정기     2  143918   28.08\n",
      "6   정밀     1   49062   69.06\n",
      "7   정밀     2   21983   30.94\n"
     ]
    }
   ],
   "source": [
    "# 카테고리 + 수치형 변수 조합 분포표\n",
    "# 1. 개수 집계\n",
    "count_df = df.groupby(['검사종류', '검사차수']).size().reset_index(name='Count')\n",
    "\n",
    "# 2. 검사종류별 총합 기준 비율 계산\n",
    "count_df['비율 (%)'] = count_df.groupby('검사종류')['Count'].transform(lambda x: (x / x.sum()) * 100).round(2)\n",
    "\n",
    "# 3. 확인\n",
    "print(count_df)"
   ]
  },
  {
   "cell_type": "markdown",
   "id": "41d588d7-d9a6-4e4e-b40e-793494660869",
   "metadata": {},
   "source": [
    "- 모든 검사종류에서 1차 검사가 약 60~80% 정도를 차지함\n",
    "    - 대부분의 검사는 1차에서 마무리된다는 시사점\n",
    "- 정기 검사는 Count가 월등히 높으므로 주된 검사 유형이라는 정량적 증거\n",
    "- 수시 검사에서 2차 비율 37.78%는 상대적으로 다른 유형보다 2차 재검이 많은 것처럼 보임\n",
    "    - 수시검사는 1차에서 문제가 생겨 재검 비율이 높은 유형일 수 있음\n",
    "- 나중에 이 데이터를 이전의 승강기 검사 결과들과 합치고 사고 데이터와 같이 분석하면 좋을 것 같음"
   ]
  },
  {
   "cell_type": "markdown",
   "id": "76760d5b-ed3f-4259-baf1-bde08052f945",
   "metadata": {},
   "source": [
    "## 7. (교차표) 범주형 변수 간의 관계"
   ]
  },
  {
   "cell_type": "code",
   "execution_count": 43,
   "id": "61e4201a-ba77-4d1e-89b0-c596f8fdd41e",
   "metadata": {},
   "outputs": [
    {
     "name": "stdout",
     "output_type": "stream",
     "text": [
      "=== 검사종류 vs 검사결과 ===\n"
     ]
    },
    {
     "data": {
      "text/html": [
       "<div>\n",
       "<style scoped>\n",
       "    .dataframe tbody tr th:only-of-type {\n",
       "        vertical-align: middle;\n",
       "    }\n",
       "\n",
       "    .dataframe tbody tr th {\n",
       "        vertical-align: top;\n",
       "    }\n",
       "\n",
       "    .dataframe thead th {\n",
       "        text-align: right;\n",
       "    }\n",
       "</style>\n",
       "<table border=\"1\" class=\"dataframe\">\n",
       "  <thead>\n",
       "    <tr style=\"text-align: right;\">\n",
       "      <th>검사결과</th>\n",
       "      <th>보완(서류검사)</th>\n",
       "      <th>보완(현장검사)</th>\n",
       "      <th>보완후불합격</th>\n",
       "      <th>보완후합격</th>\n",
       "      <th>불합격</th>\n",
       "      <th>조건부합격(12개월이하/서류검사)</th>\n",
       "      <th>조건부합격(12개월이하/현장검사)</th>\n",
       "      <th>조건부합격(1개월/서류검사)</th>\n",
       "      <th>조건부합격(1개월/현장검사)</th>\n",
       "      <th>조건부합격(2개월/서류검사)</th>\n",
       "      <th>조건부합격(2개월/현장검사)</th>\n",
       "      <th>조건부합격(차기안전검사)</th>\n",
       "      <th>조건부합격(현장시정조치)</th>\n",
       "      <th>조건후불합격</th>\n",
       "      <th>조건후합격</th>\n",
       "      <th>차기안전검사</th>\n",
       "      <th>합격</th>\n",
       "    </tr>\n",
       "    <tr>\n",
       "      <th>검사종류</th>\n",
       "      <th></th>\n",
       "      <th></th>\n",
       "      <th></th>\n",
       "      <th></th>\n",
       "      <th></th>\n",
       "      <th></th>\n",
       "      <th></th>\n",
       "      <th></th>\n",
       "      <th></th>\n",
       "      <th></th>\n",
       "      <th></th>\n",
       "      <th></th>\n",
       "      <th></th>\n",
       "      <th></th>\n",
       "      <th></th>\n",
       "      <th></th>\n",
       "      <th></th>\n",
       "    </tr>\n",
       "  </thead>\n",
       "  <tbody>\n",
       "    <tr>\n",
       "      <th>설치</th>\n",
       "      <td>0.002682</td>\n",
       "      <td>0.203586</td>\n",
       "      <td>0.003737</td>\n",
       "      <td>0.203435</td>\n",
       "      <td>0.048486</td>\n",
       "      <td>NaN</td>\n",
       "      <td>NaN</td>\n",
       "      <td>NaN</td>\n",
       "      <td>NaN</td>\n",
       "      <td>NaN</td>\n",
       "      <td>NaN</td>\n",
       "      <td>NaN</td>\n",
       "      <td>NaN</td>\n",
       "      <td>NaN</td>\n",
       "      <td>NaN</td>\n",
       "      <td>NaN</td>\n",
       "      <td>0.538074</td>\n",
       "    </tr>\n",
       "    <tr>\n",
       "      <th>수시</th>\n",
       "      <td>NaN</td>\n",
       "      <td>NaN</td>\n",
       "      <td>NaN</td>\n",
       "      <td>NaN</td>\n",
       "      <td>0.021845</td>\n",
       "      <td>0.000056</td>\n",
       "      <td>0.000448</td>\n",
       "      <td>0.003529</td>\n",
       "      <td>0.119980</td>\n",
       "      <td>0.004033</td>\n",
       "      <td>0.247801</td>\n",
       "      <td>NaN</td>\n",
       "      <td>0.012267</td>\n",
       "      <td>0.004425</td>\n",
       "      <td>0.373159</td>\n",
       "      <td>0.000224</td>\n",
       "      <td>0.212233</td>\n",
       "    </tr>\n",
       "    <tr>\n",
       "      <th>정기</th>\n",
       "      <td>NaN</td>\n",
       "      <td>NaN</td>\n",
       "      <td>NaN</td>\n",
       "      <td>NaN</td>\n",
       "      <td>0.002950</td>\n",
       "      <td>0.000634</td>\n",
       "      <td>0.001155</td>\n",
       "      <td>0.171274</td>\n",
       "      <td>0.000611</td>\n",
       "      <td>0.113217</td>\n",
       "      <td>0.000496</td>\n",
       "      <td>0.000708</td>\n",
       "      <td>0.040597</td>\n",
       "      <td>0.000993</td>\n",
       "      <td>0.278800</td>\n",
       "      <td>0.000997</td>\n",
       "      <td>0.387568</td>\n",
       "    </tr>\n",
       "    <tr>\n",
       "      <th>정밀</th>\n",
       "      <td>NaN</td>\n",
       "      <td>NaN</td>\n",
       "      <td>NaN</td>\n",
       "      <td>NaN</td>\n",
       "      <td>0.009290</td>\n",
       "      <td>0.000521</td>\n",
       "      <td>0.000845</td>\n",
       "      <td>0.097150</td>\n",
       "      <td>0.001548</td>\n",
       "      <td>0.208727</td>\n",
       "      <td>0.025181</td>\n",
       "      <td>0.003364</td>\n",
       "      <td>0.049870</td>\n",
       "      <td>0.021198</td>\n",
       "      <td>0.251320</td>\n",
       "      <td>0.036906</td>\n",
       "      <td>0.294081</td>\n",
       "    </tr>\n",
       "  </tbody>\n",
       "</table>\n",
       "</div>"
      ],
      "text/plain": [
       "검사결과  보완(서류검사)  보완(현장검사)    보완후불합격     보완후합격       불합격  조건부합격(12개월이하/서류검사)  \\\n",
       "검사종류                                                                         \n",
       "설치    0.002682  0.203586  0.003737  0.203435  0.048486                 NaN   \n",
       "수시         NaN       NaN       NaN       NaN  0.021845            0.000056   \n",
       "정기         NaN       NaN       NaN       NaN  0.002950            0.000634   \n",
       "정밀         NaN       NaN       NaN       NaN  0.009290            0.000521   \n",
       "\n",
       "검사결과  조건부합격(12개월이하/현장검사)  조건부합격(1개월/서류검사)  조건부합격(1개월/현장검사)  조건부합격(2개월/서류검사)  \\\n",
       "검사종류                                                                          \n",
       "설치                   NaN              NaN              NaN              NaN   \n",
       "수시              0.000448         0.003529         0.119980         0.004033   \n",
       "정기              0.001155         0.171274         0.000611         0.113217   \n",
       "정밀              0.000845         0.097150         0.001548         0.208727   \n",
       "\n",
       "검사결과  조건부합격(2개월/현장검사)  조건부합격(차기안전검사)  조건부합격(현장시정조치)    조건후불합격     조건후합격  \\\n",
       "검사종류                                                                      \n",
       "설치                NaN            NaN            NaN       NaN       NaN   \n",
       "수시           0.247801            NaN       0.012267  0.004425  0.373159   \n",
       "정기           0.000496       0.000708       0.040597  0.000993  0.278800   \n",
       "정밀           0.025181       0.003364       0.049870  0.021198  0.251320   \n",
       "\n",
       "검사결과    차기안전검사        합격  \n",
       "검사종류                      \n",
       "설치         NaN  0.538074  \n",
       "수시    0.000224  0.212233  \n",
       "정기    0.000997  0.387568  \n",
       "정밀    0.036906  0.294081  "
      ]
     },
     "execution_count": 43,
     "metadata": {},
     "output_type": "execute_result"
    }
   ],
   "source": [
    "# '검사종류'에 따른 '검사결과' 비율\n",
    "print(\"=== 검사종류 vs 검사결과 ===\")\n",
    "ratio = df.groupby('검사종류')['검사결과'].value_counts(normalize=True).unstack()\n",
    "ratio.head()"
   ]
  },
  {
   "cell_type": "markdown",
   "id": "4e655bcc-8c55-4a8f-8264-27468a0bc4b2",
   "metadata": {},
   "source": [
    "- 각 **검사종류**별(기준축) 검사결과 비율\n",
    "- 행 기준 해석: 이 검사종류에서 어떤 결과가 나왔는가?\n",
    "- 사용 목적: 검사종류별 합격률/불합격률 등"
   ]
  },
  {
   "cell_type": "code",
   "execution_count": 44,
   "id": "003e5ae3-98af-4d8d-8c36-20aa94722344",
   "metadata": {},
   "outputs": [
    {
     "data": {
      "text/html": [
       "<div>\n",
       "<style scoped>\n",
       "    .dataframe tbody tr th:only-of-type {\n",
       "        vertical-align: middle;\n",
       "    }\n",
       "\n",
       "    .dataframe tbody tr th {\n",
       "        vertical-align: top;\n",
       "    }\n",
       "\n",
       "    .dataframe thead th {\n",
       "        text-align: right;\n",
       "    }\n",
       "</style>\n",
       "<table border=\"1\" class=\"dataframe\">\n",
       "  <thead>\n",
       "    <tr style=\"text-align: right;\">\n",
       "      <th>검사종류</th>\n",
       "      <th>설치</th>\n",
       "      <th>수시</th>\n",
       "      <th>정기</th>\n",
       "      <th>정밀</th>\n",
       "    </tr>\n",
       "    <tr>\n",
       "      <th>검사결과</th>\n",
       "      <th></th>\n",
       "      <th></th>\n",
       "      <th></th>\n",
       "      <th></th>\n",
       "    </tr>\n",
       "  </thead>\n",
       "  <tbody>\n",
       "    <tr>\n",
       "      <th>보완(서류검사)</th>\n",
       "      <td>1.000000</td>\n",
       "      <td>0.000000</td>\n",
       "      <td>0.000000</td>\n",
       "      <td>0.000000</td>\n",
       "    </tr>\n",
       "    <tr>\n",
       "      <th>보완(현장검사)</th>\n",
       "      <td>1.000000</td>\n",
       "      <td>0.000000</td>\n",
       "      <td>0.000000</td>\n",
       "      <td>0.000000</td>\n",
       "    </tr>\n",
       "    <tr>\n",
       "      <th>보완후불합격</th>\n",
       "      <td>1.000000</td>\n",
       "      <td>0.000000</td>\n",
       "      <td>0.000000</td>\n",
       "      <td>0.000000</td>\n",
       "    </tr>\n",
       "    <tr>\n",
       "      <th>보완후합격</th>\n",
       "      <td>1.000000</td>\n",
       "      <td>0.000000</td>\n",
       "      <td>0.000000</td>\n",
       "      <td>0.000000</td>\n",
       "    </tr>\n",
       "    <tr>\n",
       "      <th>불합격</th>\n",
       "      <td>0.385759</td>\n",
       "      <td>0.093503</td>\n",
       "      <td>0.362503</td>\n",
       "      <td>0.158235</td>\n",
       "    </tr>\n",
       "    <tr>\n",
       "      <th>조건부합격(12개월이하/서류검사)</th>\n",
       "      <td>0.000000</td>\n",
       "      <td>0.002755</td>\n",
       "      <td>0.895317</td>\n",
       "      <td>0.101928</td>\n",
       "    </tr>\n",
       "    <tr>\n",
       "      <th>조건부합격(12개월이하/현장검사)</th>\n",
       "      <td>0.000000</td>\n",
       "      <td>0.012121</td>\n",
       "      <td>0.896970</td>\n",
       "      <td>0.090909</td>\n",
       "    </tr>\n",
       "    <tr>\n",
       "      <th>조건부합격(1개월/서류검사)</th>\n",
       "      <td>0.000000</td>\n",
       "      <td>0.000665</td>\n",
       "      <td>0.926492</td>\n",
       "      <td>0.072844</td>\n",
       "    </tr>\n",
       "    <tr>\n",
       "      <th>조건부합격(1개월/현장검사)</th>\n",
       "      <td>0.000000</td>\n",
       "      <td>0.835088</td>\n",
       "      <td>0.122027</td>\n",
       "      <td>0.042885</td>\n",
       "    </tr>\n",
       "    <tr>\n",
       "      <th>조건부합격(2개월/서류검사)</th>\n",
       "      <td>0.000000</td>\n",
       "      <td>0.000987</td>\n",
       "      <td>0.795681</td>\n",
       "      <td>0.203332</td>\n",
       "    </tr>\n",
       "    <tr>\n",
       "      <th>조건부합격(2개월/현장검사)</th>\n",
       "      <td>0.000000</td>\n",
       "      <td>0.684088</td>\n",
       "      <td>0.039276</td>\n",
       "      <td>0.276635</td>\n",
       "    </tr>\n",
       "    <tr>\n",
       "      <th>조건부합격(차기안전검사)</th>\n",
       "      <td>0.000000</td>\n",
       "      <td>0.000000</td>\n",
       "      <td>0.602990</td>\n",
       "      <td>0.397010</td>\n",
       "    </tr>\n",
       "    <tr>\n",
       "      <th>조건부합격(현장시정조치)</th>\n",
       "      <td>0.000000</td>\n",
       "      <td>0.008913</td>\n",
       "      <td>0.846886</td>\n",
       "      <td>0.144200</td>\n",
       "    </tr>\n",
       "    <tr>\n",
       "      <th>조건후불합격</th>\n",
       "      <td>0.000000</td>\n",
       "      <td>0.037727</td>\n",
       "      <td>0.243075</td>\n",
       "      <td>0.719198</td>\n",
       "    </tr>\n",
       "    <tr>\n",
       "      <th>조건후합격</th>\n",
       "      <td>0.000000</td>\n",
       "      <td>0.039793</td>\n",
       "      <td>0.853556</td>\n",
       "      <td>0.106651</td>\n",
       "    </tr>\n",
       "    <tr>\n",
       "      <th>차기안전검사</th>\n",
       "      <td>0.000000</td>\n",
       "      <td>0.001275</td>\n",
       "      <td>0.162894</td>\n",
       "      <td>0.835830</td>\n",
       "    </tr>\n",
       "    <tr>\n",
       "      <th>합격</th>\n",
       "      <td>0.074034</td>\n",
       "      <td>0.015710</td>\n",
       "      <td>0.823629</td>\n",
       "      <td>0.086626</td>\n",
       "    </tr>\n",
       "  </tbody>\n",
       "</table>\n",
       "</div>"
      ],
      "text/plain": [
       "검사종류                      설치        수시        정기        정밀\n",
       "검사결과                                                      \n",
       "보완(서류검사)            1.000000  0.000000  0.000000  0.000000\n",
       "보완(현장검사)            1.000000  0.000000  0.000000  0.000000\n",
       "보완후불합격              1.000000  0.000000  0.000000  0.000000\n",
       "보완후합격               1.000000  0.000000  0.000000  0.000000\n",
       "불합격                 0.385759  0.093503  0.362503  0.158235\n",
       "조건부합격(12개월이하/서류검사)  0.000000  0.002755  0.895317  0.101928\n",
       "조건부합격(12개월이하/현장검사)  0.000000  0.012121  0.896970  0.090909\n",
       "조건부합격(1개월/서류검사)     0.000000  0.000665  0.926492  0.072844\n",
       "조건부합격(1개월/현장검사)     0.000000  0.835088  0.122027  0.042885\n",
       "조건부합격(2개월/서류검사)     0.000000  0.000987  0.795681  0.203332\n",
       "조건부합격(2개월/현장검사)     0.000000  0.684088  0.039276  0.276635\n",
       "조건부합격(차기안전검사)       0.000000  0.000000  0.602990  0.397010\n",
       "조건부합격(현장시정조치)       0.000000  0.008913  0.846886  0.144200\n",
       "조건후불합격              0.000000  0.037727  0.243075  0.719198\n",
       "조건후합격               0.000000  0.039793  0.853556  0.106651\n",
       "차기안전검사              0.000000  0.001275  0.162894  0.835830\n",
       "합격                  0.074034  0.015710  0.823629  0.086626"
      ]
     },
     "execution_count": 44,
     "metadata": {},
     "output_type": "execute_result"
    }
   ],
   "source": [
    "pd.crosstab(df['검사결과'], df['검사종류'], normalize='index')"
   ]
  },
  {
   "cell_type": "markdown",
   "id": "d37865f4-c320-4dd3-bbef-4c46f50b0445",
   "metadata": {},
   "source": [
    "- 각 **검사결과**별(기준축) 검사종류 비율\n",
    "- 행 기준 해석: 이 검사결과는 어떤 검사종류에서 나왔는가?\n",
    "- 사용 목적: 특정 결과가 주로 어느 검사에서 발생하는지 등"
   ]
  },
  {
   "cell_type": "markdown",
   "id": "56f98f1e-8ca6-4f31-b87d-b5293e3a6e87",
   "metadata": {},
   "source": [
    "### 함수 1"
   ]
  },
  {
   "cell_type": "code",
   "execution_count": 45,
   "id": "f108dd3e-e770-4ce7-8390-42b4cc35d6ef",
   "metadata": {},
   "outputs": [],
   "source": [
    "def grouped_ratio_table(df, group_col, target_col, normalize=True):\n",
    "    \"\"\"\n",
    "    group_col 기준으로 target_col의 비율(또는 건수)을 cross-tab 형태로 반환\n",
    "\n",
    "    Parameters:\n",
    "    - df: DataFrame\n",
    "    - group_col: 그룹 기준 변수 (ex: '지역')\n",
    "    - target_col: 비율을 계산할 대상 변수 (ex: '승강기종류')\n",
    "    - normalize: True면 비율, False면 건수\n",
    "\n",
    "    Returns:\n",
    "    - DataFrame: 행 = group_col, 열 = target_col\n",
    "    \"\"\"\n",
    "    grouped = (\n",
    "        df.groupby(group_col)[target_col]\n",
    "        .value_counts(normalize=normalize)\n",
    "        .unstack()\n",
    "    )\n",
    "    return grouped"
   ]
  },
  {
   "cell_type": "code",
   "execution_count": 46,
   "id": "c308f91c-3a57-409e-8e01-2a6fa3952932",
   "metadata": {},
   "outputs": [
    {
     "name": "stdout",
     "output_type": "stream",
     "text": [
      "=== 검사당시승강기구분 vs 검사결과 비율 ===\n"
     ]
    },
    {
     "data": {
      "text/html": [
       "<div>\n",
       "<style scoped>\n",
       "    .dataframe tbody tr th:only-of-type {\n",
       "        vertical-align: middle;\n",
       "    }\n",
       "\n",
       "    .dataframe tbody tr th {\n",
       "        vertical-align: top;\n",
       "    }\n",
       "\n",
       "    .dataframe thead th {\n",
       "        text-align: right;\n",
       "    }\n",
       "</style>\n",
       "<table border=\"1\" class=\"dataframe\">\n",
       "  <thead>\n",
       "    <tr style=\"text-align: right;\">\n",
       "      <th>검사결과</th>\n",
       "      <th>보완(서류검사)</th>\n",
       "      <th>보완(현장검사)</th>\n",
       "      <th>보완후불합격</th>\n",
       "      <th>보완후합격</th>\n",
       "      <th>불합격</th>\n",
       "      <th>조건부합격(12개월이하/서류검사)</th>\n",
       "      <th>조건부합격(12개월이하/현장검사)</th>\n",
       "      <th>조건부합격(1개월/서류검사)</th>\n",
       "      <th>조건부합격(1개월/현장검사)</th>\n",
       "      <th>조건부합격(2개월/서류검사)</th>\n",
       "      <th>조건부합격(2개월/현장검사)</th>\n",
       "      <th>조건부합격(차기안전검사)</th>\n",
       "      <th>조건부합격(현장시정조치)</th>\n",
       "      <th>조건후불합격</th>\n",
       "      <th>조건후합격</th>\n",
       "      <th>차기안전검사</th>\n",
       "      <th>합격</th>\n",
       "    </tr>\n",
       "    <tr>\n",
       "      <th>검사당시승강기구분</th>\n",
       "      <th></th>\n",
       "      <th></th>\n",
       "      <th></th>\n",
       "      <th></th>\n",
       "      <th></th>\n",
       "      <th></th>\n",
       "      <th></th>\n",
       "      <th></th>\n",
       "      <th></th>\n",
       "      <th></th>\n",
       "      <th></th>\n",
       "      <th></th>\n",
       "      <th></th>\n",
       "      <th></th>\n",
       "      <th></th>\n",
       "      <th></th>\n",
       "      <th></th>\n",
       "    </tr>\n",
       "  </thead>\n",
       "  <tbody>\n",
       "    <tr>\n",
       "      <th>경사형엘리베이터</th>\n",
       "      <td>NaN</td>\n",
       "      <td>0.083333</td>\n",
       "      <td>NaN</td>\n",
       "      <td>0.083333</td>\n",
       "      <td>0.166667</td>\n",
       "      <td>NaN</td>\n",
       "      <td>NaN</td>\n",
       "      <td>0.083333</td>\n",
       "      <td>NaN</td>\n",
       "      <td>NaN</td>\n",
       "      <td>NaN</td>\n",
       "      <td>NaN</td>\n",
       "      <td>0.166667</td>\n",
       "      <td>0.083333</td>\n",
       "      <td>0.083333</td>\n",
       "      <td>NaN</td>\n",
       "      <td>0.250000</td>\n",
       "    </tr>\n",
       "    <tr>\n",
       "      <th>무빙워크</th>\n",
       "      <td>NaN</td>\n",
       "      <td>0.007334</td>\n",
       "      <td>NaN</td>\n",
       "      <td>0.006810</td>\n",
       "      <td>0.004976</td>\n",
       "      <td>0.018334</td>\n",
       "      <td>0.004191</td>\n",
       "      <td>0.129387</td>\n",
       "      <td>0.010739</td>\n",
       "      <td>0.061289</td>\n",
       "      <td>0.003667</td>\n",
       "      <td>0.002619</td>\n",
       "      <td>0.025668</td>\n",
       "      <td>0.005238</td>\n",
       "      <td>0.194081</td>\n",
       "      <td>0.032478</td>\n",
       "      <td>0.493190</td>\n",
       "    </tr>\n",
       "    <tr>\n",
       "      <th>소형화물용엘리베이터</th>\n",
       "      <td>NaN</td>\n",
       "      <td>0.003342</td>\n",
       "      <td>NaN</td>\n",
       "      <td>0.003008</td>\n",
       "      <td>0.020388</td>\n",
       "      <td>NaN</td>\n",
       "      <td>NaN</td>\n",
       "      <td>0.109960</td>\n",
       "      <td>0.003008</td>\n",
       "      <td>0.007687</td>\n",
       "      <td>0.001337</td>\n",
       "      <td>NaN</td>\n",
       "      <td>0.048463</td>\n",
       "      <td>0.001337</td>\n",
       "      <td>0.122326</td>\n",
       "      <td>NaN</td>\n",
       "      <td>0.679144</td>\n",
       "    </tr>\n",
       "    <tr>\n",
       "      <th>에스컬레이터</th>\n",
       "      <td>0.000182</td>\n",
       "      <td>0.019717</td>\n",
       "      <td>0.000182</td>\n",
       "      <td>0.018123</td>\n",
       "      <td>0.007650</td>\n",
       "      <td>0.001366</td>\n",
       "      <td>0.000683</td>\n",
       "      <td>0.155822</td>\n",
       "      <td>0.007513</td>\n",
       "      <td>0.033742</td>\n",
       "      <td>0.003279</td>\n",
       "      <td>0.001594</td>\n",
       "      <td>0.070124</td>\n",
       "      <td>0.002869</td>\n",
       "      <td>0.198124</td>\n",
       "      <td>0.003370</td>\n",
       "      <td>0.475661</td>\n",
       "    </tr>\n",
       "    <tr>\n",
       "      <th>엘리베이터</th>\n",
       "      <td>0.000134</td>\n",
       "      <td>0.010340</td>\n",
       "      <td>0.000177</td>\n",
       "      <td>0.010405</td>\n",
       "      <td>0.006355</td>\n",
       "      <td>0.000436</td>\n",
       "      <td>0.001043</td>\n",
       "      <td>0.149623</td>\n",
       "      <td>0.003891</td>\n",
       "      <td>0.119187</td>\n",
       "      <td>0.010569</td>\n",
       "      <td>0.000923</td>\n",
       "      <td>0.037640</td>\n",
       "      <td>0.003324</td>\n",
       "      <td>0.267978</td>\n",
       "      <td>0.004872</td>\n",
       "      <td>0.373103</td>\n",
       "    </tr>\n",
       "    <tr>\n",
       "      <th>주택형엘리베이터</th>\n",
       "      <td>0.006061</td>\n",
       "      <td>0.048485</td>\n",
       "      <td>0.003030</td>\n",
       "      <td>0.051515</td>\n",
       "      <td>0.018182</td>\n",
       "      <td>NaN</td>\n",
       "      <td>NaN</td>\n",
       "      <td>0.139394</td>\n",
       "      <td>0.003030</td>\n",
       "      <td>0.009091</td>\n",
       "      <td>0.003030</td>\n",
       "      <td>NaN</td>\n",
       "      <td>0.042424</td>\n",
       "      <td>0.003030</td>\n",
       "      <td>0.163636</td>\n",
       "      <td>NaN</td>\n",
       "      <td>0.509091</td>\n",
       "    </tr>\n",
       "    <tr>\n",
       "      <th>휠체어리프트</th>\n",
       "      <td>0.000887</td>\n",
       "      <td>0.013310</td>\n",
       "      <td>0.005324</td>\n",
       "      <td>0.010204</td>\n",
       "      <td>0.035936</td>\n",
       "      <td>NaN</td>\n",
       "      <td>NaN</td>\n",
       "      <td>0.087400</td>\n",
       "      <td>0.000887</td>\n",
       "      <td>0.012422</td>\n",
       "      <td>NaN</td>\n",
       "      <td>NaN</td>\n",
       "      <td>0.028394</td>\n",
       "      <td>NaN</td>\n",
       "      <td>0.106921</td>\n",
       "      <td>NaN</td>\n",
       "      <td>0.698314</td>\n",
       "    </tr>\n",
       "  </tbody>\n",
       "</table>\n",
       "</div>"
      ],
      "text/plain": [
       "검사결과        보완(서류검사)  보완(현장검사)    보완후불합격     보완후합격       불합격  \\\n",
       "검사당시승강기구분                                                      \n",
       "경사형엘리베이터         NaN  0.083333       NaN  0.083333  0.166667   \n",
       "무빙워크             NaN  0.007334       NaN  0.006810  0.004976   \n",
       "소형화물용엘리베이터       NaN  0.003342       NaN  0.003008  0.020388   \n",
       "에스컬레이터      0.000182  0.019717  0.000182  0.018123  0.007650   \n",
       "엘리베이터       0.000134  0.010340  0.000177  0.010405  0.006355   \n",
       "주택형엘리베이터    0.006061  0.048485  0.003030  0.051515  0.018182   \n",
       "휠체어리프트      0.000887  0.013310  0.005324  0.010204  0.035936   \n",
       "\n",
       "검사결과        조건부합격(12개월이하/서류검사)  조건부합격(12개월이하/현장검사)  조건부합격(1개월/서류검사)  \\\n",
       "검사당시승강기구분                                                             \n",
       "경사형엘리베이터                   NaN                 NaN         0.083333   \n",
       "무빙워크                  0.018334            0.004191         0.129387   \n",
       "소형화물용엘리베이터                 NaN                 NaN         0.109960   \n",
       "에스컬레이터                0.001366            0.000683         0.155822   \n",
       "엘리베이터                 0.000436            0.001043         0.149623   \n",
       "주택형엘리베이터                   NaN                 NaN         0.139394   \n",
       "휠체어리프트                     NaN                 NaN         0.087400   \n",
       "\n",
       "검사결과        조건부합격(1개월/현장검사)  조건부합격(2개월/서류검사)  조건부합격(2개월/현장검사)  조건부합격(차기안전검사)  \\\n",
       "검사당시승강기구분                                                                      \n",
       "경사형엘리베이터                NaN              NaN              NaN            NaN   \n",
       "무빙워크               0.010739         0.061289         0.003667       0.002619   \n",
       "소형화물용엘리베이터         0.003008         0.007687         0.001337            NaN   \n",
       "에스컬레이터             0.007513         0.033742         0.003279       0.001594   \n",
       "엘리베이터              0.003891         0.119187         0.010569       0.000923   \n",
       "주택형엘리베이터           0.003030         0.009091         0.003030            NaN   \n",
       "휠체어리프트             0.000887         0.012422              NaN            NaN   \n",
       "\n",
       "검사결과        조건부합격(현장시정조치)    조건후불합격     조건후합격    차기안전검사        합격  \n",
       "검사당시승강기구분                                                          \n",
       "경사형엘리베이터         0.166667  0.083333  0.083333       NaN  0.250000  \n",
       "무빙워크             0.025668  0.005238  0.194081  0.032478  0.493190  \n",
       "소형화물용엘리베이터       0.048463  0.001337  0.122326       NaN  0.679144  \n",
       "에스컬레이터           0.070124  0.002869  0.198124  0.003370  0.475661  \n",
       "엘리베이터            0.037640  0.003324  0.267978  0.004872  0.373103  \n",
       "주택형엘리베이터         0.042424  0.003030  0.163636       NaN  0.509091  \n",
       "휠체어리프트           0.028394       NaN  0.106921       NaN  0.698314  "
      ]
     },
     "execution_count": 46,
     "metadata": {},
     "output_type": "execute_result"
    }
   ],
   "source": [
    "# 비율 사용 예시\n",
    "print(\"=== 검사당시승강기구분 vs 검사결과 비율 ===\")\n",
    "grouped_ratio_table(df, '검사당시승강기구분', '검사결과')"
   ]
  },
  {
   "cell_type": "markdown",
   "id": "45462df9-d0b8-4e6f-9e4b-1620739e634a",
   "metadata": {},
   "source": [
    "- 어떤 승강기 종류가 불합격률이 높은가 → 설계/유지관리 문제 포착 가능"
   ]
  },
  {
   "cell_type": "code",
   "execution_count": 47,
   "id": "572c2fdf-46ec-46fc-a7ee-5896facc18fd",
   "metadata": {},
   "outputs": [],
   "source": [
    "# # 건수 사용 예시\n",
    "# print(\"=== 검사당시승강기구분 vs 검사결과 건수 ===\")\n",
    "# grouped_ratio_table(df, '검사당시승강기구분', '검사결과', normalize=False)"
   ]
  },
  {
   "cell_type": "markdown",
   "id": "6ef80bf1-abc1-43f1-adb3-29046d47b2bd",
   "metadata": {},
   "source": [
    "### 함수 2"
   ]
  },
  {
   "cell_type": "code",
   "execution_count": 48,
   "id": "def998e7-13fe-4777-a6b9-efeeb505dfe8",
   "metadata": {},
   "outputs": [],
   "source": [
    "def filter_crosstab(df, group_col, target_col,\n",
    "                    row_values=None, col_values=None,\n",
    "                    normalize=True):\n",
    "    \"\"\"\n",
    "    전체 교차표 생성 후, 특정 행(row)/열(column)만 필터링\n",
    "    \n",
    "    Parameters:\n",
    "    - df: 전체 DataFrame\n",
    "    - group_col: 행 기준 (예: '지역')\n",
    "    - target_col: 열 기준 (예: '승강기종류')\n",
    "    - row_values: group_col 중 보고 싶은 값 리스트\n",
    "    - col_values: target_col 중 보고 싶은 값 리스트\n",
    "    - normalize: True면 비율, False면 건수\n",
    "    \n",
    "    Returns:\n",
    "    - 필터된 교차표 DataFrame\n",
    "    \"\"\"\n",
    "    table = df.groupby(group_col)[target_col].value_counts(normalize=normalize).unstack()\n",
    "\n",
    "    if row_values is not None:\n",
    "        table = table.loc[table.index.intersection(row_values)]\n",
    "    if col_values is not None:\n",
    "        table = table.loc[:, table.columns.intersection(col_values)]\n",
    "        \n",
    "    return table"
   ]
  },
  {
   "cell_type": "code",
   "execution_count": 49,
   "id": "af7dd63b-2293-429e-b752-eb12750095c0",
   "metadata": {},
   "outputs": [
    {
     "data": {
      "text/html": [
       "<div>\n",
       "<style scoped>\n",
       "    .dataframe tbody tr th:only-of-type {\n",
       "        vertical-align: middle;\n",
       "    }\n",
       "\n",
       "    .dataframe tbody tr th {\n",
       "        vertical-align: top;\n",
       "    }\n",
       "\n",
       "    .dataframe thead th {\n",
       "        text-align: right;\n",
       "    }\n",
       "</style>\n",
       "<table border=\"1\" class=\"dataframe\">\n",
       "  <thead>\n",
       "    <tr style=\"text-align: right;\">\n",
       "      <th>검사결과</th>\n",
       "      <th>보완후불합격</th>\n",
       "      <th>보완후합격</th>\n",
       "      <th>불합격</th>\n",
       "      <th>합격</th>\n",
       "    </tr>\n",
       "    <tr>\n",
       "      <th>검사당시승강기종류</th>\n",
       "      <th></th>\n",
       "      <th></th>\n",
       "      <th></th>\n",
       "      <th></th>\n",
       "    </tr>\n",
       "  </thead>\n",
       "  <tbody>\n",
       "    <tr>\n",
       "      <th>소방구조용</th>\n",
       "      <td>NaN</td>\n",
       "      <td>0.004475</td>\n",
       "      <td>0.003088</td>\n",
       "      <td>0.312795</td>\n",
       "    </tr>\n",
       "    <tr>\n",
       "      <th>승객용</th>\n",
       "      <td>0.000127</td>\n",
       "      <td>0.011382</td>\n",
       "      <td>0.006246</td>\n",
       "      <td>0.415503</td>\n",
       "    </tr>\n",
       "    <tr>\n",
       "      <th>승객용(장애인겸용)</th>\n",
       "      <td>NaN</td>\n",
       "      <td>0.090909</td>\n",
       "      <td>0.090909</td>\n",
       "      <td>0.272727</td>\n",
       "    </tr>\n",
       "    <tr>\n",
       "      <th>에스컬레이터</th>\n",
       "      <td>0.000182</td>\n",
       "      <td>0.018123</td>\n",
       "      <td>0.007650</td>\n",
       "      <td>0.475661</td>\n",
       "    </tr>\n",
       "    <tr>\n",
       "      <th>장애인용</th>\n",
       "      <td>0.000345</td>\n",
       "      <td>0.015592</td>\n",
       "      <td>0.007523</td>\n",
       "      <td>0.394988</td>\n",
       "    </tr>\n",
       "    <tr>\n",
       "      <th>화물용</th>\n",
       "      <td>0.000152</td>\n",
       "      <td>0.018052</td>\n",
       "      <td>0.020252</td>\n",
       "      <td>0.376972</td>\n",
       "    </tr>\n",
       "  </tbody>\n",
       "</table>\n",
       "</div>"
      ],
      "text/plain": [
       "검사결과          보완후불합격     보완후합격       불합격        합격\n",
       "검사당시승강기종류                                         \n",
       "소방구조용            NaN  0.004475  0.003088  0.312795\n",
       "승객용         0.000127  0.011382  0.006246  0.415503\n",
       "승객용(장애인겸용)       NaN  0.090909  0.090909  0.272727\n",
       "에스컬레이터      0.000182  0.018123  0.007650  0.475661\n",
       "장애인용        0.000345  0.015592  0.007523  0.394988\n",
       "화물용         0.000152  0.018052  0.020252  0.376972"
      ]
     },
     "execution_count": 49,
     "metadata": {},
     "output_type": "execute_result"
    }
   ],
   "source": [
    "# 비율 사용 예시\n",
    "filter_crosstab(df,\n",
    "                group_col='검사당시승강기종류',\n",
    "                target_col='검사결과',\n",
    "                row_values=['승객용', '화물용', '소방구조용', '장애인용', '에스컬레이터', '승객용(장애인겸용)'],\n",
    "                col_values=['합격', '조건부합격', '불합격', '보완후합격', '보완후불합격'],\n",
    "                normalize=True)"
   ]
  },
  {
   "cell_type": "code",
   "execution_count": 50,
   "id": "316a5c58-6f08-419c-83e3-86a994311277",
   "metadata": {},
   "outputs": [
    {
     "data": {
      "text/html": [
       "<div>\n",
       "<style scoped>\n",
       "    .dataframe tbody tr th:only-of-type {\n",
       "        vertical-align: middle;\n",
       "    }\n",
       "\n",
       "    .dataframe tbody tr th {\n",
       "        vertical-align: top;\n",
       "    }\n",
       "\n",
       "    .dataframe thead th {\n",
       "        text-align: right;\n",
       "    }\n",
       "</style>\n",
       "<table border=\"1\" class=\"dataframe\">\n",
       "  <thead>\n",
       "    <tr style=\"text-align: right;\">\n",
       "      <th>검사결과</th>\n",
       "      <th>보완후불합격</th>\n",
       "      <th>보완후합격</th>\n",
       "      <th>불합격</th>\n",
       "      <th>합격</th>\n",
       "    </tr>\n",
       "    <tr>\n",
       "      <th>검사당시승강기종류</th>\n",
       "      <th></th>\n",
       "      <th></th>\n",
       "      <th></th>\n",
       "      <th></th>\n",
       "    </tr>\n",
       "  </thead>\n",
       "  <tbody>\n",
       "    <tr>\n",
       "      <th>소방구조용</th>\n",
       "      <td>NaN</td>\n",
       "      <td>129.0</td>\n",
       "      <td>89.0</td>\n",
       "      <td>9016.0</td>\n",
       "    </tr>\n",
       "    <tr>\n",
       "      <th>승객용</th>\n",
       "      <td>28.0</td>\n",
       "      <td>2502.0</td>\n",
       "      <td>1373.0</td>\n",
       "      <td>91333.0</td>\n",
       "    </tr>\n",
       "    <tr>\n",
       "      <th>승객용(장애인겸용)</th>\n",
       "      <td>NaN</td>\n",
       "      <td>1.0</td>\n",
       "      <td>1.0</td>\n",
       "      <td>3.0</td>\n",
       "    </tr>\n",
       "    <tr>\n",
       "      <th>에스컬레이터</th>\n",
       "      <td>4.0</td>\n",
       "      <td>398.0</td>\n",
       "      <td>168.0</td>\n",
       "      <td>10446.0</td>\n",
       "    </tr>\n",
       "    <tr>\n",
       "      <th>장애인용</th>\n",
       "      <td>53.0</td>\n",
       "      <td>2396.0</td>\n",
       "      <td>1156.0</td>\n",
       "      <td>60697.0</td>\n",
       "    </tr>\n",
       "    <tr>\n",
       "      <th>화물용</th>\n",
       "      <td>2.0</td>\n",
       "      <td>238.0</td>\n",
       "      <td>267.0</td>\n",
       "      <td>4970.0</td>\n",
       "    </tr>\n",
       "  </tbody>\n",
       "</table>\n",
       "</div>"
      ],
      "text/plain": [
       "검사결과        보완후불합격   보완후합격     불합격       합격\n",
       "검사당시승강기종류                                  \n",
       "소방구조용          NaN   129.0    89.0   9016.0\n",
       "승객용           28.0  2502.0  1373.0  91333.0\n",
       "승객용(장애인겸용)     NaN     1.0     1.0      3.0\n",
       "에스컬레이터         4.0   398.0   168.0  10446.0\n",
       "장애인용          53.0  2396.0  1156.0  60697.0\n",
       "화물용            2.0   238.0   267.0   4970.0"
      ]
     },
     "execution_count": 50,
     "metadata": {},
     "output_type": "execute_result"
    }
   ],
   "source": [
    "# 건수 사용 예시\n",
    "filter_crosstab(df,\n",
    "                group_col='검사당시승강기종류',\n",
    "                target_col='검사결과',\n",
    "                row_values=['승객용', '화물용', '소방구조용', '장애인용', '에스컬레이터', '승객용(장애인겸용)'],\n",
    "                col_values=['합격', '조건부합격', '불합격', '보완후합격', '보완후불합격'],\n",
    "                normalize=False)"
   ]
  },
  {
   "cell_type": "markdown",
   "id": "e8fc32df-4280-4407-b528-040c1fcacb85",
   "metadata": {},
   "source": [
    "### 함수 3"
   ]
  },
  {
   "cell_type": "code",
   "execution_count": 51,
   "id": "3e541c1a-676b-407a-a89a-3f5312766994",
   "metadata": {},
   "outputs": [],
   "source": [
    "def merged_ratio_count_table(df, group_col, target_col,\n",
    "                              row_values=None, col_values=None,\n",
    "                              sort_mode='suffix-first',\n",
    "                              order=['비율', '건수']):\n",
    "    \"\"\"\n",
    "    비율 교차표와 건수 교차표를 병합하고 선택한 행/열만 필터링, 열 순서 정렬까지 하나의 함수로 처리\n",
    "\n",
    "    Parameters:\n",
    "    - df: DataFrame\n",
    "    - group_col: 행 기준 변수 (예: '지역')\n",
    "    - target_col: 열 기준 변수 (예: '승강기종류')\n",
    "    - row_values: 선택할 행 인덱스 (None이면 전체)\n",
    "    - col_values: 선택할 열 값 (None이면 전체)\n",
    "    - sort_mode: 열 정렬 방식 - 'suffix-first' 또는 'prefix-first'\n",
    "        - 'suffix-first': 항목별로 비율 → 건수 순서로 정렬  \n",
    "          예: ['승객용_비율', '승객용_건수', '화물용_비율', '화물용_건수']\n",
    "        - 'prefix-first': 비율 열들을 모두 먼저, 그다음 건수 열들을 정렬  \n",
    "          예: ['승객용_비율', '화물용_비율', '승객용_건수', '화물용_건수']\n",
    "    - order: 접미사 순서 지정 (허용된 값만 가능: ['비율', '건수'] 또는 ['건수', '비율'])\n",
    "\n",
    "    Returns:\n",
    "    - 병합된 정렬된 교차표 DataFrame\n",
    "    \"\"\"\n",
    "\n",
    "    from collections import defaultdict\n",
    "\n",
    "    # === Step 0. order 유효성 검사 ===\n",
    "    if set(order) != {'비율', '건수'} or len(order) != 2:\n",
    "        raise ValueError(\"order must be exactly ['비율', '건수'] or ['건수', '비율']\")\n",
    "\n",
    "    # === Step 1. 전체 교차표 생성 (비율, 건수) ===\n",
    "    ratio = df.groupby(group_col)[target_col].value_counts(normalize=True).unstack()\n",
    "    count = df.groupby(group_col)[target_col].value_counts(normalize=False).unstack()\n",
    "\n",
    "    # === Step 2. 열 필터링 ===\n",
    "    if col_values is not None:\n",
    "        ratio = ratio.loc[:, ratio.columns.intersection(col_values)]\n",
    "        count = count.loc[:, count.columns.intersection(col_values)]\n",
    "\n",
    "    # === Step 3. 열 이름 변경 ===\n",
    "    ratio.columns = [f\"{col}_비율\" for col in ratio.columns]\n",
    "    count.columns = [f\"{col}_건수\" for col in count.columns]\n",
    "\n",
    "    # === Step 4. 병합 ===\n",
    "    merged = pd.concat([ratio, count], axis=1)\n",
    "\n",
    "    # === Step 5. 열 순서 재정렬 ===\n",
    "    prefix_groups = defaultdict(dict)\n",
    "    for col in merged.columns:\n",
    "        if '_' in col:\n",
    "            prefix, suffix = col.rsplit('_', 1)\n",
    "            prefix_groups[prefix][suffix] = col\n",
    "\n",
    "    ordered_cols = []\n",
    "    if sort_mode == 'suffix-first':\n",
    "        for prefix in sorted(prefix_groups):\n",
    "            for suffix in order:\n",
    "                if suffix in prefix_groups[prefix]:\n",
    "                    ordered_cols.append(prefix_groups[prefix][suffix])\n",
    "    elif sort_mode == 'prefix-first':\n",
    "        for suffix in order:\n",
    "            for prefix in sorted(prefix_groups):\n",
    "                if suffix in prefix_groups[prefix]:\n",
    "                    ordered_cols.append(prefix_groups[prefix][suffix])\n",
    "    else:\n",
    "        raise ValueError(\"sort_mode must be 'suffix-first' or 'prefix-first'\")\n",
    "\n",
    "    merged = merged[ordered_cols]\n",
    "\n",
    "    # === Step 6. 행 필터링 ===\n",
    "    if row_values is not None:\n",
    "        merged = merged.loc[merged.index.intersection(row_values)]\n",
    "\n",
    "    return merged"
   ]
  },
  {
   "cell_type": "code",
   "execution_count": 52,
   "id": "2f3c3c5b-e812-469f-9f16-f343a67282fd",
   "metadata": {},
   "outputs": [
    {
     "data": {
      "text/html": [
       "<div>\n",
       "<style scoped>\n",
       "    .dataframe tbody tr th:only-of-type {\n",
       "        vertical-align: middle;\n",
       "    }\n",
       "\n",
       "    .dataframe tbody tr th {\n",
       "        vertical-align: top;\n",
       "    }\n",
       "\n",
       "    .dataframe thead th {\n",
       "        text-align: right;\n",
       "    }\n",
       "</style>\n",
       "<table border=\"1\" class=\"dataframe\">\n",
       "  <thead>\n",
       "    <tr style=\"text-align: right;\">\n",
       "      <th></th>\n",
       "      <th>보완후불합격_비율</th>\n",
       "      <th>보완후합격_비율</th>\n",
       "      <th>불합격_비율</th>\n",
       "      <th>합격_비율</th>\n",
       "      <th>보완후불합격_건수</th>\n",
       "      <th>보완후합격_건수</th>\n",
       "      <th>불합격_건수</th>\n",
       "      <th>합격_건수</th>\n",
       "    </tr>\n",
       "    <tr>\n",
       "      <th>검사기관</th>\n",
       "      <th></th>\n",
       "      <th></th>\n",
       "      <th></th>\n",
       "      <th></th>\n",
       "      <th></th>\n",
       "      <th></th>\n",
       "      <th></th>\n",
       "      <th></th>\n",
       "    </tr>\n",
       "  </thead>\n",
       "  <tbody>\n",
       "    <tr>\n",
       "      <th>(재)승강기안전기술연구원 서울지원</th>\n",
       "      <td>NaN</td>\n",
       "      <td>NaN</td>\n",
       "      <td>0.002644</td>\n",
       "      <td>0.396316</td>\n",
       "      <td>NaN</td>\n",
       "      <td>NaN</td>\n",
       "      <td>63.0</td>\n",
       "      <td>9445.0</td>\n",
       "    </tr>\n",
       "    <tr>\n",
       "      <th>한국승강기안전공단 경기북부지사</th>\n",
       "      <td>0.000079</td>\n",
       "      <td>0.009148</td>\n",
       "      <td>0.005165</td>\n",
       "      <td>0.210757</td>\n",
       "      <td>2.0</td>\n",
       "      <td>232.0</td>\n",
       "      <td>131.0</td>\n",
       "      <td>5345.0</td>\n",
       "    </tr>\n",
       "    <tr>\n",
       "      <th>한국승강기안전공단 고양파주지사</th>\n",
       "      <td>0.000248</td>\n",
       "      <td>0.012813</td>\n",
       "      <td>0.007549</td>\n",
       "      <td>0.286551</td>\n",
       "      <td>5.0</td>\n",
       "      <td>258.0</td>\n",
       "      <td>152.0</td>\n",
       "      <td>5770.0</td>\n",
       "    </tr>\n",
       "    <tr>\n",
       "      <th>한국승강기안전공단 대전지사</th>\n",
       "      <td>0.000110</td>\n",
       "      <td>0.015049</td>\n",
       "      <td>0.004888</td>\n",
       "      <td>0.426704</td>\n",
       "      <td>2.0</td>\n",
       "      <td>274.0</td>\n",
       "      <td>89.0</td>\n",
       "      <td>7769.0</td>\n",
       "    </tr>\n",
       "    <tr>\n",
       "      <th>한국승강기안전공단 성남지사</th>\n",
       "      <td>0.000118</td>\n",
       "      <td>0.009091</td>\n",
       "      <td>0.009209</td>\n",
       "      <td>0.384652</td>\n",
       "      <td>2.0</td>\n",
       "      <td>154.0</td>\n",
       "      <td>156.0</td>\n",
       "      <td>6516.0</td>\n",
       "    </tr>\n",
       "    <tr>\n",
       "      <th>한국승강기안전공단 충북지사</th>\n",
       "      <td>0.000058</td>\n",
       "      <td>0.012468</td>\n",
       "      <td>0.005277</td>\n",
       "      <td>0.437486</td>\n",
       "      <td>1.0</td>\n",
       "      <td>215.0</td>\n",
       "      <td>91.0</td>\n",
       "      <td>7544.0</td>\n",
       "    </tr>\n",
       "    <tr>\n",
       "      <th>한국승강기안전공단 화성오산지사</th>\n",
       "      <td>0.000415</td>\n",
       "      <td>0.022175</td>\n",
       "      <td>0.008182</td>\n",
       "      <td>0.303925</td>\n",
       "      <td>7.0</td>\n",
       "      <td>374.0</td>\n",
       "      <td>138.0</td>\n",
       "      <td>5126.0</td>\n",
       "    </tr>\n",
       "  </tbody>\n",
       "</table>\n",
       "</div>"
      ],
      "text/plain": [
       "                    보완후불합격_비율  보완후합격_비율    불합격_비율     합격_비율  보완후불합격_건수  \\\n",
       "검사기관                                                                     \n",
       "(재)승강기안전기술연구원 서울지원        NaN       NaN  0.002644  0.396316        NaN   \n",
       "한국승강기안전공단 경기북부지사     0.000079  0.009148  0.005165  0.210757        2.0   \n",
       "한국승강기안전공단 고양파주지사     0.000248  0.012813  0.007549  0.286551        5.0   \n",
       "한국승강기안전공단 대전지사       0.000110  0.015049  0.004888  0.426704        2.0   \n",
       "한국승강기안전공단 성남지사       0.000118  0.009091  0.009209  0.384652        2.0   \n",
       "한국승강기안전공단 충북지사       0.000058  0.012468  0.005277  0.437486        1.0   \n",
       "한국승강기안전공단 화성오산지사     0.000415  0.022175  0.008182  0.303925        7.0   \n",
       "\n",
       "                    보완후합격_건수  불합격_건수   합격_건수  \n",
       "검사기관                                          \n",
       "(재)승강기안전기술연구원 서울지원       NaN    63.0  9445.0  \n",
       "한국승강기안전공단 경기북부지사       232.0   131.0  5345.0  \n",
       "한국승강기안전공단 고양파주지사       258.0   152.0  5770.0  \n",
       "한국승강기안전공단 대전지사         274.0    89.0  7769.0  \n",
       "한국승강기안전공단 성남지사         154.0   156.0  6516.0  \n",
       "한국승강기안전공단 충북지사         215.0    91.0  7544.0  \n",
       "한국승강기안전공단 화성오산지사       374.0   138.0  5126.0  "
      ]
     },
     "execution_count": 52,
     "metadata": {},
     "output_type": "execute_result"
    }
   ],
   "source": [
    "# 사용 예시\n",
    "merged_ratio_count_table(\n",
    "    df,\n",
    "    group_col='검사기관',\n",
    "    target_col='검사결과',\n",
    "    row_values=[\n",
    "    \"(재)승강기안전기술연구원 서울지원\",\n",
    "    \"한국승강기안전공단 경기북부지사\",\n",
    "    \"한국승강기안전공단 고양파주지사\",\n",
    "    \"한국승강기안전공단 화성오산지사\",\n",
    "    \"한국승강기안전공단 대전지사\",\n",
    "    \"한국승강기안전공단 충북지사\",\n",
    "    \"한국승강기안전공단 성남지사\"\n",
    "    ],\n",
    "    col_values=['합격', '조건부합격', '불합격', '보완후합격', '보완후불합격'],\n",
    "    sort_mode='prefix-first',\n",
    "    order=['비율', '건수']\n",
    ")"
   ]
  },
  {
   "cell_type": "markdown",
   "id": "9f2df515-a4c8-4c50-bdba-c0fcd896ba14",
   "metadata": {},
   "source": [
    "# 3. Data 전처리"
   ]
  },
  {
   "cell_type": "markdown",
   "id": "009fa2f8-587c-403e-9f38-1770933810bb",
   "metadata": {},
   "source": [
    "## 1. 결측치 처리"
   ]
  },
  {
   "cell_type": "markdown",
   "id": "594a91e3-9302-442d-bfcb-8b192d1d54ad",
   "metadata": {},
   "source": [
    "- 필요시 할 예정"
   ]
  },
  {
   "cell_type": "markdown",
   "id": "0380bda0-cadd-47a5-bfd4-2e2599edff5d",
   "metadata": {},
   "source": [
    "## 2. 이상치 처리"
   ]
  },
  {
   "cell_type": "markdown",
   "id": "a70753dc-191b-49eb-81cd-06b37ccd8c29",
   "metadata": {},
   "source": [
    "- 필요시 할 예정"
   ]
  },
  {
   "cell_type": "markdown",
   "id": "8dc51b3c-2a18-43e0-8fdd-36e91e33b682",
   "metadata": {},
   "source": [
    "## 3. 동일값 처리"
   ]
  },
  {
   "cell_type": "code",
   "execution_count": 53,
   "id": "d314419b-9bdc-452f-a185-122427bec680",
   "metadata": {},
   "outputs": [
    {
     "data": {
      "text/plain": [
       "array(['권상식', '유압식', '스텝식', '유압식 ', '팔레트식', '가이드로프식', '마찰견인식', '포지티브식',\n",
       "       '로프현수식', '스크류-너트식', '체인현수식', '벨트식', '체인식  ', '랙-피니언식', '체인식'],\n",
       "      dtype=object)"
      ]
     },
     "execution_count": 53,
     "metadata": {},
     "output_type": "execute_result"
    }
   ],
   "source": [
    "df['검사당시승강기형식'].unique()"
   ]
  },
  {
   "cell_type": "code",
   "execution_count": 54,
   "id": "525c9d5f-8267-40d9-b569-709a52335fd2",
   "metadata": {},
   "outputs": [
    {
     "data": {
      "text/plain": [
       "검사당시승강기형식\n",
       "권상식        592885\n",
       "스텝식         21961\n",
       "유압식         14545\n",
       "팔레트식         3789\n",
       "스크류-너트식       492\n",
       "가이드로프식        309\n",
       "포지티브식         202\n",
       "유압식           177\n",
       "마찰견인식         130\n",
       "로프현수식          86\n",
       "벨트식            29\n",
       "체인식            19\n",
       "체인식             3\n",
       "체인현수식           2\n",
       "랙-피니언식          1\n",
       "Name: count, dtype: int64"
      ]
     },
     "execution_count": 54,
     "metadata": {},
     "output_type": "execute_result"
    }
   ],
   "source": [
    "df['검사당시승강기형식'].value_counts()"
   ]
  },
  {
   "cell_type": "code",
   "execution_count": 55,
   "id": "4412f62a-378a-47c1-b80c-158a41eca28c",
   "metadata": {},
   "outputs": [
    {
     "data": {
      "text/plain": [
       "array(['권상식', '유압식', '스텝식', '팔레트식', '가이드로프식', '마찰견인식', '포지티브식', '로프현수식',\n",
       "       '스크류-너트식', '체인현수식', '벨트식', '체인식', '랙-피니언식'], dtype=object)"
      ]
     },
     "execution_count": 55,
     "metadata": {},
     "output_type": "execute_result"
    }
   ],
   "source": [
    "df['검사당시승강기형식'].str.strip().unique()"
   ]
  },
  {
   "cell_type": "code",
   "execution_count": 56,
   "id": "8f3f45b2-b56a-46a3-b50f-8383482ce650",
   "metadata": {},
   "outputs": [
    {
     "data": {
      "text/plain": [
       "검사당시승강기형식\n",
       "권상식        592885\n",
       "스텝식         21961\n",
       "유압식         14722\n",
       "팔레트식         3789\n",
       "스크류-너트식       492\n",
       "가이드로프식        309\n",
       "포지티브식         202\n",
       "마찰견인식         130\n",
       "로프현수식          86\n",
       "벨트식            29\n",
       "체인식            22\n",
       "체인현수식           2\n",
       "랙-피니언식          1\n",
       "Name: count, dtype: int64"
      ]
     },
     "execution_count": 56,
     "metadata": {},
     "output_type": "execute_result"
    }
   ],
   "source": [
    "df['검사당시승강기형식'].str.strip().value_counts()"
   ]
  },
  {
   "cell_type": "code",
   "execution_count": 57,
   "id": "4302997b-f4fb-42cb-933b-5733a71758be",
   "metadata": {},
   "outputs": [],
   "source": [
    "# df['검사당시승강기형식'] = df['검사당시승강기형식'].str.strip()"
   ]
  },
  {
   "cell_type": "markdown",
   "id": "26bedbe0-b4df-4650-ab5b-f7a5db285145",
   "metadata": {},
   "source": [
    "# 참고 자료"
   ]
  },
  {
   "cell_type": "markdown",
   "id": "eb966129-4322-4108-a312-fce26000bf80",
   "metadata": {},
   "source": [
    "## 1."
   ]
  },
  {
   "cell_type": "markdown",
   "id": "fb6d8afa-e1e2-4b5b-9be5-a8159ab13e10",
   "metadata": {},
   "source": [
    "승강기 형식은 구동 방식과 구조에 따라 다양한 형태로 나뉩니다. 아래는 각 형식에 대한 간단한 설명입니다:\n",
    "\n",
    "1. **권상식**: 전동기를 이용하여 와이어 로프를 감거나 풀어 승강기를 이동시키는 방식입니다. 주로 고층 건물에서 사용됩니다.\n",
    "\n",
    "2. **유압식**: 유압 실린더를 이용하여 승강기를 상승시키며, 중소형 건물에 적합합니다.\n",
    "\n",
    "3. **스텝식**: 일정한 간격으로 정지하는 방식으로, 주로 에스컬레이터나 무빙워크에 적용됩니다.\n",
    "\n",
    "4. **팔레트식**: 화물 운반용으로, 팔레트를 이용하여 물품을 승강시키는 방식입니다.\n",
    "\n",
    "5. **가이드로프식**: 승강기의 이동을 안내하는 로프를 사용하는 방식으로, 안정성을 높입니다.\n",
    "\n",
    "6. **마찰견인식**: 마찰력을 이용하여 로프를 견인하는 방식으로, 고층 건물에 적합합니다.\n",
    "\n",
    "7. **포지티브식**: 기계적인 연결을 통해 직접 승강기를 이동시키는 방식으로, 정확한 위치 제어가 가능합니다.\n",
    "\n",
    "8. **로프현수식**: 로프에 승강기를 매달아 이동시키는 방식으로, 일반적인 엘리베이터에서 사용됩니다.\n",
    "\n",
    "9. **스크류-너트식**: 스크류와 너트를 이용하여 승강기를 이동시키는 방식으로, 정밀한 제어가 가능합니다.\n",
    "\n",
    "10. **체인현수식**: 체인을 이용하여 승강기를 매달아 이동시키는 방식으로, 내구성이 높습니다.\n",
    "\n",
    "11. **벨트식**: 벨트를 이용하여 승강기를 이동시키는 방식으로, 소음이 적고 유지보수가 용이합니다.\n",
    "\n",
    "12. **체인식**: 체인을 이용하여 승강기를 이동시키는 방식으로, 강한 인장력을 제공합니다.\n",
    "\n",
    "13. **랙-피니언식**: 기어와 랙을 이용하여 승강기를 이동시키는 방식으로, 경사면에서도 사용 가능합니다."
   ]
  },
  {
   "cell_type": "markdown",
   "id": "dd154491-a097-4c01-a3d0-1f1c68c4bc09",
   "metadata": {},
   "source": [
    "## 2."
   ]
  },
  {
   "cell_type": "markdown",
   "id": "10796077-4016-4ecc-933e-5d2ae6f3bc43",
   "metadata": {},
   "source": [
    "승강기의 세부 형식은 구동 방식, 설치 환경, 용도에 따라 다양하게 분류됩니다. 아래는 주어진 목록에 대한 간단한 설명입니다:\n",
    "\n",
    "---\n",
    "\n",
    "> 전기적 구동 방식\n",
    "\n",
    "1. **VVVF (Variable Voltage Variable Frequency)**\n",
    "   전압과 주파수를 가변적으로 조절하여 모터의 속도와 토크를 제어하는 방식으로, 승강기의 부드러운 가속과 감속을 가능하게 하여 승차감을 향상시키고 에너지 효율성을 높입니다.&#x20;\n",
    "\n",
    "2. **교류 (AC)**\n",
    "   교류 전원을 사용하는 모터로 구동되는 방식으로, 유지보수가 간편하고 비용 효율적이며, 현대 승강기에서 널리 사용됩니다.\n",
    "\n",
    "3. **직류기어 (DC Geared)**\n",
    "   기어박스를 통해 모터의 회전력을 전달하는 방식으로, 중저속 승강기에 적합하며, 유지보수가 필요합니다.\n",
    "\n",
    "4. **직류무기어 (DC Gearless)**\n",
    "   기어 없이 모터와 드라이브 풀리를 직접 연결하는 방식으로, 고속 운행이 가능하며, 고층 건물에 적합합니다.&#x20;\n",
    "\n",
    "---\n",
    "\n",
    "> 설치 환경 및 구조에 따른 분류\n",
    "\n",
    "5. **수직형 LIFT (4m 이하)**\n",
    "   4미터 이하의 높이를 이동하는 리프트로, 주로 휠체어 사용자나 소형 화물 운반에 사용됩니다.\n",
    "\n",
    "6. **수직형 LIFT (4m 초과)**\n",
    "   4미터를 초과하는 높이를 이동하는 리프트로, 상업용 또는 산업용으로 사용되며, 안전성과 구조적 안정성이 중요합니다.\n",
    "\n",
    "7. **경사형 LIFT**\n",
    "   경사진 레일을 따라 이동하는 리프트로, 지형의 경사를 따라 설치되며, 주로 언덕이나 계단이 있는 장소에서 사용됩니다.&#x20;\n",
    "\n",
    "---\n",
    "\n",
    "이러한 세부 형식은 건물의 구조, 용도, 사용자 요구사항에 따라 선택되며, 각각의 방식은 특정한 장점과 제한사항을 가지고 있습니다."
   ]
  }
 ],
 "metadata": {
  "kernelspec": {
   "display_name": "Python 3 (ipykernel)",
   "language": "python",
   "name": "python3"
  },
  "language_info": {
   "codemirror_mode": {
    "name": "ipython",
    "version": 3
   },
   "file_extension": ".py",
   "mimetype": "text/x-python",
   "name": "python",
   "nbconvert_exporter": "python",
   "pygments_lexer": "ipython3",
   "version": "3.10.17"
  }
 },
 "nbformat": 4,
 "nbformat_minor": 5
}
